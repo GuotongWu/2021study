{
 "metadata": {
  "language_info": {
   "codemirror_mode": {
    "name": "ipython",
    "version": 3
   },
   "file_extension": ".py",
   "mimetype": "text/x-python",
   "name": "python",
   "nbconvert_exporter": "python",
   "pygments_lexer": "ipython3",
   "version": "3.9.1-final"
  },
  "orig_nbformat": 2,
  "kernelspec": {
   "name": "python3",
   "display_name": "Python 3.9.1 64-bit",
   "metadata": {
    "interpreter": {
     "hash": "4ce0e62306dd6a5716965d4519ada776f947e6dfc145b604b11307c10277ef29"
    }
   }
  }
 },
 "nbformat": 4,
 "nbformat_minor": 2,
 "cells": [
  {
   "source": [
    "来源于官方资料：[十分钟入门pandas](https://www.pypandas.cn/docs/getting_started/10min.html#%E7%94%9F%E6%88%90%E5%AF%B9%E8%B1%A1)"
   ],
   "cell_type": "markdown",
   "metadata": {}
  },
  {
   "source": [
    "## 1. 创建数据集 "
   ],
   "cell_type": "markdown",
   "metadata": {}
  },
  {
   "cell_type": "code",
   "execution_count": 1,
   "metadata": {},
   "outputs": [],
   "source": [
    "import pandas as pd\n",
    "import numpy as np"
   ]
  },
  {
   "cell_type": "code",
   "execution_count": 2,
   "metadata": {},
   "outputs": [
    {
     "output_type": "stream",
     "name": "stdout",
     "text": [
      "0    1.0\n1    2.0\n2    3.0\n3    NaN\n4    4.0\ndtype: float64\n"
     ]
    }
   ],
   "source": [
    "# 用值列表生成Serises，默认自动生成整数索引\n",
    "s = pd.Series([1, 2, 3, np.nan, 4])\n",
    "print(s)"
   ]
  },
  {
   "cell_type": "code",
   "execution_count": 4,
   "metadata": {},
   "outputs": [
    {
     "output_type": "stream",
     "name": "stdout",
     "text": [
      "DatetimeIndex(['2021-02-20', '2021-02-21', '2021-02-22', '2021-02-23',\n               '2021-02-24', '2021-02-25'],\n              dtype='datetime64[ns]', freq='D')\n"
     ]
    }
   ],
   "source": [
    "dates = pd.date_range('20210220', periods=6)\n",
    "print(dates)"
   ]
  },
  {
   "cell_type": "code",
   "execution_count": 6,
   "metadata": {},
   "outputs": [
    {
     "output_type": "stream",
     "name": "stdout",
     "text": [
      "                   A         B         C         D\n2021-02-20 -0.575321  0.641131  0.277875  0.167075\n2021-02-21 -1.188967  0.516794  0.284324 -0.308114\n2021-02-22 -0.245231 -0.242355 -2.834809 -0.026509\n2021-02-23 -1.421828 -0.474671  0.953416 -0.907602\n2021-02-24 -0.640503 -0.712421 -1.224029  1.860798\n2021-02-25  0.815809  0.702502 -1.608049  1.129848\n"
     ]
    }
   ],
   "source": [
    "# 使用上述的时间索引生成数据集\n",
    "df = pd.DataFrame(np.random.randn(6, 4), index=dates, columns=list('ABCD'))"
   ]
  },
  {
   "cell_type": "code",
   "execution_count": 7,
   "metadata": {},
   "outputs": [
    {
     "output_type": "stream",
     "name": "stdout",
     "text": [
      "     A          B    C  D      E    F\n0  1.0 2013-01-02  1.0  3   test  foo\n1  1.0 2013-01-02  1.0  3  train  foo\n2  1.0 2013-01-02  1.0  3   test  foo\n3  1.0 2013-01-02  1.0  3  train  foo\n"
     ]
    }
   ],
   "source": [
    "# 使用Series字典对象生成数据集\n",
    "df2 = pd.DataFrame({'A': 1.,\n",
    "   ...:                     'B': pd.Timestamp('20130102'),\n",
    "   ...:                     'C': pd.Series(1, index=list(range(4)), dtype='float32'),\n",
    "   ...:                     'D': np.array([3] * 4, dtype='int32'),\n",
    "   ...:                     'E': pd.Categorical([\"test\", \"train\", \"test\", \"train\"]),\n",
    "   ...:                     'F': 'foo'})\n",
    "   ...:\n",
    "print(df2)"
   ]
  },
  {
   "cell_type": "code",
   "execution_count": 9,
   "metadata": {},
   "outputs": [
    {
     "output_type": "execute_result",
     "data": {
      "text/plain": [
       "A           float64\n",
       "B    datetime64[ns]\n",
       "C           float32\n",
       "D             int32\n",
       "E          category\n",
       "F            object\n",
       "dtype: object"
      ]
     },
     "metadata": {},
     "execution_count": 9
    }
   ],
   "source": [
    "# 查看不同属性列的类型\n",
    "df2.dtypes"
   ]
  },
  {
   "source": [
    "## 2. 查看对象"
   ],
   "cell_type": "markdown",
   "metadata": {}
  },
  {
   "cell_type": "code",
   "execution_count": 10,
   "metadata": {},
   "outputs": [
    {
     "output_type": "execute_result",
     "data": {
      "text/plain": [
       "                   A         B         C         D\n",
       "2021-02-20 -0.575321  0.641131  0.277875  0.167075\n",
       "2021-02-21 -1.188967  0.516794  0.284324 -0.308114\n",
       "2021-02-22 -0.245231 -0.242355 -2.834809 -0.026509\n",
       "2021-02-23 -1.421828 -0.474671  0.953416 -0.907602\n",
       "2021-02-24 -0.640503 -0.712421 -1.224029  1.860798"
      ],
      "text/html": "<div>\n<style scoped>\n    .dataframe tbody tr th:only-of-type {\n        vertical-align: middle;\n    }\n\n    .dataframe tbody tr th {\n        vertical-align: top;\n    }\n\n    .dataframe thead th {\n        text-align: right;\n    }\n</style>\n<table border=\"1\" class=\"dataframe\">\n  <thead>\n    <tr style=\"text-align: right;\">\n      <th></th>\n      <th>A</th>\n      <th>B</th>\n      <th>C</th>\n      <th>D</th>\n    </tr>\n  </thead>\n  <tbody>\n    <tr>\n      <th>2021-02-20</th>\n      <td>-0.575321</td>\n      <td>0.641131</td>\n      <td>0.277875</td>\n      <td>0.167075</td>\n    </tr>\n    <tr>\n      <th>2021-02-21</th>\n      <td>-1.188967</td>\n      <td>0.516794</td>\n      <td>0.284324</td>\n      <td>-0.308114</td>\n    </tr>\n    <tr>\n      <th>2021-02-22</th>\n      <td>-0.245231</td>\n      <td>-0.242355</td>\n      <td>-2.834809</td>\n      <td>-0.026509</td>\n    </tr>\n    <tr>\n      <th>2021-02-23</th>\n      <td>-1.421828</td>\n      <td>-0.474671</td>\n      <td>0.953416</td>\n      <td>-0.907602</td>\n    </tr>\n    <tr>\n      <th>2021-02-24</th>\n      <td>-0.640503</td>\n      <td>-0.712421</td>\n      <td>-1.224029</td>\n      <td>1.860798</td>\n    </tr>\n  </tbody>\n</table>\n</div>"
     },
     "metadata": {},
     "execution_count": 10
    }
   ],
   "source": [
    "df.head()"
   ]
  },
  {
   "cell_type": "code",
   "execution_count": 12,
   "metadata": {},
   "outputs": [
    {
     "output_type": "execute_result",
     "data": {
      "text/plain": [
       "                   A         B         C         D\n",
       "2021-02-21 -1.188967  0.516794  0.284324 -0.308114\n",
       "2021-02-22 -0.245231 -0.242355 -2.834809 -0.026509\n",
       "2021-02-23 -1.421828 -0.474671  0.953416 -0.907602\n",
       "2021-02-24 -0.640503 -0.712421 -1.224029  1.860798\n",
       "2021-02-25  0.815809  0.702502 -1.608049  1.129848"
      ],
      "text/html": "<div>\n<style scoped>\n    .dataframe tbody tr th:only-of-type {\n        vertical-align: middle;\n    }\n\n    .dataframe tbody tr th {\n        vertical-align: top;\n    }\n\n    .dataframe thead th {\n        text-align: right;\n    }\n</style>\n<table border=\"1\" class=\"dataframe\">\n  <thead>\n    <tr style=\"text-align: right;\">\n      <th></th>\n      <th>A</th>\n      <th>B</th>\n      <th>C</th>\n      <th>D</th>\n    </tr>\n  </thead>\n  <tbody>\n    <tr>\n      <th>2021-02-21</th>\n      <td>-1.188967</td>\n      <td>0.516794</td>\n      <td>0.284324</td>\n      <td>-0.308114</td>\n    </tr>\n    <tr>\n      <th>2021-02-22</th>\n      <td>-0.245231</td>\n      <td>-0.242355</td>\n      <td>-2.834809</td>\n      <td>-0.026509</td>\n    </tr>\n    <tr>\n      <th>2021-02-23</th>\n      <td>-1.421828</td>\n      <td>-0.474671</td>\n      <td>0.953416</td>\n      <td>-0.907602</td>\n    </tr>\n    <tr>\n      <th>2021-02-24</th>\n      <td>-0.640503</td>\n      <td>-0.712421</td>\n      <td>-1.224029</td>\n      <td>1.860798</td>\n    </tr>\n    <tr>\n      <th>2021-02-25</th>\n      <td>0.815809</td>\n      <td>0.702502</td>\n      <td>-1.608049</td>\n      <td>1.129848</td>\n    </tr>\n  </tbody>\n</table>\n</div>"
     },
     "metadata": {},
     "execution_count": 12
    }
   ],
   "source": [
    "df.tail()"
   ]
  },
  {
   "cell_type": "code",
   "execution_count": 13,
   "metadata": {},
   "outputs": [
    {
     "output_type": "execute_result",
     "data": {
      "text/plain": [
       "DatetimeIndex(['2021-02-20', '2021-02-21', '2021-02-22', '2021-02-23',\n",
       "               '2021-02-24', '2021-02-25'],\n",
       "              dtype='datetime64[ns]', freq='D')"
      ]
     },
     "metadata": {},
     "execution_count": 13
    }
   ],
   "source": [
    "df.index"
   ]
  },
  {
   "cell_type": "code",
   "execution_count": 14,
   "metadata": {},
   "outputs": [
    {
     "output_type": "execute_result",
     "data": {
      "text/plain": [
       "Index(['A', 'B', 'C', 'D'], dtype='object')"
      ]
     },
     "metadata": {},
     "execution_count": 14
    }
   ],
   "source": [
    "df.columns"
   ]
  },
  {
   "cell_type": "code",
   "execution_count": 16,
   "metadata": {},
   "outputs": [
    {
     "output_type": "execute_result",
     "data": {
      "text/plain": [
       "array([[1.0, Timestamp('2013-01-02 00:00:00'), 1.0, 3, 'test', 'foo'],\n",
       "       [1.0, Timestamp('2013-01-02 00:00:00'), 1.0, 3, 'train', 'foo'],\n",
       "       [1.0, Timestamp('2013-01-02 00:00:00'), 1.0, 3, 'test', 'foo'],\n",
       "       [1.0, Timestamp('2013-01-02 00:00:00'), 1.0, 3, 'train', 'foo']],\n",
       "      dtype=object)"
      ]
     },
     "metadata": {},
     "execution_count": 16
    }
   ],
   "source": [
    "# 查找支持numpy的对象\n",
    "df.to_numpy()\n",
    "df2.to_numpy()"
   ]
  },
  {
   "cell_type": "code",
   "execution_count": 17,
   "metadata": {},
   "outputs": [
    {
     "output_type": "execute_result",
     "data": {
      "text/plain": [
       "              A         B         C         D\n",
       "count  6.000000  6.000000  6.000000  6.000000\n",
       "mean  -0.542674  0.071830 -0.691878  0.319249\n",
       "std    0.791857  0.621654  1.436321  1.007462\n",
       "min   -1.421828 -0.712421 -2.834809 -0.907602\n",
       "25%   -1.051851 -0.416592 -1.512044 -0.237713\n",
       "50%   -0.607912  0.137219 -0.473077  0.070283\n",
       "75%   -0.327754  0.610046  0.282712  0.889155\n",
       "max    0.815809  0.702502  0.953416  1.860798"
      ],
      "text/html": "<div>\n<style scoped>\n    .dataframe tbody tr th:only-of-type {\n        vertical-align: middle;\n    }\n\n    .dataframe tbody tr th {\n        vertical-align: top;\n    }\n\n    .dataframe thead th {\n        text-align: right;\n    }\n</style>\n<table border=\"1\" class=\"dataframe\">\n  <thead>\n    <tr style=\"text-align: right;\">\n      <th></th>\n      <th>A</th>\n      <th>B</th>\n      <th>C</th>\n      <th>D</th>\n    </tr>\n  </thead>\n  <tbody>\n    <tr>\n      <th>count</th>\n      <td>6.000000</td>\n      <td>6.000000</td>\n      <td>6.000000</td>\n      <td>6.000000</td>\n    </tr>\n    <tr>\n      <th>mean</th>\n      <td>-0.542674</td>\n      <td>0.071830</td>\n      <td>-0.691878</td>\n      <td>0.319249</td>\n    </tr>\n    <tr>\n      <th>std</th>\n      <td>0.791857</td>\n      <td>0.621654</td>\n      <td>1.436321</td>\n      <td>1.007462</td>\n    </tr>\n    <tr>\n      <th>min</th>\n      <td>-1.421828</td>\n      <td>-0.712421</td>\n      <td>-2.834809</td>\n      <td>-0.907602</td>\n    </tr>\n    <tr>\n      <th>25%</th>\n      <td>-1.051851</td>\n      <td>-0.416592</td>\n      <td>-1.512044</td>\n      <td>-0.237713</td>\n    </tr>\n    <tr>\n      <th>50%</th>\n      <td>-0.607912</td>\n      <td>0.137219</td>\n      <td>-0.473077</td>\n      <td>0.070283</td>\n    </tr>\n    <tr>\n      <th>75%</th>\n      <td>-0.327754</td>\n      <td>0.610046</td>\n      <td>0.282712</td>\n      <td>0.889155</td>\n    </tr>\n    <tr>\n      <th>max</th>\n      <td>0.815809</td>\n      <td>0.702502</td>\n      <td>0.953416</td>\n      <td>1.860798</td>\n    </tr>\n  </tbody>\n</table>\n</div>"
     },
     "metadata": {},
     "execution_count": 17
    }
   ],
   "source": [
    "df.describe()"
   ]
  },
  {
   "cell_type": "code",
   "execution_count": 21,
   "metadata": {},
   "outputs": [
    {
     "output_type": "execute_result",
     "data": {
      "text/plain": [
       "                   D         C         B         A\n",
       "2021-02-20  0.167075  0.277875  0.641131 -0.575321\n",
       "2021-02-21 -0.308114  0.284324  0.516794 -1.188967\n",
       "2021-02-22 -0.026509 -2.834809 -0.242355 -0.245231\n",
       "2021-02-23 -0.907602  0.953416 -0.474671 -1.421828\n",
       "2021-02-24  1.860798 -1.224029 -0.712421 -0.640503\n",
       "2021-02-25  1.129848 -1.608049  0.702502  0.815809"
      ],
      "text/html": "<div>\n<style scoped>\n    .dataframe tbody tr th:only-of-type {\n        vertical-align: middle;\n    }\n\n    .dataframe tbody tr th {\n        vertical-align: top;\n    }\n\n    .dataframe thead th {\n        text-align: right;\n    }\n</style>\n<table border=\"1\" class=\"dataframe\">\n  <thead>\n    <tr style=\"text-align: right;\">\n      <th></th>\n      <th>D</th>\n      <th>C</th>\n      <th>B</th>\n      <th>A</th>\n    </tr>\n  </thead>\n  <tbody>\n    <tr>\n      <th>2021-02-20</th>\n      <td>0.167075</td>\n      <td>0.277875</td>\n      <td>0.641131</td>\n      <td>-0.575321</td>\n    </tr>\n    <tr>\n      <th>2021-02-21</th>\n      <td>-0.308114</td>\n      <td>0.284324</td>\n      <td>0.516794</td>\n      <td>-1.188967</td>\n    </tr>\n    <tr>\n      <th>2021-02-22</th>\n      <td>-0.026509</td>\n      <td>-2.834809</td>\n      <td>-0.242355</td>\n      <td>-0.245231</td>\n    </tr>\n    <tr>\n      <th>2021-02-23</th>\n      <td>-0.907602</td>\n      <td>0.953416</td>\n      <td>-0.474671</td>\n      <td>-1.421828</td>\n    </tr>\n    <tr>\n      <th>2021-02-24</th>\n      <td>1.860798</td>\n      <td>-1.224029</td>\n      <td>-0.712421</td>\n      <td>-0.640503</td>\n    </tr>\n    <tr>\n      <th>2021-02-25</th>\n      <td>1.129848</td>\n      <td>-1.608049</td>\n      <td>0.702502</td>\n      <td>0.815809</td>\n    </tr>\n  </tbody>\n</table>\n</div>"
     },
     "metadata": {},
     "execution_count": 21
    }
   ],
   "source": [
    "# 按照轴进行排列\n",
    "df.sort_index(axis=1,ascending=False)"
   ]
  },
  {
   "cell_type": "code",
   "execution_count": 22,
   "metadata": {},
   "outputs": [
    {
     "output_type": "execute_result",
     "data": {
      "text/plain": [
       "                   A         B         C         D\n",
       "2021-02-25  0.815809  0.702502 -1.608049  1.129848\n",
       "2021-02-20 -0.575321  0.641131  0.277875  0.167075\n",
       "2021-02-21 -1.188967  0.516794  0.284324 -0.308114\n",
       "2021-02-22 -0.245231 -0.242355 -2.834809 -0.026509\n",
       "2021-02-23 -1.421828 -0.474671  0.953416 -0.907602\n",
       "2021-02-24 -0.640503 -0.712421 -1.224029  1.860798"
      ],
      "text/html": "<div>\n<style scoped>\n    .dataframe tbody tr th:only-of-type {\n        vertical-align: middle;\n    }\n\n    .dataframe tbody tr th {\n        vertical-align: top;\n    }\n\n    .dataframe thead th {\n        text-align: right;\n    }\n</style>\n<table border=\"1\" class=\"dataframe\">\n  <thead>\n    <tr style=\"text-align: right;\">\n      <th></th>\n      <th>A</th>\n      <th>B</th>\n      <th>C</th>\n      <th>D</th>\n    </tr>\n  </thead>\n  <tbody>\n    <tr>\n      <th>2021-02-25</th>\n      <td>0.815809</td>\n      <td>0.702502</td>\n      <td>-1.608049</td>\n      <td>1.129848</td>\n    </tr>\n    <tr>\n      <th>2021-02-20</th>\n      <td>-0.575321</td>\n      <td>0.641131</td>\n      <td>0.277875</td>\n      <td>0.167075</td>\n    </tr>\n    <tr>\n      <th>2021-02-21</th>\n      <td>-1.188967</td>\n      <td>0.516794</td>\n      <td>0.284324</td>\n      <td>-0.308114</td>\n    </tr>\n    <tr>\n      <th>2021-02-22</th>\n      <td>-0.245231</td>\n      <td>-0.242355</td>\n      <td>-2.834809</td>\n      <td>-0.026509</td>\n    </tr>\n    <tr>\n      <th>2021-02-23</th>\n      <td>-1.421828</td>\n      <td>-0.474671</td>\n      <td>0.953416</td>\n      <td>-0.907602</td>\n    </tr>\n    <tr>\n      <th>2021-02-24</th>\n      <td>-0.640503</td>\n      <td>-0.712421</td>\n      <td>-1.224029</td>\n      <td>1.860798</td>\n    </tr>\n  </tbody>\n</table>\n</div>"
     },
     "metadata": {},
     "execution_count": 22
    }
   ],
   "source": [
    "# 按照值进行排列\n",
    "df.sort_values(by='B', ascending=False)"
   ]
  },
  {
   "source": [
    "## 3. 选择 "
   ],
   "cell_type": "markdown",
   "metadata": {}
  },
  {
   "cell_type": "code",
   "execution_count": 23,
   "metadata": {},
   "outputs": [
    {
     "output_type": "execute_result",
     "data": {
      "text/plain": [
       "2021-02-20   -0.575321\n",
       "2021-02-21   -1.188967\n",
       "2021-02-22   -0.245231\n",
       "2021-02-23   -1.421828\n",
       "2021-02-24   -0.640503\n",
       "2021-02-25    0.815809\n",
       "Freq: D, Name: A, dtype: float64"
      ]
     },
     "metadata": {},
     "execution_count": 23
    }
   ],
   "source": [
    "# 选择单列数据\n",
    "df['A']"
   ]
  },
  {
   "cell_type": "code",
   "execution_count": 25,
   "metadata": {},
   "outputs": [
    {
     "output_type": "execute_result",
     "data": {
      "text/plain": [
       "                   A         B         C         D\n",
       "2021-02-20 -0.575321  0.641131  0.277875  0.167075\n",
       "2021-02-21 -1.188967  0.516794  0.284324 -0.308114\n",
       "2021-02-22 -0.245231 -0.242355 -2.834809 -0.026509\n",
       "2021-02-23 -1.421828 -0.474671  0.953416 -0.907602"
      ],
      "text/html": "<div>\n<style scoped>\n    .dataframe tbody tr th:only-of-type {\n        vertical-align: middle;\n    }\n\n    .dataframe tbody tr th {\n        vertical-align: top;\n    }\n\n    .dataframe thead th {\n        text-align: right;\n    }\n</style>\n<table border=\"1\" class=\"dataframe\">\n  <thead>\n    <tr style=\"text-align: right;\">\n      <th></th>\n      <th>A</th>\n      <th>B</th>\n      <th>C</th>\n      <th>D</th>\n    </tr>\n  </thead>\n  <tbody>\n    <tr>\n      <th>2021-02-20</th>\n      <td>-0.575321</td>\n      <td>0.641131</td>\n      <td>0.277875</td>\n      <td>0.167075</td>\n    </tr>\n    <tr>\n      <th>2021-02-21</th>\n      <td>-1.188967</td>\n      <td>0.516794</td>\n      <td>0.284324</td>\n      <td>-0.308114</td>\n    </tr>\n    <tr>\n      <th>2021-02-22</th>\n      <td>-0.245231</td>\n      <td>-0.242355</td>\n      <td>-2.834809</td>\n      <td>-0.026509</td>\n    </tr>\n    <tr>\n      <th>2021-02-23</th>\n      <td>-1.421828</td>\n      <td>-0.474671</td>\n      <td>0.953416</td>\n      <td>-0.907602</td>\n    </tr>\n  </tbody>\n</table>\n</div>"
     },
     "metadata": {},
     "execution_count": 25
    }
   ],
   "source": [
    "# 使用[]进行切片\n",
    "df[0:3]\n",
    "df['20210220':'20210223']"
   ]
  },
  {
   "source": [
    "### 3.2 按标签访问"
   ],
   "cell_type": "markdown",
   "metadata": {}
  },
  {
   "cell_type": "code",
   "execution_count": 26,
   "metadata": {},
   "outputs": [
    {
     "output_type": "execute_result",
     "data": {
      "text/plain": [
       "A   -0.575321\n",
       "B    0.641131\n",
       "C    0.277875\n",
       "D    0.167075\n",
       "Name: 2021-02-20 00:00:00, dtype: float64"
      ]
     },
     "metadata": {},
     "execution_count": 26
    }
   ],
   "source": [
    "# 使用标签返回一行数据\n",
    "df.loc[dates[0]]"
   ]
  },
  {
   "cell_type": "code",
   "execution_count": 28,
   "metadata": {},
   "outputs": [
    {
     "output_type": "execute_result",
     "data": {
      "text/plain": [
       "                   A         B\n",
       "2021-02-20 -0.575321  0.641131\n",
       "2021-02-21 -1.188967  0.516794\n",
       "2021-02-22 -0.245231 -0.242355\n",
       "2021-02-23 -1.421828 -0.474671"
      ],
      "text/html": "<div>\n<style scoped>\n    .dataframe tbody tr th:only-of-type {\n        vertical-align: middle;\n    }\n\n    .dataframe tbody tr th {\n        vertical-align: top;\n    }\n\n    .dataframe thead th {\n        text-align: right;\n    }\n</style>\n<table border=\"1\" class=\"dataframe\">\n  <thead>\n    <tr style=\"text-align: right;\">\n      <th></th>\n      <th>A</th>\n      <th>B</th>\n    </tr>\n  </thead>\n  <tbody>\n    <tr>\n      <th>2021-02-20</th>\n      <td>-0.575321</td>\n      <td>0.641131</td>\n    </tr>\n    <tr>\n      <th>2021-02-21</th>\n      <td>-1.188967</td>\n      <td>0.516794</td>\n    </tr>\n    <tr>\n      <th>2021-02-22</th>\n      <td>-0.245231</td>\n      <td>-0.242355</td>\n    </tr>\n    <tr>\n      <th>2021-02-23</th>\n      <td>-1.421828</td>\n      <td>-0.474671</td>\n    </tr>\n  </tbody>\n</table>\n</div>"
     },
     "metadata": {},
     "execution_count": 28
    }
   ],
   "source": [
    "# 用标签选择多列多行数据\n",
    "df.loc['20210220':'20210223', ['A','B']]"
   ]
  },
  {
   "cell_type": "code",
   "execution_count": 30,
   "metadata": {},
   "outputs": [
    {
     "output_type": "execute_result",
     "data": {
      "text/plain": [
       "-0.5753212092336925"
      ]
     },
     "metadata": {},
     "execution_count": 30
    }
   ],
   "source": [
    "# 提取标量值\n",
    "df.loc[dates[0], 'A']"
   ]
  },
  {
   "source": [
    "### 3.3 按照位置选择\n"
   ],
   "cell_type": "markdown",
   "metadata": {}
  },
  {
   "cell_type": "code",
   "execution_count": 31,
   "metadata": {},
   "outputs": [
    {
     "output_type": "execute_result",
     "data": {
      "text/plain": [
       "                   B         C\n",
       "2021-02-23 -0.474671  0.953416\n",
       "2021-02-24 -0.712421 -1.224029"
      ],
      "text/html": "<div>\n<style scoped>\n    .dataframe tbody tr th:only-of-type {\n        vertical-align: middle;\n    }\n\n    .dataframe tbody tr th {\n        vertical-align: top;\n    }\n\n    .dataframe thead th {\n        text-align: right;\n    }\n</style>\n<table border=\"1\" class=\"dataframe\">\n  <thead>\n    <tr style=\"text-align: right;\">\n      <th></th>\n      <th>B</th>\n      <th>C</th>\n    </tr>\n  </thead>\n  <tbody>\n    <tr>\n      <th>2021-02-23</th>\n      <td>-0.474671</td>\n      <td>0.953416</td>\n    </tr>\n    <tr>\n      <th>2021-02-24</th>\n      <td>-0.712421</td>\n      <td>-1.224029</td>\n    </tr>\n  </tbody>\n</table>\n</div>"
     },
     "metadata": {},
     "execution_count": 31
    }
   ],
   "source": [
    "# 类似于numpy切片\n",
    "df.iloc[3:5, 1:3]"
   ]
  },
  {
   "cell_type": "code",
   "execution_count": 32,
   "metadata": {},
   "outputs": [
    {
     "output_type": "execute_result",
     "data": {
      "text/plain": [
       "0.5167938669172373"
      ]
     },
     "metadata": {},
     "execution_count": 32
    }
   ],
   "source": [
    "# 访问标量\n",
    "df.iloc[1,1]"
   ]
  },
  {
   "source": [
    "### 3.4 bool索引"
   ],
   "cell_type": "markdown",
   "metadata": {}
  },
  {
   "cell_type": "code",
   "execution_count": 33,
   "metadata": {},
   "outputs": [
    {
     "output_type": "execute_result",
     "data": {
      "text/plain": [
       "                   A         B         C         D\n",
       "2021-02-20 -0.575321  0.641131  0.277875  0.167075\n",
       "2021-02-21 -1.188967  0.516794  0.284324 -0.308114\n",
       "2021-02-25  0.815809  0.702502 -1.608049  1.129848"
      ],
      "text/html": "<div>\n<style scoped>\n    .dataframe tbody tr th:only-of-type {\n        vertical-align: middle;\n    }\n\n    .dataframe tbody tr th {\n        vertical-align: top;\n    }\n\n    .dataframe thead th {\n        text-align: right;\n    }\n</style>\n<table border=\"1\" class=\"dataframe\">\n  <thead>\n    <tr style=\"text-align: right;\">\n      <th></th>\n      <th>A</th>\n      <th>B</th>\n      <th>C</th>\n      <th>D</th>\n    </tr>\n  </thead>\n  <tbody>\n    <tr>\n      <th>2021-02-20</th>\n      <td>-0.575321</td>\n      <td>0.641131</td>\n      <td>0.277875</td>\n      <td>0.167075</td>\n    </tr>\n    <tr>\n      <th>2021-02-21</th>\n      <td>-1.188967</td>\n      <td>0.516794</td>\n      <td>0.284324</td>\n      <td>-0.308114</td>\n    </tr>\n    <tr>\n      <th>2021-02-25</th>\n      <td>0.815809</td>\n      <td>0.702502</td>\n      <td>-1.608049</td>\n      <td>1.129848</td>\n    </tr>\n  </tbody>\n</table>\n</div>"
     },
     "metadata": {},
     "execution_count": 33
    }
   ],
   "source": [
    "df[df.B > 0]"
   ]
  },
  {
   "cell_type": "code",
   "execution_count": 34,
   "metadata": {},
   "outputs": [
    {
     "output_type": "execute_result",
     "data": {
      "text/plain": [
       "                   A         B         C         D\n",
       "2021-02-20       NaN  0.641131  0.277875  0.167075\n",
       "2021-02-21       NaN  0.516794  0.284324       NaN\n",
       "2021-02-22       NaN       NaN       NaN       NaN\n",
       "2021-02-23       NaN       NaN  0.953416       NaN\n",
       "2021-02-24       NaN       NaN       NaN  1.860798\n",
       "2021-02-25  0.815809  0.702502       NaN  1.129848"
      ],
      "text/html": "<div>\n<style scoped>\n    .dataframe tbody tr th:only-of-type {\n        vertical-align: middle;\n    }\n\n    .dataframe tbody tr th {\n        vertical-align: top;\n    }\n\n    .dataframe thead th {\n        text-align: right;\n    }\n</style>\n<table border=\"1\" class=\"dataframe\">\n  <thead>\n    <tr style=\"text-align: right;\">\n      <th></th>\n      <th>A</th>\n      <th>B</th>\n      <th>C</th>\n      <th>D</th>\n    </tr>\n  </thead>\n  <tbody>\n    <tr>\n      <th>2021-02-20</th>\n      <td>NaN</td>\n      <td>0.641131</td>\n      <td>0.277875</td>\n      <td>0.167075</td>\n    </tr>\n    <tr>\n      <th>2021-02-21</th>\n      <td>NaN</td>\n      <td>0.516794</td>\n      <td>0.284324</td>\n      <td>NaN</td>\n    </tr>\n    <tr>\n      <th>2021-02-22</th>\n      <td>NaN</td>\n      <td>NaN</td>\n      <td>NaN</td>\n      <td>NaN</td>\n    </tr>\n    <tr>\n      <th>2021-02-23</th>\n      <td>NaN</td>\n      <td>NaN</td>\n      <td>0.953416</td>\n      <td>NaN</td>\n    </tr>\n    <tr>\n      <th>2021-02-24</th>\n      <td>NaN</td>\n      <td>NaN</td>\n      <td>NaN</td>\n      <td>1.860798</td>\n    </tr>\n    <tr>\n      <th>2021-02-25</th>\n      <td>0.815809</td>\n      <td>0.702502</td>\n      <td>NaN</td>\n      <td>1.129848</td>\n    </tr>\n  </tbody>\n</table>\n</div>"
     },
     "metadata": {},
     "execution_count": 34
    }
   ],
   "source": [
    "# 选择整个数据集中满足条件的数据\n",
    "df[df > 0]"
   ]
  },
  {
   "cell_type": "code",
   "execution_count": 38,
   "metadata": {},
   "outputs": [
    {
     "output_type": "execute_result",
     "data": {
      "text/plain": [
       "                   A         B         C         D      E\n",
       "2021-02-21 -1.188967  0.516794  0.284324 -0.308114    two\n",
       "2021-02-22 -0.245231 -0.242355 -2.834809 -0.026509  three"
      ],
      "text/html": "<div>\n<style scoped>\n    .dataframe tbody tr th:only-of-type {\n        vertical-align: middle;\n    }\n\n    .dataframe tbody tr th {\n        vertical-align: top;\n    }\n\n    .dataframe thead th {\n        text-align: right;\n    }\n</style>\n<table border=\"1\" class=\"dataframe\">\n  <thead>\n    <tr style=\"text-align: right;\">\n      <th></th>\n      <th>A</th>\n      <th>B</th>\n      <th>C</th>\n      <th>D</th>\n      <th>E</th>\n    </tr>\n  </thead>\n  <tbody>\n    <tr>\n      <th>2021-02-21</th>\n      <td>-1.188967</td>\n      <td>0.516794</td>\n      <td>0.284324</td>\n      <td>-0.308114</td>\n      <td>two</td>\n    </tr>\n    <tr>\n      <th>2021-02-22</th>\n      <td>-0.245231</td>\n      <td>-0.242355</td>\n      <td>-2.834809</td>\n      <td>-0.026509</td>\n      <td>three</td>\n    </tr>\n  </tbody>\n</table>\n</div>"
     },
     "metadata": {},
     "execution_count": 38
    }
   ],
   "source": [
    "# 使用isin进行筛选\n",
    "df3 = df.copy()\n",
    "df3['E'] = ['one', 'two', 'three', 'four', 'five', 'six']\n",
    "df3[df3['E'].isin(['two', 'three'])]"
   ]
  },
  {
   "source": [
    "### 3.5 赋值"
   ],
   "cell_type": "markdown",
   "metadata": {}
  },
  {
   "cell_type": "code",
   "execution_count": 47,
   "metadata": {},
   "outputs": [
    {
     "output_type": "execute_result",
     "data": {
      "text/plain": [
       "                   A         B         C         D  F\n",
       "2021-02-20 -0.575321  0.641131  0.277875  0.167075  1\n",
       "2021-02-21 -1.188967  0.516794  0.284324 -0.308114  2\n",
       "2021-02-22 -0.245231 -0.242355 -2.834809 -0.026509  3\n",
       "2021-02-23 -1.421828 -0.474671  0.953416 -0.907602  4\n",
       "2021-02-24 -0.640503 -0.712421 -1.224029  1.860798  5\n",
       "2021-02-25  0.815809  0.702502 -1.608049  1.129848  6"
      ],
      "text/html": "<div>\n<style scoped>\n    .dataframe tbody tr th:only-of-type {\n        vertical-align: middle;\n    }\n\n    .dataframe tbody tr th {\n        vertical-align: top;\n    }\n\n    .dataframe thead th {\n        text-align: right;\n    }\n</style>\n<table border=\"1\" class=\"dataframe\">\n  <thead>\n    <tr style=\"text-align: right;\">\n      <th></th>\n      <th>A</th>\n      <th>B</th>\n      <th>C</th>\n      <th>D</th>\n      <th>F</th>\n    </tr>\n  </thead>\n  <tbody>\n    <tr>\n      <th>2021-02-20</th>\n      <td>-0.575321</td>\n      <td>0.641131</td>\n      <td>0.277875</td>\n      <td>0.167075</td>\n      <td>1</td>\n    </tr>\n    <tr>\n      <th>2021-02-21</th>\n      <td>-1.188967</td>\n      <td>0.516794</td>\n      <td>0.284324</td>\n      <td>-0.308114</td>\n      <td>2</td>\n    </tr>\n    <tr>\n      <th>2021-02-22</th>\n      <td>-0.245231</td>\n      <td>-0.242355</td>\n      <td>-2.834809</td>\n      <td>-0.026509</td>\n      <td>3</td>\n    </tr>\n    <tr>\n      <th>2021-02-23</th>\n      <td>-1.421828</td>\n      <td>-0.474671</td>\n      <td>0.953416</td>\n      <td>-0.907602</td>\n      <td>4</td>\n    </tr>\n    <tr>\n      <th>2021-02-24</th>\n      <td>-0.640503</td>\n      <td>-0.712421</td>\n      <td>-1.224029</td>\n      <td>1.860798</td>\n      <td>5</td>\n    </tr>\n    <tr>\n      <th>2021-02-25</th>\n      <td>0.815809</td>\n      <td>0.702502</td>\n      <td>-1.608049</td>\n      <td>1.129848</td>\n      <td>6</td>\n    </tr>\n  </tbody>\n</table>\n</div>"
     },
     "metadata": {},
     "execution_count": 47
    }
   ],
   "source": [
    "# 用索引自动对齐\n",
    "s1 = pd.Series([1, 2, 3, 4, 5, 6], index=pd.date_range('20210220', periods=6))\n",
    "df['F'] = s1\n",
    "df"
   ]
  },
  {
   "cell_type": "code",
   "execution_count": 49,
   "metadata": {},
   "outputs": [
    {
     "output_type": "execute_result",
     "data": {
      "text/plain": [
       "                   A         B         C  D  F\n",
       "2021-02-20 -0.575321  0.641131  0.277875  5  1\n",
       "2021-02-21 -1.188967  0.516794  0.284324  5  2\n",
       "2021-02-22 -0.245231 -0.242355 -2.834809  5  3\n",
       "2021-02-23 -1.421828 -0.474671  0.953416  5  4\n",
       "2021-02-24 -0.640503 -0.712421 -1.224029  5  5\n",
       "2021-02-25  0.815809  0.702502 -1.608049  5  6"
      ],
      "text/html": "<div>\n<style scoped>\n    .dataframe tbody tr th:only-of-type {\n        vertical-align: middle;\n    }\n\n    .dataframe tbody tr th {\n        vertical-align: top;\n    }\n\n    .dataframe thead th {\n        text-align: right;\n    }\n</style>\n<table border=\"1\" class=\"dataframe\">\n  <thead>\n    <tr style=\"text-align: right;\">\n      <th></th>\n      <th>A</th>\n      <th>B</th>\n      <th>C</th>\n      <th>D</th>\n      <th>F</th>\n    </tr>\n  </thead>\n  <tbody>\n    <tr>\n      <th>2021-02-20</th>\n      <td>-0.575321</td>\n      <td>0.641131</td>\n      <td>0.277875</td>\n      <td>5</td>\n      <td>1</td>\n    </tr>\n    <tr>\n      <th>2021-02-21</th>\n      <td>-1.188967</td>\n      <td>0.516794</td>\n      <td>0.284324</td>\n      <td>5</td>\n      <td>2</td>\n    </tr>\n    <tr>\n      <th>2021-02-22</th>\n      <td>-0.245231</td>\n      <td>-0.242355</td>\n      <td>-2.834809</td>\n      <td>5</td>\n      <td>3</td>\n    </tr>\n    <tr>\n      <th>2021-02-23</th>\n      <td>-1.421828</td>\n      <td>-0.474671</td>\n      <td>0.953416</td>\n      <td>5</td>\n      <td>4</td>\n    </tr>\n    <tr>\n      <th>2021-02-24</th>\n      <td>-0.640503</td>\n      <td>-0.712421</td>\n      <td>-1.224029</td>\n      <td>5</td>\n      <td>5</td>\n    </tr>\n    <tr>\n      <th>2021-02-25</th>\n      <td>0.815809</td>\n      <td>0.702502</td>\n      <td>-1.608049</td>\n      <td>5</td>\n      <td>6</td>\n    </tr>\n  </tbody>\n</table>\n</div>"
     },
     "metadata": {},
     "execution_count": 49
    }
   ],
   "source": [
    "df.loc[:, 'D'] = np.array([5]*len(df))\n",
    "df"
   ]
  },
  {
   "source": [
    "## 4. 缺失值"
   ],
   "cell_type": "markdown",
   "metadata": {}
  },
  {
   "cell_type": "code",
   "execution_count": 56,
   "metadata": {},
   "outputs": [
    {
     "output_type": "execute_result",
     "data": {
      "text/plain": [
       "                   A         B         C  D  F    E\n",
       "2021-02-20 -0.575321  0.641131  0.277875  5  1  1.0\n",
       "2021-02-21 -1.188967  0.516794  0.284324  5  2  1.0\n",
       "2021-02-22 -0.245231 -0.242355 -2.834809  5  3  NaN\n",
       "2021-02-23 -1.421828 -0.474671  0.953416  5  4  NaN"
      ],
      "text/html": "<div>\n<style scoped>\n    .dataframe tbody tr th:only-of-type {\n        vertical-align: middle;\n    }\n\n    .dataframe tbody tr th {\n        vertical-align: top;\n    }\n\n    .dataframe thead th {\n        text-align: right;\n    }\n</style>\n<table border=\"1\" class=\"dataframe\">\n  <thead>\n    <tr style=\"text-align: right;\">\n      <th></th>\n      <th>A</th>\n      <th>B</th>\n      <th>C</th>\n      <th>D</th>\n      <th>F</th>\n      <th>E</th>\n    </tr>\n  </thead>\n  <tbody>\n    <tr>\n      <th>2021-02-20</th>\n      <td>-0.575321</td>\n      <td>0.641131</td>\n      <td>0.277875</td>\n      <td>5</td>\n      <td>1</td>\n      <td>1.0</td>\n    </tr>\n    <tr>\n      <th>2021-02-21</th>\n      <td>-1.188967</td>\n      <td>0.516794</td>\n      <td>0.284324</td>\n      <td>5</td>\n      <td>2</td>\n      <td>1.0</td>\n    </tr>\n    <tr>\n      <th>2021-02-22</th>\n      <td>-0.245231</td>\n      <td>-0.242355</td>\n      <td>-2.834809</td>\n      <td>5</td>\n      <td>3</td>\n      <td>NaN</td>\n    </tr>\n    <tr>\n      <th>2021-02-23</th>\n      <td>-1.421828</td>\n      <td>-0.474671</td>\n      <td>0.953416</td>\n      <td>5</td>\n      <td>4</td>\n      <td>NaN</td>\n    </tr>\n  </tbody>\n</table>\n</div>"
     },
     "metadata": {},
     "execution_count": 56
    }
   ],
   "source": [
    "df1 = df.reindex(index=dates[0:4], columns=list(df.columns) + ['E'])\n",
    "df1.loc[dates[0]:dates[1],'E'] = 1\n",
    "df1"
   ]
  },
  {
   "cell_type": "code",
   "execution_count": 57,
   "metadata": {},
   "outputs": [
    {
     "output_type": "execute_result",
     "data": {
      "text/plain": [
       "                   A         B         C  D  F    E\n",
       "2021-02-20 -0.575321  0.641131  0.277875  5  1  1.0\n",
       "2021-02-21 -1.188967  0.516794  0.284324  5  2  1.0"
      ],
      "text/html": "<div>\n<style scoped>\n    .dataframe tbody tr th:only-of-type {\n        vertical-align: middle;\n    }\n\n    .dataframe tbody tr th {\n        vertical-align: top;\n    }\n\n    .dataframe thead th {\n        text-align: right;\n    }\n</style>\n<table border=\"1\" class=\"dataframe\">\n  <thead>\n    <tr style=\"text-align: right;\">\n      <th></th>\n      <th>A</th>\n      <th>B</th>\n      <th>C</th>\n      <th>D</th>\n      <th>F</th>\n      <th>E</th>\n    </tr>\n  </thead>\n  <tbody>\n    <tr>\n      <th>2021-02-20</th>\n      <td>-0.575321</td>\n      <td>0.641131</td>\n      <td>0.277875</td>\n      <td>5</td>\n      <td>1</td>\n      <td>1.0</td>\n    </tr>\n    <tr>\n      <th>2021-02-21</th>\n      <td>-1.188967</td>\n      <td>0.516794</td>\n      <td>0.284324</td>\n      <td>5</td>\n      <td>2</td>\n      <td>1.0</td>\n    </tr>\n  </tbody>\n</table>\n</div>"
     },
     "metadata": {},
     "execution_count": 57
    }
   ],
   "source": [
    "# 删除缺失数据行\n",
    "df1.dropna(how='any')"
   ]
  },
  {
   "cell_type": "code",
   "execution_count": 58,
   "metadata": {},
   "outputs": [
    {
     "output_type": "execute_result",
     "data": {
      "text/plain": [
       "                   A         B         C  D  F    E\n",
       "2021-02-20 -0.575321  0.641131  0.277875  5  1  1.0\n",
       "2021-02-21 -1.188967  0.516794  0.284324  5  2  1.0\n",
       "2021-02-22 -0.245231 -0.242355 -2.834809  5  3  5.0\n",
       "2021-02-23 -1.421828 -0.474671  0.953416  5  4  5.0"
      ],
      "text/html": "<div>\n<style scoped>\n    .dataframe tbody tr th:only-of-type {\n        vertical-align: middle;\n    }\n\n    .dataframe tbody tr th {\n        vertical-align: top;\n    }\n\n    .dataframe thead th {\n        text-align: right;\n    }\n</style>\n<table border=\"1\" class=\"dataframe\">\n  <thead>\n    <tr style=\"text-align: right;\">\n      <th></th>\n      <th>A</th>\n      <th>B</th>\n      <th>C</th>\n      <th>D</th>\n      <th>F</th>\n      <th>E</th>\n    </tr>\n  </thead>\n  <tbody>\n    <tr>\n      <th>2021-02-20</th>\n      <td>-0.575321</td>\n      <td>0.641131</td>\n      <td>0.277875</td>\n      <td>5</td>\n      <td>1</td>\n      <td>1.0</td>\n    </tr>\n    <tr>\n      <th>2021-02-21</th>\n      <td>-1.188967</td>\n      <td>0.516794</td>\n      <td>0.284324</td>\n      <td>5</td>\n      <td>2</td>\n      <td>1.0</td>\n    </tr>\n    <tr>\n      <th>2021-02-22</th>\n      <td>-0.245231</td>\n      <td>-0.242355</td>\n      <td>-2.834809</td>\n      <td>5</td>\n      <td>3</td>\n      <td>5.0</td>\n    </tr>\n    <tr>\n      <th>2021-02-23</th>\n      <td>-1.421828</td>\n      <td>-0.474671</td>\n      <td>0.953416</td>\n      <td>5</td>\n      <td>4</td>\n      <td>5.0</td>\n    </tr>\n  </tbody>\n</table>\n</div>"
     },
     "metadata": {},
     "execution_count": 58
    }
   ],
   "source": [
    "# 填充\n",
    "df1.fillna(value=5)"
   ]
  },
  {
   "source": [
    "## 5. 运算"
   ],
   "cell_type": "markdown",
   "metadata": {}
  },
  {
   "source": [
    "### 5.1 统计"
   ],
   "cell_type": "markdown",
   "metadata": {}
  },
  {
   "cell_type": "code",
   "execution_count": 60,
   "metadata": {},
   "outputs": [
    {
     "output_type": "execute_result",
     "data": {
      "text/plain": [
       "0.07182990458251581"
      ]
     },
     "metadata": {},
     "execution_count": 60
    }
   ],
   "source": [
    "df['B'].mean()"
   ]
  },
  {
   "cell_type": "code",
   "execution_count": 61,
   "metadata": {},
   "outputs": [
    {
     "output_type": "execute_result",
     "data": {
      "text/plain": [
       "2021-02-20    1.268737\n",
       "2021-02-21    1.322430\n",
       "2021-02-22    0.935521\n",
       "2021-02-23    1.611383\n",
       "2021-02-24    1.484609\n",
       "2021-02-25    2.182052\n",
       "Freq: D, dtype: float64"
      ]
     },
     "metadata": {},
     "execution_count": 61
    }
   ],
   "source": [
    "# 在行上求平均值\n",
    "df.mean(1)"
   ]
  },
  {
   "cell_type": "code",
   "execution_count": null,
   "metadata": {},
   "outputs": [],
   "source": []
  }
 ]
}