{
 "metadata": {
  "language_info": {
   "codemirror_mode": {
    "name": "ipython",
    "version": 3
   },
   "file_extension": ".py",
   "mimetype": "text/x-python",
   "name": "python",
   "nbconvert_exporter": "python",
   "pygments_lexer": "ipython3",
   "version": "3.9.1-final"
  },
  "orig_nbformat": 2,
  "kernelspec": {
   "name": "python3",
   "display_name": "Python 3.9.1 64-bit",
   "metadata": {
    "interpreter": {
     "hash": "4ce0e62306dd6a5716965d4519ada776f947e6dfc145b604b11307c10277ef29"
    }
   }
  }
 },
 "nbformat": 4,
 "nbformat_minor": 2,
 "cells": [
  {
   "source": [
    "来源于官方资料：[十分钟入门pandas](https://www.pypandas.cn/docs/getting_started/10min.html#%E7%94%9F%E6%88%90%E5%AF%B9%E8%B1%A1)"
   ],
   "cell_type": "markdown",
   "metadata": {}
  },
  {
   "source": [
    "## 1. 创建数据集 "
   ],
   "cell_type": "markdown",
   "metadata": {}
  },
  {
   "cell_type": "code",
   "execution_count": 1,
   "metadata": {},
   "outputs": [],
   "source": [
    "import pandas as pd\n",
    "import numpy as np\n",
    "import matplotlib.pyplot as plt"
   ]
  },
  {
   "cell_type": "code",
   "execution_count": 2,
   "metadata": {},
   "outputs": [
    {
     "output_type": "stream",
     "name": "stdout",
     "text": [
      "0    1.0\n1    2.0\n2    3.0\n3    NaN\n4    4.0\ndtype: float64\n"
     ]
    }
   ],
   "source": [
    "# 用值列表生成Serises，默认自动生成整数索引\n",
    "s = pd.Series([1, 2, 3, np.nan, 4])\n",
    "print(s)"
   ]
  },
  {
   "cell_type": "code",
   "execution_count": 3,
   "metadata": {},
   "outputs": [
    {
     "output_type": "stream",
     "name": "stdout",
     "text": [
      "DatetimeIndex(['2021-02-20', '2021-02-21', '2021-02-22', '2021-02-23',\n               '2021-02-24', '2021-02-25'],\n              dtype='datetime64[ns]', freq='D')\n"
     ]
    }
   ],
   "source": [
    "dates = pd.date_range('20210220', periods=6)\n",
    "print(dates)"
   ]
  },
  {
   "cell_type": "code",
   "execution_count": 4,
   "metadata": {},
   "outputs": [],
   "source": [
    "# 使用上述的时间索引生成数据集\n",
    "df = pd.DataFrame(np.random.randn(6, 4), index=dates, columns=list('ABCD'))"
   ]
  },
  {
   "cell_type": "code",
   "execution_count": 5,
   "metadata": {},
   "outputs": [
    {
     "output_type": "error",
     "ename": "SyntaxError",
     "evalue": "invalid syntax (<ipython-input-5-ac030141e94c>, line 3)",
     "traceback": [
      "\u001b[1;36m  File \u001b[1;32m\"<ipython-input-5-ac030141e94c>\"\u001b[1;36m, line \u001b[1;32m3\u001b[0m\n\u001b[1;33m    ...:                     'B': pd.Timestamp('20130102'),\u001b[0m\n\u001b[1;37m                                ^\u001b[0m\n\u001b[1;31mSyntaxError\u001b[0m\u001b[1;31m:\u001b[0m invalid syntax\n"
     ]
    }
   ],
   "source": [
    "# 使用Series字典对象生成数据集\n",
    "df2 = pd.DataFrame({'A': 1.,\n",
    "   ...:                     'B': pd.Timestamp('20130102'),\n",
    "   ...:                     'C': pd.Series(1, index=list(range(4)), dtype='float32'),\n",
    "   ...:                     'D': np.array([3] * 4, dtype='int32'),\n",
    "   ...:                     'E': pd.Categorical([\"test\", \"train\", \"test\", \"train\"]),\n",
    "   ...:                     'F': 'foo'})\n",
    "   ...:\n",
    "print(df2)"
   ]
  },
  {
   "cell_type": "code",
   "execution_count": 9,
   "metadata": {},
   "outputs": [
    {
     "output_type": "execute_result",
     "data": {
      "text/plain": [
       "A           float64\n",
       "B    datetime64[ns]\n",
       "C           float32\n",
       "D             int32\n",
       "E          category\n",
       "F            object\n",
       "dtype: object"
      ]
     },
     "metadata": {},
     "execution_count": 9
    }
   ],
   "source": [
    "# 查看不同属性列的类型\n",
    "df2.dtypes"
   ]
  },
  {
   "source": [
    "## 2. 查看对象"
   ],
   "cell_type": "markdown",
   "metadata": {}
  },
  {
   "cell_type": "code",
   "execution_count": 10,
   "metadata": {},
   "outputs": [
    {
     "output_type": "execute_result",
     "data": {
      "text/plain": [
       "                   A         B         C         D\n",
       "2021-02-20 -0.575321  0.641131  0.277875  0.167075\n",
       "2021-02-21 -1.188967  0.516794  0.284324 -0.308114\n",
       "2021-02-22 -0.245231 -0.242355 -2.834809 -0.026509\n",
       "2021-02-23 -1.421828 -0.474671  0.953416 -0.907602\n",
       "2021-02-24 -0.640503 -0.712421 -1.224029  1.860798"
      ],
      "text/html": "<div>\n<style scoped>\n    .dataframe tbody tr th:only-of-type {\n        vertical-align: middle;\n    }\n\n    .dataframe tbody tr th {\n        vertical-align: top;\n    }\n\n    .dataframe thead th {\n        text-align: right;\n    }\n</style>\n<table border=\"1\" class=\"dataframe\">\n  <thead>\n    <tr style=\"text-align: right;\">\n      <th></th>\n      <th>A</th>\n      <th>B</th>\n      <th>C</th>\n      <th>D</th>\n    </tr>\n  </thead>\n  <tbody>\n    <tr>\n      <th>2021-02-20</th>\n      <td>-0.575321</td>\n      <td>0.641131</td>\n      <td>0.277875</td>\n      <td>0.167075</td>\n    </tr>\n    <tr>\n      <th>2021-02-21</th>\n      <td>-1.188967</td>\n      <td>0.516794</td>\n      <td>0.284324</td>\n      <td>-0.308114</td>\n    </tr>\n    <tr>\n      <th>2021-02-22</th>\n      <td>-0.245231</td>\n      <td>-0.242355</td>\n      <td>-2.834809</td>\n      <td>-0.026509</td>\n    </tr>\n    <tr>\n      <th>2021-02-23</th>\n      <td>-1.421828</td>\n      <td>-0.474671</td>\n      <td>0.953416</td>\n      <td>-0.907602</td>\n    </tr>\n    <tr>\n      <th>2021-02-24</th>\n      <td>-0.640503</td>\n      <td>-0.712421</td>\n      <td>-1.224029</td>\n      <td>1.860798</td>\n    </tr>\n  </tbody>\n</table>\n</div>"
     },
     "metadata": {},
     "execution_count": 10
    }
   ],
   "source": [
    "df.head()"
   ]
  },
  {
   "cell_type": "code",
   "execution_count": 12,
   "metadata": {},
   "outputs": [
    {
     "output_type": "execute_result",
     "data": {
      "text/plain": [
       "                   A         B         C         D\n",
       "2021-02-21 -1.188967  0.516794  0.284324 -0.308114\n",
       "2021-02-22 -0.245231 -0.242355 -2.834809 -0.026509\n",
       "2021-02-23 -1.421828 -0.474671  0.953416 -0.907602\n",
       "2021-02-24 -0.640503 -0.712421 -1.224029  1.860798\n",
       "2021-02-25  0.815809  0.702502 -1.608049  1.129848"
      ],
      "text/html": "<div>\n<style scoped>\n    .dataframe tbody tr th:only-of-type {\n        vertical-align: middle;\n    }\n\n    .dataframe tbody tr th {\n        vertical-align: top;\n    }\n\n    .dataframe thead th {\n        text-align: right;\n    }\n</style>\n<table border=\"1\" class=\"dataframe\">\n  <thead>\n    <tr style=\"text-align: right;\">\n      <th></th>\n      <th>A</th>\n      <th>B</th>\n      <th>C</th>\n      <th>D</th>\n    </tr>\n  </thead>\n  <tbody>\n    <tr>\n      <th>2021-02-21</th>\n      <td>-1.188967</td>\n      <td>0.516794</td>\n      <td>0.284324</td>\n      <td>-0.308114</td>\n    </tr>\n    <tr>\n      <th>2021-02-22</th>\n      <td>-0.245231</td>\n      <td>-0.242355</td>\n      <td>-2.834809</td>\n      <td>-0.026509</td>\n    </tr>\n    <tr>\n      <th>2021-02-23</th>\n      <td>-1.421828</td>\n      <td>-0.474671</td>\n      <td>0.953416</td>\n      <td>-0.907602</td>\n    </tr>\n    <tr>\n      <th>2021-02-24</th>\n      <td>-0.640503</td>\n      <td>-0.712421</td>\n      <td>-1.224029</td>\n      <td>1.860798</td>\n    </tr>\n    <tr>\n      <th>2021-02-25</th>\n      <td>0.815809</td>\n      <td>0.702502</td>\n      <td>-1.608049</td>\n      <td>1.129848</td>\n    </tr>\n  </tbody>\n</table>\n</div>"
     },
     "metadata": {},
     "execution_count": 12
    }
   ],
   "source": [
    "df.tail()"
   ]
  },
  {
   "cell_type": "code",
   "execution_count": 13,
   "metadata": {},
   "outputs": [
    {
     "output_type": "execute_result",
     "data": {
      "text/plain": [
       "DatetimeIndex(['2021-02-20', '2021-02-21', '2021-02-22', '2021-02-23',\n",
       "               '2021-02-24', '2021-02-25'],\n",
       "              dtype='datetime64[ns]', freq='D')"
      ]
     },
     "metadata": {},
     "execution_count": 13
    }
   ],
   "source": [
    "df.index"
   ]
  },
  {
   "cell_type": "code",
   "execution_count": 14,
   "metadata": {},
   "outputs": [
    {
     "output_type": "execute_result",
     "data": {
      "text/plain": [
       "Index(['A', 'B', 'C', 'D'], dtype='object')"
      ]
     },
     "metadata": {},
     "execution_count": 14
    }
   ],
   "source": [
    "df.columns"
   ]
  },
  {
   "cell_type": "code",
   "execution_count": 16,
   "metadata": {},
   "outputs": [
    {
     "output_type": "execute_result",
     "data": {
      "text/plain": [
       "array([[1.0, Timestamp('2013-01-02 00:00:00'), 1.0, 3, 'test', 'foo'],\n",
       "       [1.0, Timestamp('2013-01-02 00:00:00'), 1.0, 3, 'train', 'foo'],\n",
       "       [1.0, Timestamp('2013-01-02 00:00:00'), 1.0, 3, 'test', 'foo'],\n",
       "       [1.0, Timestamp('2013-01-02 00:00:00'), 1.0, 3, 'train', 'foo']],\n",
       "      dtype=object)"
      ]
     },
     "metadata": {},
     "execution_count": 16
    }
   ],
   "source": [
    "# 查找支持numpy的对象\n",
    "df.to_numpy()\n",
    "df2.to_numpy()"
   ]
  },
  {
   "cell_type": "code",
   "execution_count": 17,
   "metadata": {},
   "outputs": [
    {
     "output_type": "execute_result",
     "data": {
      "text/plain": [
       "              A         B         C         D\n",
       "count  6.000000  6.000000  6.000000  6.000000\n",
       "mean  -0.542674  0.071830 -0.691878  0.319249\n",
       "std    0.791857  0.621654  1.436321  1.007462\n",
       "min   -1.421828 -0.712421 -2.834809 -0.907602\n",
       "25%   -1.051851 -0.416592 -1.512044 -0.237713\n",
       "50%   -0.607912  0.137219 -0.473077  0.070283\n",
       "75%   -0.327754  0.610046  0.282712  0.889155\n",
       "max    0.815809  0.702502  0.953416  1.860798"
      ],
      "text/html": "<div>\n<style scoped>\n    .dataframe tbody tr th:only-of-type {\n        vertical-align: middle;\n    }\n\n    .dataframe tbody tr th {\n        vertical-align: top;\n    }\n\n    .dataframe thead th {\n        text-align: right;\n    }\n</style>\n<table border=\"1\" class=\"dataframe\">\n  <thead>\n    <tr style=\"text-align: right;\">\n      <th></th>\n      <th>A</th>\n      <th>B</th>\n      <th>C</th>\n      <th>D</th>\n    </tr>\n  </thead>\n  <tbody>\n    <tr>\n      <th>count</th>\n      <td>6.000000</td>\n      <td>6.000000</td>\n      <td>6.000000</td>\n      <td>6.000000</td>\n    </tr>\n    <tr>\n      <th>mean</th>\n      <td>-0.542674</td>\n      <td>0.071830</td>\n      <td>-0.691878</td>\n      <td>0.319249</td>\n    </tr>\n    <tr>\n      <th>std</th>\n      <td>0.791857</td>\n      <td>0.621654</td>\n      <td>1.436321</td>\n      <td>1.007462</td>\n    </tr>\n    <tr>\n      <th>min</th>\n      <td>-1.421828</td>\n      <td>-0.712421</td>\n      <td>-2.834809</td>\n      <td>-0.907602</td>\n    </tr>\n    <tr>\n      <th>25%</th>\n      <td>-1.051851</td>\n      <td>-0.416592</td>\n      <td>-1.512044</td>\n      <td>-0.237713</td>\n    </tr>\n    <tr>\n      <th>50%</th>\n      <td>-0.607912</td>\n      <td>0.137219</td>\n      <td>-0.473077</td>\n      <td>0.070283</td>\n    </tr>\n    <tr>\n      <th>75%</th>\n      <td>-0.327754</td>\n      <td>0.610046</td>\n      <td>0.282712</td>\n      <td>0.889155</td>\n    </tr>\n    <tr>\n      <th>max</th>\n      <td>0.815809</td>\n      <td>0.702502</td>\n      <td>0.953416</td>\n      <td>1.860798</td>\n    </tr>\n  </tbody>\n</table>\n</div>"
     },
     "metadata": {},
     "execution_count": 17
    }
   ],
   "source": [
    "df.describe()"
   ]
  },
  {
   "cell_type": "code",
   "execution_count": 21,
   "metadata": {},
   "outputs": [
    {
     "output_type": "execute_result",
     "data": {
      "text/plain": [
       "                   D         C         B         A\n",
       "2021-02-20  0.167075  0.277875  0.641131 -0.575321\n",
       "2021-02-21 -0.308114  0.284324  0.516794 -1.188967\n",
       "2021-02-22 -0.026509 -2.834809 -0.242355 -0.245231\n",
       "2021-02-23 -0.907602  0.953416 -0.474671 -1.421828\n",
       "2021-02-24  1.860798 -1.224029 -0.712421 -0.640503\n",
       "2021-02-25  1.129848 -1.608049  0.702502  0.815809"
      ],
      "text/html": "<div>\n<style scoped>\n    .dataframe tbody tr th:only-of-type {\n        vertical-align: middle;\n    }\n\n    .dataframe tbody tr th {\n        vertical-align: top;\n    }\n\n    .dataframe thead th {\n        text-align: right;\n    }\n</style>\n<table border=\"1\" class=\"dataframe\">\n  <thead>\n    <tr style=\"text-align: right;\">\n      <th></th>\n      <th>D</th>\n      <th>C</th>\n      <th>B</th>\n      <th>A</th>\n    </tr>\n  </thead>\n  <tbody>\n    <tr>\n      <th>2021-02-20</th>\n      <td>0.167075</td>\n      <td>0.277875</td>\n      <td>0.641131</td>\n      <td>-0.575321</td>\n    </tr>\n    <tr>\n      <th>2021-02-21</th>\n      <td>-0.308114</td>\n      <td>0.284324</td>\n      <td>0.516794</td>\n      <td>-1.188967</td>\n    </tr>\n    <tr>\n      <th>2021-02-22</th>\n      <td>-0.026509</td>\n      <td>-2.834809</td>\n      <td>-0.242355</td>\n      <td>-0.245231</td>\n    </tr>\n    <tr>\n      <th>2021-02-23</th>\n      <td>-0.907602</td>\n      <td>0.953416</td>\n      <td>-0.474671</td>\n      <td>-1.421828</td>\n    </tr>\n    <tr>\n      <th>2021-02-24</th>\n      <td>1.860798</td>\n      <td>-1.224029</td>\n      <td>-0.712421</td>\n      <td>-0.640503</td>\n    </tr>\n    <tr>\n      <th>2021-02-25</th>\n      <td>1.129848</td>\n      <td>-1.608049</td>\n      <td>0.702502</td>\n      <td>0.815809</td>\n    </tr>\n  </tbody>\n</table>\n</div>"
     },
     "metadata": {},
     "execution_count": 21
    }
   ],
   "source": [
    "# 按照轴进行排列\n",
    "df.sort_index(axis=1,ascending=False)"
   ]
  },
  {
   "cell_type": "code",
   "execution_count": 22,
   "metadata": {},
   "outputs": [
    {
     "output_type": "execute_result",
     "data": {
      "text/plain": [
       "                   A         B         C         D\n",
       "2021-02-25  0.815809  0.702502 -1.608049  1.129848\n",
       "2021-02-20 -0.575321  0.641131  0.277875  0.167075\n",
       "2021-02-21 -1.188967  0.516794  0.284324 -0.308114\n",
       "2021-02-22 -0.245231 -0.242355 -2.834809 -0.026509\n",
       "2021-02-23 -1.421828 -0.474671  0.953416 -0.907602\n",
       "2021-02-24 -0.640503 -0.712421 -1.224029  1.860798"
      ],
      "text/html": "<div>\n<style scoped>\n    .dataframe tbody tr th:only-of-type {\n        vertical-align: middle;\n    }\n\n    .dataframe tbody tr th {\n        vertical-align: top;\n    }\n\n    .dataframe thead th {\n        text-align: right;\n    }\n</style>\n<table border=\"1\" class=\"dataframe\">\n  <thead>\n    <tr style=\"text-align: right;\">\n      <th></th>\n      <th>A</th>\n      <th>B</th>\n      <th>C</th>\n      <th>D</th>\n    </tr>\n  </thead>\n  <tbody>\n    <tr>\n      <th>2021-02-25</th>\n      <td>0.815809</td>\n      <td>0.702502</td>\n      <td>-1.608049</td>\n      <td>1.129848</td>\n    </tr>\n    <tr>\n      <th>2021-02-20</th>\n      <td>-0.575321</td>\n      <td>0.641131</td>\n      <td>0.277875</td>\n      <td>0.167075</td>\n    </tr>\n    <tr>\n      <th>2021-02-21</th>\n      <td>-1.188967</td>\n      <td>0.516794</td>\n      <td>0.284324</td>\n      <td>-0.308114</td>\n    </tr>\n    <tr>\n      <th>2021-02-22</th>\n      <td>-0.245231</td>\n      <td>-0.242355</td>\n      <td>-2.834809</td>\n      <td>-0.026509</td>\n    </tr>\n    <tr>\n      <th>2021-02-23</th>\n      <td>-1.421828</td>\n      <td>-0.474671</td>\n      <td>0.953416</td>\n      <td>-0.907602</td>\n    </tr>\n    <tr>\n      <th>2021-02-24</th>\n      <td>-0.640503</td>\n      <td>-0.712421</td>\n      <td>-1.224029</td>\n      <td>1.860798</td>\n    </tr>\n  </tbody>\n</table>\n</div>"
     },
     "metadata": {},
     "execution_count": 22
    }
   ],
   "source": [
    "# 按照值进行排列\n",
    "df.sort_values(by='B', ascending=False)"
   ]
  },
  {
   "source": [
    "## 3. 选择 "
   ],
   "cell_type": "markdown",
   "metadata": {}
  },
  {
   "cell_type": "code",
   "execution_count": 23,
   "metadata": {},
   "outputs": [
    {
     "output_type": "execute_result",
     "data": {
      "text/plain": [
       "2021-02-20   -0.575321\n",
       "2021-02-21   -1.188967\n",
       "2021-02-22   -0.245231\n",
       "2021-02-23   -1.421828\n",
       "2021-02-24   -0.640503\n",
       "2021-02-25    0.815809\n",
       "Freq: D, Name: A, dtype: float64"
      ]
     },
     "metadata": {},
     "execution_count": 23
    }
   ],
   "source": [
    "# 选择单列数据\n",
    "df['A']"
   ]
  },
  {
   "cell_type": "code",
   "execution_count": 25,
   "metadata": {},
   "outputs": [
    {
     "output_type": "execute_result",
     "data": {
      "text/plain": [
       "                   A         B         C         D\n",
       "2021-02-20 -0.575321  0.641131  0.277875  0.167075\n",
       "2021-02-21 -1.188967  0.516794  0.284324 -0.308114\n",
       "2021-02-22 -0.245231 -0.242355 -2.834809 -0.026509\n",
       "2021-02-23 -1.421828 -0.474671  0.953416 -0.907602"
      ],
      "text/html": "<div>\n<style scoped>\n    .dataframe tbody tr th:only-of-type {\n        vertical-align: middle;\n    }\n\n    .dataframe tbody tr th {\n        vertical-align: top;\n    }\n\n    .dataframe thead th {\n        text-align: right;\n    }\n</style>\n<table border=\"1\" class=\"dataframe\">\n  <thead>\n    <tr style=\"text-align: right;\">\n      <th></th>\n      <th>A</th>\n      <th>B</th>\n      <th>C</th>\n      <th>D</th>\n    </tr>\n  </thead>\n  <tbody>\n    <tr>\n      <th>2021-02-20</th>\n      <td>-0.575321</td>\n      <td>0.641131</td>\n      <td>0.277875</td>\n      <td>0.167075</td>\n    </tr>\n    <tr>\n      <th>2021-02-21</th>\n      <td>-1.188967</td>\n      <td>0.516794</td>\n      <td>0.284324</td>\n      <td>-0.308114</td>\n    </tr>\n    <tr>\n      <th>2021-02-22</th>\n      <td>-0.245231</td>\n      <td>-0.242355</td>\n      <td>-2.834809</td>\n      <td>-0.026509</td>\n    </tr>\n    <tr>\n      <th>2021-02-23</th>\n      <td>-1.421828</td>\n      <td>-0.474671</td>\n      <td>0.953416</td>\n      <td>-0.907602</td>\n    </tr>\n  </tbody>\n</table>\n</div>"
     },
     "metadata": {},
     "execution_count": 25
    }
   ],
   "source": [
    "# 使用[]进行切片\n",
    "df[0:3]\n",
    "df['20210220':'20210223']"
   ]
  },
  {
   "source": [
    "### 3.2 按标签访问"
   ],
   "cell_type": "markdown",
   "metadata": {}
  },
  {
   "cell_type": "code",
   "execution_count": 26,
   "metadata": {},
   "outputs": [
    {
     "output_type": "execute_result",
     "data": {
      "text/plain": [
       "A   -0.575321\n",
       "B    0.641131\n",
       "C    0.277875\n",
       "D    0.167075\n",
       "Name: 2021-02-20 00:00:00, dtype: float64"
      ]
     },
     "metadata": {},
     "execution_count": 26
    }
   ],
   "source": [
    "# 使用标签返回一行数据\n",
    "df.loc[dates[0]]"
   ]
  },
  {
   "cell_type": "code",
   "execution_count": 28,
   "metadata": {},
   "outputs": [
    {
     "output_type": "execute_result",
     "data": {
      "text/plain": [
       "                   A         B\n",
       "2021-02-20 -0.575321  0.641131\n",
       "2021-02-21 -1.188967  0.516794\n",
       "2021-02-22 -0.245231 -0.242355\n",
       "2021-02-23 -1.421828 -0.474671"
      ],
      "text/html": "<div>\n<style scoped>\n    .dataframe tbody tr th:only-of-type {\n        vertical-align: middle;\n    }\n\n    .dataframe tbody tr th {\n        vertical-align: top;\n    }\n\n    .dataframe thead th {\n        text-align: right;\n    }\n</style>\n<table border=\"1\" class=\"dataframe\">\n  <thead>\n    <tr style=\"text-align: right;\">\n      <th></th>\n      <th>A</th>\n      <th>B</th>\n    </tr>\n  </thead>\n  <tbody>\n    <tr>\n      <th>2021-02-20</th>\n      <td>-0.575321</td>\n      <td>0.641131</td>\n    </tr>\n    <tr>\n      <th>2021-02-21</th>\n      <td>-1.188967</td>\n      <td>0.516794</td>\n    </tr>\n    <tr>\n      <th>2021-02-22</th>\n      <td>-0.245231</td>\n      <td>-0.242355</td>\n    </tr>\n    <tr>\n      <th>2021-02-23</th>\n      <td>-1.421828</td>\n      <td>-0.474671</td>\n    </tr>\n  </tbody>\n</table>\n</div>"
     },
     "metadata": {},
     "execution_count": 28
    }
   ],
   "source": [
    "# 用标签选择多列多行数据\n",
    "df.loc['20210220':'20210223', ['A','B']]"
   ]
  },
  {
   "cell_type": "code",
   "execution_count": 30,
   "metadata": {},
   "outputs": [
    {
     "output_type": "execute_result",
     "data": {
      "text/plain": [
       "-0.5753212092336925"
      ]
     },
     "metadata": {},
     "execution_count": 30
    }
   ],
   "source": [
    "# 提取标量值\n",
    "df.loc[dates[0], 'A']"
   ]
  },
  {
   "source": [
    "### 3.3 按照位置选择\n"
   ],
   "cell_type": "markdown",
   "metadata": {}
  },
  {
   "cell_type": "code",
   "execution_count": 31,
   "metadata": {},
   "outputs": [
    {
     "output_type": "execute_result",
     "data": {
      "text/plain": [
       "                   B         C\n",
       "2021-02-23 -0.474671  0.953416\n",
       "2021-02-24 -0.712421 -1.224029"
      ],
      "text/html": "<div>\n<style scoped>\n    .dataframe tbody tr th:only-of-type {\n        vertical-align: middle;\n    }\n\n    .dataframe tbody tr th {\n        vertical-align: top;\n    }\n\n    .dataframe thead th {\n        text-align: right;\n    }\n</style>\n<table border=\"1\" class=\"dataframe\">\n  <thead>\n    <tr style=\"text-align: right;\">\n      <th></th>\n      <th>B</th>\n      <th>C</th>\n    </tr>\n  </thead>\n  <tbody>\n    <tr>\n      <th>2021-02-23</th>\n      <td>-0.474671</td>\n      <td>0.953416</td>\n    </tr>\n    <tr>\n      <th>2021-02-24</th>\n      <td>-0.712421</td>\n      <td>-1.224029</td>\n    </tr>\n  </tbody>\n</table>\n</div>"
     },
     "metadata": {},
     "execution_count": 31
    }
   ],
   "source": [
    "# 类似于numpy切片\n",
    "df.iloc[3:5, 1:3]"
   ]
  },
  {
   "cell_type": "code",
   "execution_count": 32,
   "metadata": {},
   "outputs": [
    {
     "output_type": "execute_result",
     "data": {
      "text/plain": [
       "0.5167938669172373"
      ]
     },
     "metadata": {},
     "execution_count": 32
    }
   ],
   "source": [
    "# 访问标量\n",
    "df.iloc[1,1]"
   ]
  },
  {
   "source": [
    "### 3.4 bool索引"
   ],
   "cell_type": "markdown",
   "metadata": {}
  },
  {
   "cell_type": "code",
   "execution_count": 33,
   "metadata": {},
   "outputs": [
    {
     "output_type": "execute_result",
     "data": {
      "text/plain": [
       "                   A         B         C         D\n",
       "2021-02-20 -0.575321  0.641131  0.277875  0.167075\n",
       "2021-02-21 -1.188967  0.516794  0.284324 -0.308114\n",
       "2021-02-25  0.815809  0.702502 -1.608049  1.129848"
      ],
      "text/html": "<div>\n<style scoped>\n    .dataframe tbody tr th:only-of-type {\n        vertical-align: middle;\n    }\n\n    .dataframe tbody tr th {\n        vertical-align: top;\n    }\n\n    .dataframe thead th {\n        text-align: right;\n    }\n</style>\n<table border=\"1\" class=\"dataframe\">\n  <thead>\n    <tr style=\"text-align: right;\">\n      <th></th>\n      <th>A</th>\n      <th>B</th>\n      <th>C</th>\n      <th>D</th>\n    </tr>\n  </thead>\n  <tbody>\n    <tr>\n      <th>2021-02-20</th>\n      <td>-0.575321</td>\n      <td>0.641131</td>\n      <td>0.277875</td>\n      <td>0.167075</td>\n    </tr>\n    <tr>\n      <th>2021-02-21</th>\n      <td>-1.188967</td>\n      <td>0.516794</td>\n      <td>0.284324</td>\n      <td>-0.308114</td>\n    </tr>\n    <tr>\n      <th>2021-02-25</th>\n      <td>0.815809</td>\n      <td>0.702502</td>\n      <td>-1.608049</td>\n      <td>1.129848</td>\n    </tr>\n  </tbody>\n</table>\n</div>"
     },
     "metadata": {},
     "execution_count": 33
    }
   ],
   "source": [
    "df[df.B > 0]"
   ]
  },
  {
   "cell_type": "code",
   "execution_count": 34,
   "metadata": {},
   "outputs": [
    {
     "output_type": "execute_result",
     "data": {
      "text/plain": [
       "                   A         B         C         D\n",
       "2021-02-20       NaN  0.641131  0.277875  0.167075\n",
       "2021-02-21       NaN  0.516794  0.284324       NaN\n",
       "2021-02-22       NaN       NaN       NaN       NaN\n",
       "2021-02-23       NaN       NaN  0.953416       NaN\n",
       "2021-02-24       NaN       NaN       NaN  1.860798\n",
       "2021-02-25  0.815809  0.702502       NaN  1.129848"
      ],
      "text/html": "<div>\n<style scoped>\n    .dataframe tbody tr th:only-of-type {\n        vertical-align: middle;\n    }\n\n    .dataframe tbody tr th {\n        vertical-align: top;\n    }\n\n    .dataframe thead th {\n        text-align: right;\n    }\n</style>\n<table border=\"1\" class=\"dataframe\">\n  <thead>\n    <tr style=\"text-align: right;\">\n      <th></th>\n      <th>A</th>\n      <th>B</th>\n      <th>C</th>\n      <th>D</th>\n    </tr>\n  </thead>\n  <tbody>\n    <tr>\n      <th>2021-02-20</th>\n      <td>NaN</td>\n      <td>0.641131</td>\n      <td>0.277875</td>\n      <td>0.167075</td>\n    </tr>\n    <tr>\n      <th>2021-02-21</th>\n      <td>NaN</td>\n      <td>0.516794</td>\n      <td>0.284324</td>\n      <td>NaN</td>\n    </tr>\n    <tr>\n      <th>2021-02-22</th>\n      <td>NaN</td>\n      <td>NaN</td>\n      <td>NaN</td>\n      <td>NaN</td>\n    </tr>\n    <tr>\n      <th>2021-02-23</th>\n      <td>NaN</td>\n      <td>NaN</td>\n      <td>0.953416</td>\n      <td>NaN</td>\n    </tr>\n    <tr>\n      <th>2021-02-24</th>\n      <td>NaN</td>\n      <td>NaN</td>\n      <td>NaN</td>\n      <td>1.860798</td>\n    </tr>\n    <tr>\n      <th>2021-02-25</th>\n      <td>0.815809</td>\n      <td>0.702502</td>\n      <td>NaN</td>\n      <td>1.129848</td>\n    </tr>\n  </tbody>\n</table>\n</div>"
     },
     "metadata": {},
     "execution_count": 34
    }
   ],
   "source": [
    "# 选择整个数据集中满足条件的数据\n",
    "df[df > 0]"
   ]
  },
  {
   "cell_type": "code",
   "execution_count": 38,
   "metadata": {},
   "outputs": [
    {
     "output_type": "execute_result",
     "data": {
      "text/plain": [
       "                   A         B         C         D      E\n",
       "2021-02-21 -1.188967  0.516794  0.284324 -0.308114    two\n",
       "2021-02-22 -0.245231 -0.242355 -2.834809 -0.026509  three"
      ],
      "text/html": "<div>\n<style scoped>\n    .dataframe tbody tr th:only-of-type {\n        vertical-align: middle;\n    }\n\n    .dataframe tbody tr th {\n        vertical-align: top;\n    }\n\n    .dataframe thead th {\n        text-align: right;\n    }\n</style>\n<table border=\"1\" class=\"dataframe\">\n  <thead>\n    <tr style=\"text-align: right;\">\n      <th></th>\n      <th>A</th>\n      <th>B</th>\n      <th>C</th>\n      <th>D</th>\n      <th>E</th>\n    </tr>\n  </thead>\n  <tbody>\n    <tr>\n      <th>2021-02-21</th>\n      <td>-1.188967</td>\n      <td>0.516794</td>\n      <td>0.284324</td>\n      <td>-0.308114</td>\n      <td>two</td>\n    </tr>\n    <tr>\n      <th>2021-02-22</th>\n      <td>-0.245231</td>\n      <td>-0.242355</td>\n      <td>-2.834809</td>\n      <td>-0.026509</td>\n      <td>three</td>\n    </tr>\n  </tbody>\n</table>\n</div>"
     },
     "metadata": {},
     "execution_count": 38
    }
   ],
   "source": [
    "# 使用isin进行筛选\n",
    "df3 = df.copy()\n",
    "df3['E'] = ['one', 'two', 'three', 'four', 'five', 'six']\n",
    "df3[df3['E'].isin(['two', 'three'])]"
   ]
  },
  {
   "source": [
    "### 3.5 赋值"
   ],
   "cell_type": "markdown",
   "metadata": {}
  },
  {
   "cell_type": "code",
   "execution_count": 47,
   "metadata": {},
   "outputs": [
    {
     "output_type": "execute_result",
     "data": {
      "text/plain": [
       "                   A         B         C         D  F\n",
       "2021-02-20 -0.575321  0.641131  0.277875  0.167075  1\n",
       "2021-02-21 -1.188967  0.516794  0.284324 -0.308114  2\n",
       "2021-02-22 -0.245231 -0.242355 -2.834809 -0.026509  3\n",
       "2021-02-23 -1.421828 -0.474671  0.953416 -0.907602  4\n",
       "2021-02-24 -0.640503 -0.712421 -1.224029  1.860798  5\n",
       "2021-02-25  0.815809  0.702502 -1.608049  1.129848  6"
      ],
      "text/html": "<div>\n<style scoped>\n    .dataframe tbody tr th:only-of-type {\n        vertical-align: middle;\n    }\n\n    .dataframe tbody tr th {\n        vertical-align: top;\n    }\n\n    .dataframe thead th {\n        text-align: right;\n    }\n</style>\n<table border=\"1\" class=\"dataframe\">\n  <thead>\n    <tr style=\"text-align: right;\">\n      <th></th>\n      <th>A</th>\n      <th>B</th>\n      <th>C</th>\n      <th>D</th>\n      <th>F</th>\n    </tr>\n  </thead>\n  <tbody>\n    <tr>\n      <th>2021-02-20</th>\n      <td>-0.575321</td>\n      <td>0.641131</td>\n      <td>0.277875</td>\n      <td>0.167075</td>\n      <td>1</td>\n    </tr>\n    <tr>\n      <th>2021-02-21</th>\n      <td>-1.188967</td>\n      <td>0.516794</td>\n      <td>0.284324</td>\n      <td>-0.308114</td>\n      <td>2</td>\n    </tr>\n    <tr>\n      <th>2021-02-22</th>\n      <td>-0.245231</td>\n      <td>-0.242355</td>\n      <td>-2.834809</td>\n      <td>-0.026509</td>\n      <td>3</td>\n    </tr>\n    <tr>\n      <th>2021-02-23</th>\n      <td>-1.421828</td>\n      <td>-0.474671</td>\n      <td>0.953416</td>\n      <td>-0.907602</td>\n      <td>4</td>\n    </tr>\n    <tr>\n      <th>2021-02-24</th>\n      <td>-0.640503</td>\n      <td>-0.712421</td>\n      <td>-1.224029</td>\n      <td>1.860798</td>\n      <td>5</td>\n    </tr>\n    <tr>\n      <th>2021-02-25</th>\n      <td>0.815809</td>\n      <td>0.702502</td>\n      <td>-1.608049</td>\n      <td>1.129848</td>\n      <td>6</td>\n    </tr>\n  </tbody>\n</table>\n</div>"
     },
     "metadata": {},
     "execution_count": 47
    }
   ],
   "source": [
    "# 用索引自动对齐\n",
    "s1 = pd.Series([1, 2, 3, 4, 5, 6], index=pd.date_range('20210220', periods=6))\n",
    "df['F'] = s1\n",
    "df"
   ]
  },
  {
   "cell_type": "code",
   "execution_count": 49,
   "metadata": {},
   "outputs": [
    {
     "output_type": "execute_result",
     "data": {
      "text/plain": [
       "                   A         B         C  D  F\n",
       "2021-02-20 -0.575321  0.641131  0.277875  5  1\n",
       "2021-02-21 -1.188967  0.516794  0.284324  5  2\n",
       "2021-02-22 -0.245231 -0.242355 -2.834809  5  3\n",
       "2021-02-23 -1.421828 -0.474671  0.953416  5  4\n",
       "2021-02-24 -0.640503 -0.712421 -1.224029  5  5\n",
       "2021-02-25  0.815809  0.702502 -1.608049  5  6"
      ],
      "text/html": "<div>\n<style scoped>\n    .dataframe tbody tr th:only-of-type {\n        vertical-align: middle;\n    }\n\n    .dataframe tbody tr th {\n        vertical-align: top;\n    }\n\n    .dataframe thead th {\n        text-align: right;\n    }\n</style>\n<table border=\"1\" class=\"dataframe\">\n  <thead>\n    <tr style=\"text-align: right;\">\n      <th></th>\n      <th>A</th>\n      <th>B</th>\n      <th>C</th>\n      <th>D</th>\n      <th>F</th>\n    </tr>\n  </thead>\n  <tbody>\n    <tr>\n      <th>2021-02-20</th>\n      <td>-0.575321</td>\n      <td>0.641131</td>\n      <td>0.277875</td>\n      <td>5</td>\n      <td>1</td>\n    </tr>\n    <tr>\n      <th>2021-02-21</th>\n      <td>-1.188967</td>\n      <td>0.516794</td>\n      <td>0.284324</td>\n      <td>5</td>\n      <td>2</td>\n    </tr>\n    <tr>\n      <th>2021-02-22</th>\n      <td>-0.245231</td>\n      <td>-0.242355</td>\n      <td>-2.834809</td>\n      <td>5</td>\n      <td>3</td>\n    </tr>\n    <tr>\n      <th>2021-02-23</th>\n      <td>-1.421828</td>\n      <td>-0.474671</td>\n      <td>0.953416</td>\n      <td>5</td>\n      <td>4</td>\n    </tr>\n    <tr>\n      <th>2021-02-24</th>\n      <td>-0.640503</td>\n      <td>-0.712421</td>\n      <td>-1.224029</td>\n      <td>5</td>\n      <td>5</td>\n    </tr>\n    <tr>\n      <th>2021-02-25</th>\n      <td>0.815809</td>\n      <td>0.702502</td>\n      <td>-1.608049</td>\n      <td>5</td>\n      <td>6</td>\n    </tr>\n  </tbody>\n</table>\n</div>"
     },
     "metadata": {},
     "execution_count": 49
    }
   ],
   "source": [
    "df.loc[:, 'D'] = np.array([5]*len(df))\n",
    "df"
   ]
  },
  {
   "cell_type": "code",
   "execution_count": 6,
   "metadata": {},
   "outputs": [
    {
     "output_type": "execute_result",
     "data": {
      "text/plain": [
       "6"
      ]
     },
     "metadata": {},
     "execution_count": 6
    }
   ],
   "source": [
    "len(df)"
   ]
  },
  {
   "source": [
    "## 4. 缺失值"
   ],
   "cell_type": "markdown",
   "metadata": {}
  },
  {
   "cell_type": "code",
   "execution_count": 56,
   "metadata": {},
   "outputs": [
    {
     "output_type": "execute_result",
     "data": {
      "text/plain": [
       "                   A         B         C  D  F    E\n",
       "2021-02-20 -0.575321  0.641131  0.277875  5  1  1.0\n",
       "2021-02-21 -1.188967  0.516794  0.284324  5  2  1.0\n",
       "2021-02-22 -0.245231 -0.242355 -2.834809  5  3  NaN\n",
       "2021-02-23 -1.421828 -0.474671  0.953416  5  4  NaN"
      ],
      "text/html": "<div>\n<style scoped>\n    .dataframe tbody tr th:only-of-type {\n        vertical-align: middle;\n    }\n\n    .dataframe tbody tr th {\n        vertical-align: top;\n    }\n\n    .dataframe thead th {\n        text-align: right;\n    }\n</style>\n<table border=\"1\" class=\"dataframe\">\n  <thead>\n    <tr style=\"text-align: right;\">\n      <th></th>\n      <th>A</th>\n      <th>B</th>\n      <th>C</th>\n      <th>D</th>\n      <th>F</th>\n      <th>E</th>\n    </tr>\n  </thead>\n  <tbody>\n    <tr>\n      <th>2021-02-20</th>\n      <td>-0.575321</td>\n      <td>0.641131</td>\n      <td>0.277875</td>\n      <td>5</td>\n      <td>1</td>\n      <td>1.0</td>\n    </tr>\n    <tr>\n      <th>2021-02-21</th>\n      <td>-1.188967</td>\n      <td>0.516794</td>\n      <td>0.284324</td>\n      <td>5</td>\n      <td>2</td>\n      <td>1.0</td>\n    </tr>\n    <tr>\n      <th>2021-02-22</th>\n      <td>-0.245231</td>\n      <td>-0.242355</td>\n      <td>-2.834809</td>\n      <td>5</td>\n      <td>3</td>\n      <td>NaN</td>\n    </tr>\n    <tr>\n      <th>2021-02-23</th>\n      <td>-1.421828</td>\n      <td>-0.474671</td>\n      <td>0.953416</td>\n      <td>5</td>\n      <td>4</td>\n      <td>NaN</td>\n    </tr>\n  </tbody>\n</table>\n</div>"
     },
     "metadata": {},
     "execution_count": 56
    }
   ],
   "source": [
    "df1 = df.reindex(index=dates[0:4], columns=list(df.columns) + ['E'])\n",
    "df1.loc[dates[0]:dates[1],'E'] = 1\n",
    "df1"
   ]
  },
  {
   "cell_type": "code",
   "execution_count": 57,
   "metadata": {},
   "outputs": [
    {
     "output_type": "execute_result",
     "data": {
      "text/plain": [
       "                   A         B         C  D  F    E\n",
       "2021-02-20 -0.575321  0.641131  0.277875  5  1  1.0\n",
       "2021-02-21 -1.188967  0.516794  0.284324  5  2  1.0"
      ],
      "text/html": "<div>\n<style scoped>\n    .dataframe tbody tr th:only-of-type {\n        vertical-align: middle;\n    }\n\n    .dataframe tbody tr th {\n        vertical-align: top;\n    }\n\n    .dataframe thead th {\n        text-align: right;\n    }\n</style>\n<table border=\"1\" class=\"dataframe\">\n  <thead>\n    <tr style=\"text-align: right;\">\n      <th></th>\n      <th>A</th>\n      <th>B</th>\n      <th>C</th>\n      <th>D</th>\n      <th>F</th>\n      <th>E</th>\n    </tr>\n  </thead>\n  <tbody>\n    <tr>\n      <th>2021-02-20</th>\n      <td>-0.575321</td>\n      <td>0.641131</td>\n      <td>0.277875</td>\n      <td>5</td>\n      <td>1</td>\n      <td>1.0</td>\n    </tr>\n    <tr>\n      <th>2021-02-21</th>\n      <td>-1.188967</td>\n      <td>0.516794</td>\n      <td>0.284324</td>\n      <td>5</td>\n      <td>2</td>\n      <td>1.0</td>\n    </tr>\n  </tbody>\n</table>\n</div>"
     },
     "metadata": {},
     "execution_count": 57
    }
   ],
   "source": [
    "# 删除缺失数据行\n",
    "df1.dropna(how='any')"
   ]
  },
  {
   "cell_type": "code",
   "execution_count": 58,
   "metadata": {},
   "outputs": [
    {
     "output_type": "execute_result",
     "data": {
      "text/plain": [
       "                   A         B         C  D  F    E\n",
       "2021-02-20 -0.575321  0.641131  0.277875  5  1  1.0\n",
       "2021-02-21 -1.188967  0.516794  0.284324  5  2  1.0\n",
       "2021-02-22 -0.245231 -0.242355 -2.834809  5  3  5.0\n",
       "2021-02-23 -1.421828 -0.474671  0.953416  5  4  5.0"
      ],
      "text/html": "<div>\n<style scoped>\n    .dataframe tbody tr th:only-of-type {\n        vertical-align: middle;\n    }\n\n    .dataframe tbody tr th {\n        vertical-align: top;\n    }\n\n    .dataframe thead th {\n        text-align: right;\n    }\n</style>\n<table border=\"1\" class=\"dataframe\">\n  <thead>\n    <tr style=\"text-align: right;\">\n      <th></th>\n      <th>A</th>\n      <th>B</th>\n      <th>C</th>\n      <th>D</th>\n      <th>F</th>\n      <th>E</th>\n    </tr>\n  </thead>\n  <tbody>\n    <tr>\n      <th>2021-02-20</th>\n      <td>-0.575321</td>\n      <td>0.641131</td>\n      <td>0.277875</td>\n      <td>5</td>\n      <td>1</td>\n      <td>1.0</td>\n    </tr>\n    <tr>\n      <th>2021-02-21</th>\n      <td>-1.188967</td>\n      <td>0.516794</td>\n      <td>0.284324</td>\n      <td>5</td>\n      <td>2</td>\n      <td>1.0</td>\n    </tr>\n    <tr>\n      <th>2021-02-22</th>\n      <td>-0.245231</td>\n      <td>-0.242355</td>\n      <td>-2.834809</td>\n      <td>5</td>\n      <td>3</td>\n      <td>5.0</td>\n    </tr>\n    <tr>\n      <th>2021-02-23</th>\n      <td>-1.421828</td>\n      <td>-0.474671</td>\n      <td>0.953416</td>\n      <td>5</td>\n      <td>4</td>\n      <td>5.0</td>\n    </tr>\n  </tbody>\n</table>\n</div>"
     },
     "metadata": {},
     "execution_count": 58
    }
   ],
   "source": [
    "# 填充\n",
    "df1.fillna(value=5)"
   ]
  },
  {
   "source": [
    "## 5. 运算"
   ],
   "cell_type": "markdown",
   "metadata": {}
  },
  {
   "source": [
    "### 5.1 统计"
   ],
   "cell_type": "markdown",
   "metadata": {}
  },
  {
   "cell_type": "code",
   "execution_count": 60,
   "metadata": {},
   "outputs": [
    {
     "output_type": "execute_result",
     "data": {
      "text/plain": [
       "0.07182990458251581"
      ]
     },
     "metadata": {},
     "execution_count": 60
    }
   ],
   "source": [
    "df['B'].mean()"
   ]
  },
  {
   "cell_type": "code",
   "execution_count": 61,
   "metadata": {},
   "outputs": [
    {
     "output_type": "execute_result",
     "data": {
      "text/plain": [
       "2021-02-20    1.268737\n",
       "2021-02-21    1.322430\n",
       "2021-02-22    0.935521\n",
       "2021-02-23    1.611383\n",
       "2021-02-24    1.484609\n",
       "2021-02-25    2.182052\n",
       "Freq: D, dtype: float64"
      ]
     },
     "metadata": {},
     "execution_count": 61
    }
   ],
   "source": [
    "# 在行上求平均值\n",
    "df.mean(1)"
   ]
  },
  {
   "source": [
    "## 6. 合并\n",
    "### 6.1 结合"
   ],
   "cell_type": "markdown",
   "metadata": {}
  },
  {
   "cell_type": "code",
   "execution_count": 7,
   "metadata": {},
   "outputs": [
    {
     "output_type": "execute_result",
     "data": {
      "text/plain": [
       "          0         1         2         3\n",
       "0 -0.547341 -2.082929 -0.190950 -0.327501\n",
       "1 -1.336805  1.148632 -0.703326 -1.178525\n",
       "2 -1.114126 -1.051393  2.150010 -1.909319\n",
       "3 -0.838999 -0.167628 -0.095623 -1.230762\n",
       "4  0.300337 -0.803076 -1.305823  0.565151\n",
       "5 -0.160864  2.044033 -0.973718 -1.314739\n",
       "6  1.039741  0.924924 -0.246127 -1.589007\n",
       "7 -0.702157 -0.888025 -0.041296  0.184977\n",
       "8  0.058471 -0.833152 -1.551953  0.679490\n",
       "9 -0.521986  0.819052 -2.624007  0.340274"
      ],
      "text/html": "<div>\n<style scoped>\n    .dataframe tbody tr th:only-of-type {\n        vertical-align: middle;\n    }\n\n    .dataframe tbody tr th {\n        vertical-align: top;\n    }\n\n    .dataframe thead th {\n        text-align: right;\n    }\n</style>\n<table border=\"1\" class=\"dataframe\">\n  <thead>\n    <tr style=\"text-align: right;\">\n      <th></th>\n      <th>0</th>\n      <th>1</th>\n      <th>2</th>\n      <th>3</th>\n    </tr>\n  </thead>\n  <tbody>\n    <tr>\n      <th>0</th>\n      <td>-0.547341</td>\n      <td>-2.082929</td>\n      <td>-0.190950</td>\n      <td>-0.327501</td>\n    </tr>\n    <tr>\n      <th>1</th>\n      <td>-1.336805</td>\n      <td>1.148632</td>\n      <td>-0.703326</td>\n      <td>-1.178525</td>\n    </tr>\n    <tr>\n      <th>2</th>\n      <td>-1.114126</td>\n      <td>-1.051393</td>\n      <td>2.150010</td>\n      <td>-1.909319</td>\n    </tr>\n    <tr>\n      <th>3</th>\n      <td>-0.838999</td>\n      <td>-0.167628</td>\n      <td>-0.095623</td>\n      <td>-1.230762</td>\n    </tr>\n    <tr>\n      <th>4</th>\n      <td>0.300337</td>\n      <td>-0.803076</td>\n      <td>-1.305823</td>\n      <td>0.565151</td>\n    </tr>\n    <tr>\n      <th>5</th>\n      <td>-0.160864</td>\n      <td>2.044033</td>\n      <td>-0.973718</td>\n      <td>-1.314739</td>\n    </tr>\n    <tr>\n      <th>6</th>\n      <td>1.039741</td>\n      <td>0.924924</td>\n      <td>-0.246127</td>\n      <td>-1.589007</td>\n    </tr>\n    <tr>\n      <th>7</th>\n      <td>-0.702157</td>\n      <td>-0.888025</td>\n      <td>-0.041296</td>\n      <td>0.184977</td>\n    </tr>\n    <tr>\n      <th>8</th>\n      <td>0.058471</td>\n      <td>-0.833152</td>\n      <td>-1.551953</td>\n      <td>0.679490</td>\n    </tr>\n    <tr>\n      <th>9</th>\n      <td>-0.521986</td>\n      <td>0.819052</td>\n      <td>-2.624007</td>\n      <td>0.340274</td>\n    </tr>\n  </tbody>\n</table>\n</div>"
     },
     "metadata": {},
     "execution_count": 7
    }
   ],
   "source": [
    "df = pd.DataFrame(np.random.randn(10,4))\n",
    "df"
   ]
  },
  {
   "cell_type": "code",
   "execution_count": 14,
   "metadata": {},
   "outputs": [
    {
     "output_type": "execute_result",
     "data": {
      "text/plain": [
       "[          0         1         2         3\n",
       " 0 -0.547341 -2.082929 -0.190950 -0.327501\n",
       " 1 -1.336805  1.148632 -0.703326 -1.178525\n",
       " 2 -1.114126 -1.051393  2.150010 -1.909319,\n",
       "           0         1         2         3\n",
       " 3 -0.838999 -0.167628 -0.095623 -1.230762\n",
       " 4  0.300337 -0.803076 -1.305823  0.565151\n",
       " 5 -0.160864  2.044033 -0.973718 -1.314739\n",
       " 6  1.039741  0.924924 -0.246127 -1.589007,\n",
       "           0         1         2         3\n",
       " 7 -0.702157 -0.888025 -0.041296  0.184977\n",
       " 8  0.058471 -0.833152 -1.551953  0.679490\n",
       " 9 -0.521986  0.819052 -2.624007  0.340274]"
      ]
     },
     "metadata": {},
     "execution_count": 14
    }
   ],
   "source": [
    "# 切片\n",
    "pieces = [df[:3],df[3:7],df[7:]]\n",
    "pieces"
   ]
  },
  {
   "cell_type": "code",
   "execution_count": 15,
   "metadata": {},
   "outputs": [
    {
     "output_type": "execute_result",
     "data": {
      "text/plain": [
       "          0         1         2         3\n",
       "0 -0.547341 -2.082929 -0.190950 -0.327501\n",
       "1 -1.336805  1.148632 -0.703326 -1.178525\n",
       "2 -1.114126 -1.051393  2.150010 -1.909319\n",
       "3 -0.838999 -0.167628 -0.095623 -1.230762\n",
       "4  0.300337 -0.803076 -1.305823  0.565151\n",
       "5 -0.160864  2.044033 -0.973718 -1.314739\n",
       "6  1.039741  0.924924 -0.246127 -1.589007\n",
       "7 -0.702157 -0.888025 -0.041296  0.184977\n",
       "8  0.058471 -0.833152 -1.551953  0.679490\n",
       "9 -0.521986  0.819052 -2.624007  0.340274"
      ],
      "text/html": "<div>\n<style scoped>\n    .dataframe tbody tr th:only-of-type {\n        vertical-align: middle;\n    }\n\n    .dataframe tbody tr th {\n        vertical-align: top;\n    }\n\n    .dataframe thead th {\n        text-align: right;\n    }\n</style>\n<table border=\"1\" class=\"dataframe\">\n  <thead>\n    <tr style=\"text-align: right;\">\n      <th></th>\n      <th>0</th>\n      <th>1</th>\n      <th>2</th>\n      <th>3</th>\n    </tr>\n  </thead>\n  <tbody>\n    <tr>\n      <th>0</th>\n      <td>-0.547341</td>\n      <td>-2.082929</td>\n      <td>-0.190950</td>\n      <td>-0.327501</td>\n    </tr>\n    <tr>\n      <th>1</th>\n      <td>-1.336805</td>\n      <td>1.148632</td>\n      <td>-0.703326</td>\n      <td>-1.178525</td>\n    </tr>\n    <tr>\n      <th>2</th>\n      <td>-1.114126</td>\n      <td>-1.051393</td>\n      <td>2.150010</td>\n      <td>-1.909319</td>\n    </tr>\n    <tr>\n      <th>3</th>\n      <td>-0.838999</td>\n      <td>-0.167628</td>\n      <td>-0.095623</td>\n      <td>-1.230762</td>\n    </tr>\n    <tr>\n      <th>4</th>\n      <td>0.300337</td>\n      <td>-0.803076</td>\n      <td>-1.305823</td>\n      <td>0.565151</td>\n    </tr>\n    <tr>\n      <th>5</th>\n      <td>-0.160864</td>\n      <td>2.044033</td>\n      <td>-0.973718</td>\n      <td>-1.314739</td>\n    </tr>\n    <tr>\n      <th>6</th>\n      <td>1.039741</td>\n      <td>0.924924</td>\n      <td>-0.246127</td>\n      <td>-1.589007</td>\n    </tr>\n    <tr>\n      <th>7</th>\n      <td>-0.702157</td>\n      <td>-0.888025</td>\n      <td>-0.041296</td>\n      <td>0.184977</td>\n    </tr>\n    <tr>\n      <th>8</th>\n      <td>0.058471</td>\n      <td>-0.833152</td>\n      <td>-1.551953</td>\n      <td>0.679490</td>\n    </tr>\n    <tr>\n      <th>9</th>\n      <td>-0.521986</td>\n      <td>0.819052</td>\n      <td>-2.624007</td>\n      <td>0.340274</td>\n    </tr>\n  </tbody>\n</table>\n</div>"
     },
     "metadata": {},
     "execution_count": 15
    }
   ],
   "source": [
    "pd.concat(pieces)"
   ]
  },
  {
   "source": [
    "### 6.2 连接  "
   ],
   "cell_type": "markdown",
   "metadata": {}
  },
  {
   "cell_type": "code",
   "execution_count": 18,
   "metadata": {},
   "outputs": [],
   "source": [
    "left = pd.DataFrame({'key':['foo', 'foo'], 'value':[1,2]})\n",
    "right = pd.DataFrame({'key':['foo','foo'], 'value':[4,5]})\n",
    "# 注意大括号的位置"
   ]
  },
  {
   "cell_type": "code",
   "execution_count": 20,
   "metadata": {},
   "outputs": [
    {
     "output_type": "execute_result",
     "data": {
      "text/plain": [
       "   key  value_x  value_y\n",
       "0  foo        1        4\n",
       "1  foo        1        5\n",
       "2  foo        2        4\n",
       "3  foo        2        5"
      ],
      "text/html": "<div>\n<style scoped>\n    .dataframe tbody tr th:only-of-type {\n        vertical-align: middle;\n    }\n\n    .dataframe tbody tr th {\n        vertical-align: top;\n    }\n\n    .dataframe thead th {\n        text-align: right;\n    }\n</style>\n<table border=\"1\" class=\"dataframe\">\n  <thead>\n    <tr style=\"text-align: right;\">\n      <th></th>\n      <th>key</th>\n      <th>value_x</th>\n      <th>value_y</th>\n    </tr>\n  </thead>\n  <tbody>\n    <tr>\n      <th>0</th>\n      <td>foo</td>\n      <td>1</td>\n      <td>4</td>\n    </tr>\n    <tr>\n      <th>1</th>\n      <td>foo</td>\n      <td>1</td>\n      <td>5</td>\n    </tr>\n    <tr>\n      <th>2</th>\n      <td>foo</td>\n      <td>2</td>\n      <td>4</td>\n    </tr>\n    <tr>\n      <th>3</th>\n      <td>foo</td>\n      <td>2</td>\n      <td>5</td>\n    </tr>\n  </tbody>\n</table>\n</div>"
     },
     "metadata": {},
     "execution_count": 20
    }
   ],
   "source": [
    "pd.merge(left, right, on='key')"
   ]
  },
  {
   "source": [
    "### 6.3 追加"
   ],
   "cell_type": "markdown",
   "metadata": {}
  },
  {
   "cell_type": "code",
   "execution_count": 21,
   "metadata": {},
   "outputs": [
    {
     "output_type": "execute_result",
     "data": {
      "text/plain": [
       "          A         B         C         D\n",
       "0  0.682536  1.500781 -0.565660  1.050876\n",
       "1 -0.348679 -0.434257 -0.103393 -0.625979\n",
       "2  0.343289 -0.534163  1.064812 -0.425040\n",
       "3 -0.606479 -0.726873 -0.985852 -0.882931\n",
       "4 -2.016893  0.301592  0.183905  0.075363\n",
       "5  0.574745 -0.352458 -0.118133 -0.971813\n",
       "6 -1.170900  1.239958 -0.904074  1.047417\n",
       "7 -0.788442 -0.777061  1.103504  0.705338"
      ],
      "text/html": "<div>\n<style scoped>\n    .dataframe tbody tr th:only-of-type {\n        vertical-align: middle;\n    }\n\n    .dataframe tbody tr th {\n        vertical-align: top;\n    }\n\n    .dataframe thead th {\n        text-align: right;\n    }\n</style>\n<table border=\"1\" class=\"dataframe\">\n  <thead>\n    <tr style=\"text-align: right;\">\n      <th></th>\n      <th>A</th>\n      <th>B</th>\n      <th>C</th>\n      <th>D</th>\n    </tr>\n  </thead>\n  <tbody>\n    <tr>\n      <th>0</th>\n      <td>0.682536</td>\n      <td>1.500781</td>\n      <td>-0.565660</td>\n      <td>1.050876</td>\n    </tr>\n    <tr>\n      <th>1</th>\n      <td>-0.348679</td>\n      <td>-0.434257</td>\n      <td>-0.103393</td>\n      <td>-0.625979</td>\n    </tr>\n    <tr>\n      <th>2</th>\n      <td>0.343289</td>\n      <td>-0.534163</td>\n      <td>1.064812</td>\n      <td>-0.425040</td>\n    </tr>\n    <tr>\n      <th>3</th>\n      <td>-0.606479</td>\n      <td>-0.726873</td>\n      <td>-0.985852</td>\n      <td>-0.882931</td>\n    </tr>\n    <tr>\n      <th>4</th>\n      <td>-2.016893</td>\n      <td>0.301592</td>\n      <td>0.183905</td>\n      <td>0.075363</td>\n    </tr>\n    <tr>\n      <th>5</th>\n      <td>0.574745</td>\n      <td>-0.352458</td>\n      <td>-0.118133</td>\n      <td>-0.971813</td>\n    </tr>\n    <tr>\n      <th>6</th>\n      <td>-1.170900</td>\n      <td>1.239958</td>\n      <td>-0.904074</td>\n      <td>1.047417</td>\n    </tr>\n    <tr>\n      <th>7</th>\n      <td>-0.788442</td>\n      <td>-0.777061</td>\n      <td>1.103504</td>\n      <td>0.705338</td>\n    </tr>\n  </tbody>\n</table>\n</div>"
     },
     "metadata": {},
     "execution_count": 21
    }
   ],
   "source": [
    "df = pd.DataFrame(np.random.randn(8, 4), columns=['A', 'B', 'C', 'D'])\n",
    "df"
   ]
  },
  {
   "cell_type": "code",
   "execution_count": 22,
   "metadata": {},
   "outputs": [],
   "source": [
    "s = df.iloc[3]"
   ]
  },
  {
   "cell_type": "code",
   "execution_count": 23,
   "metadata": {},
   "outputs": [
    {
     "output_type": "execute_result",
     "data": {
      "text/plain": [
       "          A         B         C         D\n",
       "0  0.682536  1.500781 -0.565660  1.050876\n",
       "1 -0.348679 -0.434257 -0.103393 -0.625979\n",
       "2  0.343289 -0.534163  1.064812 -0.425040\n",
       "3 -0.606479 -0.726873 -0.985852 -0.882931\n",
       "4 -2.016893  0.301592  0.183905  0.075363\n",
       "5  0.574745 -0.352458 -0.118133 -0.971813\n",
       "6 -1.170900  1.239958 -0.904074  1.047417\n",
       "7 -0.788442 -0.777061  1.103504  0.705338"
      ],
      "text/html": "<div>\n<style scoped>\n    .dataframe tbody tr th:only-of-type {\n        vertical-align: middle;\n    }\n\n    .dataframe tbody tr th {\n        vertical-align: top;\n    }\n\n    .dataframe thead th {\n        text-align: right;\n    }\n</style>\n<table border=\"1\" class=\"dataframe\">\n  <thead>\n    <tr style=\"text-align: right;\">\n      <th></th>\n      <th>A</th>\n      <th>B</th>\n      <th>C</th>\n      <th>D</th>\n    </tr>\n  </thead>\n  <tbody>\n    <tr>\n      <th>0</th>\n      <td>0.682536</td>\n      <td>1.500781</td>\n      <td>-0.565660</td>\n      <td>1.050876</td>\n    </tr>\n    <tr>\n      <th>1</th>\n      <td>-0.348679</td>\n      <td>-0.434257</td>\n      <td>-0.103393</td>\n      <td>-0.625979</td>\n    </tr>\n    <tr>\n      <th>2</th>\n      <td>0.343289</td>\n      <td>-0.534163</td>\n      <td>1.064812</td>\n      <td>-0.425040</td>\n    </tr>\n    <tr>\n      <th>3</th>\n      <td>-0.606479</td>\n      <td>-0.726873</td>\n      <td>-0.985852</td>\n      <td>-0.882931</td>\n    </tr>\n    <tr>\n      <th>4</th>\n      <td>-2.016893</td>\n      <td>0.301592</td>\n      <td>0.183905</td>\n      <td>0.075363</td>\n    </tr>\n    <tr>\n      <th>5</th>\n      <td>0.574745</td>\n      <td>-0.352458</td>\n      <td>-0.118133</td>\n      <td>-0.971813</td>\n    </tr>\n    <tr>\n      <th>6</th>\n      <td>-1.170900</td>\n      <td>1.239958</td>\n      <td>-0.904074</td>\n      <td>1.047417</td>\n    </tr>\n    <tr>\n      <th>7</th>\n      <td>-0.788442</td>\n      <td>-0.777061</td>\n      <td>1.103504</td>\n      <td>0.705338</td>\n    </tr>\n  </tbody>\n</table>\n</div>"
     },
     "metadata": {},
     "execution_count": 23
    }
   ],
   "source": [
    "df.append(s, ignore_index=True)\n",
    "df"
   ]
  },
  {
   "source": [
    "## 7. 分组"
   ],
   "cell_type": "markdown",
   "metadata": {}
  },
  {
   "cell_type": "code",
   "execution_count": 25,
   "metadata": {},
   "outputs": [
    {
     "output_type": "execute_result",
     "data": {
      "text/plain": [
       "     A      B         C         D\n",
       "0  foo    one  0.559045 -0.049456\n",
       "1  bar    one  0.681586 -0.550256\n",
       "2  foo    two -1.434285 -0.785119\n",
       "3  bar  three -2.032419 -0.318699\n",
       "4  foo    two -0.330845 -0.448533\n",
       "5  bar    two  0.646538  0.682775\n",
       "6  foo    one -0.012243  1.444787\n",
       "7  foo  three  0.556337  1.417032"
      ],
      "text/html": "<div>\n<style scoped>\n    .dataframe tbody tr th:only-of-type {\n        vertical-align: middle;\n    }\n\n    .dataframe tbody tr th {\n        vertical-align: top;\n    }\n\n    .dataframe thead th {\n        text-align: right;\n    }\n</style>\n<table border=\"1\" class=\"dataframe\">\n  <thead>\n    <tr style=\"text-align: right;\">\n      <th></th>\n      <th>A</th>\n      <th>B</th>\n      <th>C</th>\n      <th>D</th>\n    </tr>\n  </thead>\n  <tbody>\n    <tr>\n      <th>0</th>\n      <td>foo</td>\n      <td>one</td>\n      <td>0.559045</td>\n      <td>-0.049456</td>\n    </tr>\n    <tr>\n      <th>1</th>\n      <td>bar</td>\n      <td>one</td>\n      <td>0.681586</td>\n      <td>-0.550256</td>\n    </tr>\n    <tr>\n      <th>2</th>\n      <td>foo</td>\n      <td>two</td>\n      <td>-1.434285</td>\n      <td>-0.785119</td>\n    </tr>\n    <tr>\n      <th>3</th>\n      <td>bar</td>\n      <td>three</td>\n      <td>-2.032419</td>\n      <td>-0.318699</td>\n    </tr>\n    <tr>\n      <th>4</th>\n      <td>foo</td>\n      <td>two</td>\n      <td>-0.330845</td>\n      <td>-0.448533</td>\n    </tr>\n    <tr>\n      <th>5</th>\n      <td>bar</td>\n      <td>two</td>\n      <td>0.646538</td>\n      <td>0.682775</td>\n    </tr>\n    <tr>\n      <th>6</th>\n      <td>foo</td>\n      <td>one</td>\n      <td>-0.012243</td>\n      <td>1.444787</td>\n    </tr>\n    <tr>\n      <th>7</th>\n      <td>foo</td>\n      <td>three</td>\n      <td>0.556337</td>\n      <td>1.417032</td>\n    </tr>\n  </tbody>\n</table>\n</div>"
     },
     "metadata": {},
     "execution_count": 25
    }
   ],
   "source": [
    "df = pd.DataFrame({'A': ['foo', 'bar', 'foo', 'bar',\n",
    "   ....:                          'foo', 'bar', 'foo', 'foo'],\n",
    "   ....:                    'B': ['one', 'one', 'two', 'three',\n",
    "   ....:                          'two', 'two', 'one', 'three'],\n",
    "   ....:                    'C': np.random.randn(8),\n",
    "   ....:                    'D': np.random.randn(8)})\n",
    "df"
   ]
  },
  {
   "cell_type": "code",
   "execution_count": 27,
   "metadata": {},
   "outputs": [
    {
     "output_type": "execute_result",
     "data": {
      "text/plain": [
       "            C         D\n",
       "A                      \n",
       "bar -0.704295 -0.186180\n",
       "foo -0.661990  1.578711"
      ],
      "text/html": "<div>\n<style scoped>\n    .dataframe tbody tr th:only-of-type {\n        vertical-align: middle;\n    }\n\n    .dataframe tbody tr th {\n        vertical-align: top;\n    }\n\n    .dataframe thead th {\n        text-align: right;\n    }\n</style>\n<table border=\"1\" class=\"dataframe\">\n  <thead>\n    <tr style=\"text-align: right;\">\n      <th></th>\n      <th>C</th>\n      <th>D</th>\n    </tr>\n    <tr>\n      <th>A</th>\n      <th></th>\n      <th></th>\n    </tr>\n  </thead>\n  <tbody>\n    <tr>\n      <th>bar</th>\n      <td>-0.704295</td>\n      <td>-0.186180</td>\n    </tr>\n    <tr>\n      <th>foo</th>\n      <td>-0.661990</td>\n      <td>1.578711</td>\n    </tr>\n  </tbody>\n</table>\n</div>"
     },
     "metadata": {},
     "execution_count": 27
    }
   ],
   "source": [
    "df.groupby('A').sum()"
   ]
  },
  {
   "cell_type": "code",
   "execution_count": 29,
   "metadata": {},
   "outputs": [
    {
     "output_type": "execute_result",
     "data": {
      "text/plain": [
       "                  C         D\n",
       "A   B                        \n",
       "bar one    0.681586 -0.550256\n",
       "    three -2.032419 -0.318699\n",
       "    two    0.646538  0.682775\n",
       "foo one    0.546802  1.395331\n",
       "    three  0.556337  1.417032\n",
       "    two   -1.765130 -1.233651"
      ],
      "text/html": "<div>\n<style scoped>\n    .dataframe tbody tr th:only-of-type {\n        vertical-align: middle;\n    }\n\n    .dataframe tbody tr th {\n        vertical-align: top;\n    }\n\n    .dataframe thead th {\n        text-align: right;\n    }\n</style>\n<table border=\"1\" class=\"dataframe\">\n  <thead>\n    <tr style=\"text-align: right;\">\n      <th></th>\n      <th></th>\n      <th>C</th>\n      <th>D</th>\n    </tr>\n    <tr>\n      <th>A</th>\n      <th>B</th>\n      <th></th>\n      <th></th>\n    </tr>\n  </thead>\n  <tbody>\n    <tr>\n      <th rowspan=\"3\" valign=\"top\">bar</th>\n      <th>one</th>\n      <td>0.681586</td>\n      <td>-0.550256</td>\n    </tr>\n    <tr>\n      <th>three</th>\n      <td>-2.032419</td>\n      <td>-0.318699</td>\n    </tr>\n    <tr>\n      <th>two</th>\n      <td>0.646538</td>\n      <td>0.682775</td>\n    </tr>\n    <tr>\n      <th rowspan=\"3\" valign=\"top\">foo</th>\n      <th>one</th>\n      <td>0.546802</td>\n      <td>1.395331</td>\n    </tr>\n    <tr>\n      <th>three</th>\n      <td>0.556337</td>\n      <td>1.417032</td>\n    </tr>\n    <tr>\n      <th>two</th>\n      <td>-1.765130</td>\n      <td>-1.233651</td>\n    </tr>\n  </tbody>\n</table>\n</div>"
     },
     "metadata": {},
     "execution_count": 29
    }
   ],
   "source": [
    "# 多层索引\n",
    "df.groupby(['A','B']).sum()\n",
    "# 注意中括号"
   ]
  },
  {
   "source": [
    "## 8. 重塑 "
   ],
   "cell_type": "markdown",
   "metadata": {}
  },
  {
   "cell_type": "code",
   "execution_count": 36,
   "metadata": {},
   "outputs": [
    {
     "output_type": "execute_result",
     "data": {
      "text/plain": [
       "[('bar', 'one'),\n",
       " ('bar', 'two'),\n",
       " ('baz', 'one'),\n",
       " ('baz', 'two'),\n",
       " ('foo', 'one'),\n",
       " ('foo', 'two'),\n",
       " ('qux', 'one'),\n",
       " ('qux', 'two')]"
      ]
     },
     "metadata": {},
     "execution_count": 36
    }
   ],
   "source": [
    "tuples = list(zip(*[['bar', 'bar', 'baz', 'baz',\n",
    "   ....:                      'foo', 'foo', 'qux', 'qux'],\n",
    "   ....:                     ['one', 'two', 'one', 'two',\n",
    "   ....:                      'one', 'two', 'one', 'two']]))\n",
    "   ....: \n",
    "tuples\n",
    "# zip用法如下\n",
    "# >>>a = [1,2,3]\n",
    "# >>> b = [4,5,6]\n",
    "# >>> c = [4,5,6,7,8]\n",
    "# >>> zipped = zip(a,b)     # 打包为元组的列表\n",
    "# [(1, 4), (2, 5), (3, 6)]"
   ]
  },
  {
   "cell_type": "code",
   "execution_count": 37,
   "metadata": {},
   "outputs": [
    {
     "output_type": "execute_result",
     "data": {
      "text/plain": [
       "MultiIndex([('bar', 'one'),\n",
       "            ('bar', 'two'),\n",
       "            ('baz', 'one'),\n",
       "            ('baz', 'two'),\n",
       "            ('foo', 'one'),\n",
       "            ('foo', 'two'),\n",
       "            ('qux', 'one'),\n",
       "            ('qux', 'two')],\n",
       "           names=['first', 'second'])"
      ]
     },
     "metadata": {},
     "execution_count": 37
    }
   ],
   "source": [
    "index = pd.MultiIndex.from_tuples(tuples, names=['first', 'second'])\n",
    "index"
   ]
  },
  {
   "cell_type": "code",
   "execution_count": 38,
   "metadata": {},
   "outputs": [
    {
     "output_type": "execute_result",
     "data": {
      "text/plain": [
       "                     A         B\n",
       "first second                    \n",
       "bar   one    -0.266617 -2.198648\n",
       "      two     0.291429 -0.749912\n",
       "baz   one     1.551538  0.306367\n",
       "      two     0.149924 -1.410553\n",
       "foo   one    -1.186484  1.318467\n",
       "      two     1.017068  0.457525\n",
       "qux   one    -0.007335  0.299786\n",
       "      two    -0.079791 -0.240426"
      ],
      "text/html": "<div>\n<style scoped>\n    .dataframe tbody tr th:only-of-type {\n        vertical-align: middle;\n    }\n\n    .dataframe tbody tr th {\n        vertical-align: top;\n    }\n\n    .dataframe thead th {\n        text-align: right;\n    }\n</style>\n<table border=\"1\" class=\"dataframe\">\n  <thead>\n    <tr style=\"text-align: right;\">\n      <th></th>\n      <th></th>\n      <th>A</th>\n      <th>B</th>\n    </tr>\n    <tr>\n      <th>first</th>\n      <th>second</th>\n      <th></th>\n      <th></th>\n    </tr>\n  </thead>\n  <tbody>\n    <tr>\n      <th rowspan=\"2\" valign=\"top\">bar</th>\n      <th>one</th>\n      <td>-0.266617</td>\n      <td>-2.198648</td>\n    </tr>\n    <tr>\n      <th>two</th>\n      <td>0.291429</td>\n      <td>-0.749912</td>\n    </tr>\n    <tr>\n      <th rowspan=\"2\" valign=\"top\">baz</th>\n      <th>one</th>\n      <td>1.551538</td>\n      <td>0.306367</td>\n    </tr>\n    <tr>\n      <th>two</th>\n      <td>0.149924</td>\n      <td>-1.410553</td>\n    </tr>\n    <tr>\n      <th rowspan=\"2\" valign=\"top\">foo</th>\n      <th>one</th>\n      <td>-1.186484</td>\n      <td>1.318467</td>\n    </tr>\n    <tr>\n      <th>two</th>\n      <td>1.017068</td>\n      <td>0.457525</td>\n    </tr>\n    <tr>\n      <th rowspan=\"2\" valign=\"top\">qux</th>\n      <th>one</th>\n      <td>-0.007335</td>\n      <td>0.299786</td>\n    </tr>\n    <tr>\n      <th>two</th>\n      <td>-0.079791</td>\n      <td>-0.240426</td>\n    </tr>\n  </tbody>\n</table>\n</div>"
     },
     "metadata": {},
     "execution_count": 38
    }
   ],
   "source": [
    "df = pd.DataFrame(np.random.randn(8, 2), index=index, columns=['A', 'B'])\n",
    "df"
   ]
  },
  {
   "cell_type": "code",
   "execution_count": 40,
   "metadata": {},
   "outputs": [
    {
     "output_type": "execute_result",
     "data": {
      "text/plain": [
       "first  second   \n",
       "bar    one     A   -0.266617\n",
       "               B   -2.198648\n",
       "       two     A    0.291429\n",
       "               B   -0.749912\n",
       "baz    one     A    1.551538\n",
       "               B    0.306367\n",
       "       two     A    0.149924\n",
       "               B   -1.410553\n",
       "foo    one     A   -1.186484\n",
       "               B    1.318467\n",
       "       two     A    1.017068\n",
       "               B    0.457525\n",
       "qux    one     A   -0.007335\n",
       "               B    0.299786\n",
       "       two     A   -0.079791\n",
       "               B   -0.240426\n",
       "dtype: float64"
      ]
     },
     "metadata": {},
     "execution_count": 40
    }
   ],
   "source": [
    "# stack压缩\n",
    "stacked = df.stack()\n",
    "stacked"
   ]
  },
  {
   "cell_type": "code",
   "execution_count": 41,
   "metadata": {},
   "outputs": [
    {
     "output_type": "execute_result",
     "data": {
      "text/plain": [
       "                     A         B\n",
       "first second                    \n",
       "bar   one    -0.266617 -2.198648\n",
       "      two     0.291429 -0.749912\n",
       "baz   one     1.551538  0.306367\n",
       "      two     0.149924 -1.410553\n",
       "foo   one    -1.186484  1.318467\n",
       "      two     1.017068  0.457525\n",
       "qux   one    -0.007335  0.299786\n",
       "      two    -0.079791 -0.240426"
      ],
      "text/html": "<div>\n<style scoped>\n    .dataframe tbody tr th:only-of-type {\n        vertical-align: middle;\n    }\n\n    .dataframe tbody tr th {\n        vertical-align: top;\n    }\n\n    .dataframe thead th {\n        text-align: right;\n    }\n</style>\n<table border=\"1\" class=\"dataframe\">\n  <thead>\n    <tr style=\"text-align: right;\">\n      <th></th>\n      <th></th>\n      <th>A</th>\n      <th>B</th>\n    </tr>\n    <tr>\n      <th>first</th>\n      <th>second</th>\n      <th></th>\n      <th></th>\n    </tr>\n  </thead>\n  <tbody>\n    <tr>\n      <th rowspan=\"2\" valign=\"top\">bar</th>\n      <th>one</th>\n      <td>-0.266617</td>\n      <td>-2.198648</td>\n    </tr>\n    <tr>\n      <th>two</th>\n      <td>0.291429</td>\n      <td>-0.749912</td>\n    </tr>\n    <tr>\n      <th rowspan=\"2\" valign=\"top\">baz</th>\n      <th>one</th>\n      <td>1.551538</td>\n      <td>0.306367</td>\n    </tr>\n    <tr>\n      <th>two</th>\n      <td>0.149924</td>\n      <td>-1.410553</td>\n    </tr>\n    <tr>\n      <th rowspan=\"2\" valign=\"top\">foo</th>\n      <th>one</th>\n      <td>-1.186484</td>\n      <td>1.318467</td>\n    </tr>\n    <tr>\n      <th>two</th>\n      <td>1.017068</td>\n      <td>0.457525</td>\n    </tr>\n    <tr>\n      <th rowspan=\"2\" valign=\"top\">qux</th>\n      <th>one</th>\n      <td>-0.007335</td>\n      <td>0.299786</td>\n    </tr>\n    <tr>\n      <th>two</th>\n      <td>-0.079791</td>\n      <td>-0.240426</td>\n    </tr>\n  </tbody>\n</table>\n</div>"
     },
     "metadata": {},
     "execution_count": 41
    }
   ],
   "source": [
    "# 压缩后具有多层索引\n",
    "# 默认还原最后一列\n",
    "stacked.unstack()"
   ]
  },
  {
   "source": [
    "## 9. 数据透视表"
   ],
   "cell_type": "markdown",
   "metadata": {}
  },
  {
   "cell_type": "code",
   "execution_count": 43,
   "metadata": {},
   "outputs": [
    {
     "output_type": "execute_result",
     "data": {
      "text/plain": [
       "        A  B    C         D         E\n",
       "0     one  A  foo  1.689671 -0.698901\n",
       "1     one  B  foo -0.990147  1.670040\n",
       "2     two  C  foo  1.779018 -1.289200\n",
       "3   three  A  bar -1.012070  1.257548\n",
       "4     one  B  bar  2.928475  0.029098\n",
       "5     one  C  bar  1.272499 -0.592279\n",
       "6     two  A  foo  1.209681 -1.252153\n",
       "7   three  B  foo -0.587989  1.174857\n",
       "8     one  C  foo -1.235629  1.915401\n",
       "9     one  A  bar -1.043050  0.928881\n",
       "10    two  B  bar  1.711671 -1.200868\n",
       "11  three  C  bar  0.467063  0.715259"
      ],
      "text/html": "<div>\n<style scoped>\n    .dataframe tbody tr th:only-of-type {\n        vertical-align: middle;\n    }\n\n    .dataframe tbody tr th {\n        vertical-align: top;\n    }\n\n    .dataframe thead th {\n        text-align: right;\n    }\n</style>\n<table border=\"1\" class=\"dataframe\">\n  <thead>\n    <tr style=\"text-align: right;\">\n      <th></th>\n      <th>A</th>\n      <th>B</th>\n      <th>C</th>\n      <th>D</th>\n      <th>E</th>\n    </tr>\n  </thead>\n  <tbody>\n    <tr>\n      <th>0</th>\n      <td>one</td>\n      <td>A</td>\n      <td>foo</td>\n      <td>1.689671</td>\n      <td>-0.698901</td>\n    </tr>\n    <tr>\n      <th>1</th>\n      <td>one</td>\n      <td>B</td>\n      <td>foo</td>\n      <td>-0.990147</td>\n      <td>1.670040</td>\n    </tr>\n    <tr>\n      <th>2</th>\n      <td>two</td>\n      <td>C</td>\n      <td>foo</td>\n      <td>1.779018</td>\n      <td>-1.289200</td>\n    </tr>\n    <tr>\n      <th>3</th>\n      <td>three</td>\n      <td>A</td>\n      <td>bar</td>\n      <td>-1.012070</td>\n      <td>1.257548</td>\n    </tr>\n    <tr>\n      <th>4</th>\n      <td>one</td>\n      <td>B</td>\n      <td>bar</td>\n      <td>2.928475</td>\n      <td>0.029098</td>\n    </tr>\n    <tr>\n      <th>5</th>\n      <td>one</td>\n      <td>C</td>\n      <td>bar</td>\n      <td>1.272499</td>\n      <td>-0.592279</td>\n    </tr>\n    <tr>\n      <th>6</th>\n      <td>two</td>\n      <td>A</td>\n      <td>foo</td>\n      <td>1.209681</td>\n      <td>-1.252153</td>\n    </tr>\n    <tr>\n      <th>7</th>\n      <td>three</td>\n      <td>B</td>\n      <td>foo</td>\n      <td>-0.587989</td>\n      <td>1.174857</td>\n    </tr>\n    <tr>\n      <th>8</th>\n      <td>one</td>\n      <td>C</td>\n      <td>foo</td>\n      <td>-1.235629</td>\n      <td>1.915401</td>\n    </tr>\n    <tr>\n      <th>9</th>\n      <td>one</td>\n      <td>A</td>\n      <td>bar</td>\n      <td>-1.043050</td>\n      <td>0.928881</td>\n    </tr>\n    <tr>\n      <th>10</th>\n      <td>two</td>\n      <td>B</td>\n      <td>bar</td>\n      <td>1.711671</td>\n      <td>-1.200868</td>\n    </tr>\n    <tr>\n      <th>11</th>\n      <td>three</td>\n      <td>C</td>\n      <td>bar</td>\n      <td>0.467063</td>\n      <td>0.715259</td>\n    </tr>\n  </tbody>\n</table>\n</div>"
     },
     "metadata": {},
     "execution_count": 43
    }
   ],
   "source": [
    "df = pd.DataFrame({'A': ['one', 'one', 'two', 'three'] * 3,\n",
    "   .....:                    'B': ['A', 'B', 'C'] * 4,\n",
    "   .....:                    'C': ['foo', 'foo', 'foo', 'bar', 'bar', 'bar'] * 2,\n",
    "   .....:                    'D': np.random.randn(12),\n",
    "   .....:                    'E': np.random.randn(12)})\n",
    "   .....:\n",
    "df"
   ]
  },
  {
   "cell_type": "code",
   "execution_count": 44,
   "metadata": {},
   "outputs": [
    {
     "output_type": "execute_result",
     "data": {
      "text/plain": [
       "C             bar       foo\n",
       "A     B                    \n",
       "one   A -1.043050  1.689671\n",
       "      B  2.928475 -0.990147\n",
       "      C  1.272499 -1.235629\n",
       "three A -1.012070       NaN\n",
       "      B       NaN -0.587989\n",
       "      C  0.467063       NaN\n",
       "two   A       NaN  1.209681\n",
       "      B  1.711671       NaN\n",
       "      C       NaN  1.779018"
      ],
      "text/html": "<div>\n<style scoped>\n    .dataframe tbody tr th:only-of-type {\n        vertical-align: middle;\n    }\n\n    .dataframe tbody tr th {\n        vertical-align: top;\n    }\n\n    .dataframe thead th {\n        text-align: right;\n    }\n</style>\n<table border=\"1\" class=\"dataframe\">\n  <thead>\n    <tr style=\"text-align: right;\">\n      <th></th>\n      <th>C</th>\n      <th>bar</th>\n      <th>foo</th>\n    </tr>\n    <tr>\n      <th>A</th>\n      <th>B</th>\n      <th></th>\n      <th></th>\n    </tr>\n  </thead>\n  <tbody>\n    <tr>\n      <th rowspan=\"3\" valign=\"top\">one</th>\n      <th>A</th>\n      <td>-1.043050</td>\n      <td>1.689671</td>\n    </tr>\n    <tr>\n      <th>B</th>\n      <td>2.928475</td>\n      <td>-0.990147</td>\n    </tr>\n    <tr>\n      <th>C</th>\n      <td>1.272499</td>\n      <td>-1.235629</td>\n    </tr>\n    <tr>\n      <th rowspan=\"3\" valign=\"top\">three</th>\n      <th>A</th>\n      <td>-1.012070</td>\n      <td>NaN</td>\n    </tr>\n    <tr>\n      <th>B</th>\n      <td>NaN</td>\n      <td>-0.587989</td>\n    </tr>\n    <tr>\n      <th>C</th>\n      <td>0.467063</td>\n      <td>NaN</td>\n    </tr>\n    <tr>\n      <th rowspan=\"3\" valign=\"top\">two</th>\n      <th>A</th>\n      <td>NaN</td>\n      <td>1.209681</td>\n    </tr>\n    <tr>\n      <th>B</th>\n      <td>1.711671</td>\n      <td>NaN</td>\n    </tr>\n    <tr>\n      <th>C</th>\n      <td>NaN</td>\n      <td>1.779018</td>\n    </tr>\n  </tbody>\n</table>\n</div>"
     },
     "metadata": {},
     "execution_count": 44
    }
   ],
   "source": [
    "pd.pivot_table(df, values='D', index=['A', 'B'], columns=['C'])"
   ]
  },
  {
   "source": [
    "## 10. 可视化"
   ],
   "cell_type": "markdown",
   "metadata": {}
  },
  {
   "cell_type": "code",
   "execution_count": 53,
   "metadata": {},
   "outputs": [
    {
     "output_type": "execute_result",
     "data": {
      "text/plain": [
       "<matplotlib.legend.Legend at 0x21f941fdfd0>"
      ]
     },
     "metadata": {},
     "execution_count": 53
    },
    {
     "output_type": "display_data",
     "data": {
      "text/plain": "<Figure size 432x288 with 0 Axes>"
     },
     "metadata": {}
    },
    {
     "output_type": "display_data",
     "data": {
      "text/plain": "<Figure size 432x288 with 1 Axes>",
      "image/svg+xml": "<?xml version=\"1.0\" encoding=\"utf-8\" standalone=\"no\"?>\r\n<!DOCTYPE svg PUBLIC \"-//W3C//DTD SVG 1.1//EN\"\r\n  \"http://www.w3.org/Graphics/SVG/1.1/DTD/svg11.dtd\">\r\n<!-- Created with matplotlib (https://matplotlib.org/) -->\r\n<svg height=\"262.477401pt\" version=\"1.1\" viewBox=\"0 0 377.304688 262.477401\" width=\"377.304688pt\" xmlns=\"http://www.w3.org/2000/svg\" xmlns:xlink=\"http://www.w3.org/1999/xlink\">\r\n <metadata>\r\n  <rdf:RDF xmlns:cc=\"http://creativecommons.org/ns#\" xmlns:dc=\"http://purl.org/dc/elements/1.1/\" xmlns:rdf=\"http://www.w3.org/1999/02/22-rdf-syntax-ns#\">\r\n   <cc:Work>\r\n    <dc:type rdf:resource=\"http://purl.org/dc/dcmitype/StillImage\"/>\r\n    <dc:date>2021-02-22T10:56:08.297436</dc:date>\r\n    <dc:format>image/svg+xml</dc:format>\r\n    <dc:creator>\r\n     <cc:Agent>\r\n      <dc:title>Matplotlib v3.3.3, https://matplotlib.org/</dc:title>\r\n     </cc:Agent>\r\n    </dc:creator>\r\n   </cc:Work>\r\n  </rdf:RDF>\r\n </metadata>\r\n <defs>\r\n  <style type=\"text/css\">*{stroke-linecap:butt;stroke-linejoin:round;}</style>\r\n </defs>\r\n <g id=\"figure_1\">\r\n  <g id=\"patch_1\">\r\n   <path d=\"M 0 262.477401 \r\nL 377.304688 262.477401 \r\nL 377.304688 0 \r\nL 0 0 \r\nz\r\n\" style=\"fill:none;\"/>\r\n  </g>\r\n  <g id=\"axes_1\">\r\n   <g id=\"patch_2\">\r\n    <path d=\"M 35.304688 227.401464 \r\nL 370.104688 227.401464 \r\nL 370.104688 9.961464 \r\nL 35.304688 9.961464 \r\nz\r\n\" style=\"fill:#ffffff;\"/>\r\n   </g>\r\n   <g id=\"matplotlib.axis_1\">\r\n    <g id=\"xtick_1\">\r\n     <g id=\"line2d_1\">\r\n      <defs>\r\n       <path d=\"M 0 0 \r\nL 0 3.5 \r\n\" id=\"md02132c9ba\" style=\"stroke:#000000;stroke-width:0.8;\"/>\r\n      </defs>\r\n      <g>\r\n       <use style=\"stroke:#000000;stroke-width:0.8;\" x=\"35.304688\" xlink:href=\"#md02132c9ba\" y=\"227.401464\"/>\r\n      </g>\r\n     </g>\r\n     <g id=\"text_1\">\r\n      <!-- Jan -->\r\n      <g transform=\"translate(27.596875 241.999901)scale(0.1 -0.1)\">\r\n       <defs>\r\n        <path d=\"M 9.8125 72.90625 \r\nL 19.671875 72.90625 \r\nL 19.671875 5.078125 \r\nQ 19.671875 -8.109375 14.671875 -14.0625 \r\nQ 9.671875 -20.015625 -1.421875 -20.015625 \r\nL -5.171875 -20.015625 \r\nL -5.171875 -11.71875 \r\nL -2.09375 -11.71875 \r\nQ 4.4375 -11.71875 7.125 -8.046875 \r\nQ 9.8125 -4.390625 9.8125 5.078125 \r\nz\r\n\" id=\"DejaVuSans-74\"/>\r\n        <path d=\"M 34.28125 27.484375 \r\nQ 23.390625 27.484375 19.1875 25 \r\nQ 14.984375 22.515625 14.984375 16.5 \r\nQ 14.984375 11.71875 18.140625 8.90625 \r\nQ 21.296875 6.109375 26.703125 6.109375 \r\nQ 34.1875 6.109375 38.703125 11.40625 \r\nQ 43.21875 16.703125 43.21875 25.484375 \r\nL 43.21875 27.484375 \r\nz\r\nM 52.203125 31.203125 \r\nL 52.203125 0 \r\nL 43.21875 0 \r\nL 43.21875 8.296875 \r\nQ 40.140625 3.328125 35.546875 0.953125 \r\nQ 30.953125 -1.421875 24.3125 -1.421875 \r\nQ 15.921875 -1.421875 10.953125 3.296875 \r\nQ 6 8.015625 6 15.921875 \r\nQ 6 25.140625 12.171875 29.828125 \r\nQ 18.359375 34.515625 30.609375 34.515625 \r\nL 43.21875 34.515625 \r\nL 43.21875 35.40625 \r\nQ 43.21875 41.609375 39.140625 45 \r\nQ 35.0625 48.390625 27.6875 48.390625 \r\nQ 23 48.390625 18.546875 47.265625 \r\nQ 14.109375 46.140625 10.015625 43.890625 \r\nL 10.015625 52.203125 \r\nQ 14.9375 54.109375 19.578125 55.046875 \r\nQ 24.21875 56 28.609375 56 \r\nQ 40.484375 56 46.34375 49.84375 \r\nQ 52.203125 43.703125 52.203125 31.203125 \r\nz\r\n\" id=\"DejaVuSans-97\"/>\r\n        <path d=\"M 54.890625 33.015625 \r\nL 54.890625 0 \r\nL 45.90625 0 \r\nL 45.90625 32.71875 \r\nQ 45.90625 40.484375 42.875 44.328125 \r\nQ 39.84375 48.1875 33.796875 48.1875 \r\nQ 26.515625 48.1875 22.3125 43.546875 \r\nQ 18.109375 38.921875 18.109375 30.90625 \r\nL 18.109375 0 \r\nL 9.078125 0 \r\nL 9.078125 54.6875 \r\nL 18.109375 54.6875 \r\nL 18.109375 46.1875 \r\nQ 21.34375 51.125 25.703125 53.5625 \r\nQ 30.078125 56 35.796875 56 \r\nQ 45.21875 56 50.046875 50.171875 \r\nQ 54.890625 44.34375 54.890625 33.015625 \r\nz\r\n\" id=\"DejaVuSans-110\"/>\r\n       </defs>\r\n       <use xlink:href=\"#DejaVuSans-74\"/>\r\n       <use x=\"29.492188\" xlink:href=\"#DejaVuSans-97\"/>\r\n       <use x=\"90.771484\" xlink:href=\"#DejaVuSans-110\"/>\r\n      </g>\r\n      <!-- 2000 -->\r\n      <g transform=\"translate(22.579687 253.197714)scale(0.1 -0.1)\">\r\n       <defs>\r\n        <path d=\"M 19.1875 8.296875 \r\nL 53.609375 8.296875 \r\nL 53.609375 0 \r\nL 7.328125 0 \r\nL 7.328125 8.296875 \r\nQ 12.9375 14.109375 22.625 23.890625 \r\nQ 32.328125 33.6875 34.8125 36.53125 \r\nQ 39.546875 41.84375 41.421875 45.53125 \r\nQ 43.3125 49.21875 43.3125 52.78125 \r\nQ 43.3125 58.59375 39.234375 62.25 \r\nQ 35.15625 65.921875 28.609375 65.921875 \r\nQ 23.96875 65.921875 18.8125 64.3125 \r\nQ 13.671875 62.703125 7.8125 59.421875 \r\nL 7.8125 69.390625 \r\nQ 13.765625 71.78125 18.9375 73 \r\nQ 24.125 74.21875 28.421875 74.21875 \r\nQ 39.75 74.21875 46.484375 68.546875 \r\nQ 53.21875 62.890625 53.21875 53.421875 \r\nQ 53.21875 48.921875 51.53125 44.890625 \r\nQ 49.859375 40.875 45.40625 35.40625 \r\nQ 44.1875 33.984375 37.640625 27.21875 \r\nQ 31.109375 20.453125 19.1875 8.296875 \r\nz\r\n\" id=\"DejaVuSans-50\"/>\r\n        <path d=\"M 31.78125 66.40625 \r\nQ 24.171875 66.40625 20.328125 58.90625 \r\nQ 16.5 51.421875 16.5 36.375 \r\nQ 16.5 21.390625 20.328125 13.890625 \r\nQ 24.171875 6.390625 31.78125 6.390625 \r\nQ 39.453125 6.390625 43.28125 13.890625 \r\nQ 47.125 21.390625 47.125 36.375 \r\nQ 47.125 51.421875 43.28125 58.90625 \r\nQ 39.453125 66.40625 31.78125 66.40625 \r\nz\r\nM 31.78125 74.21875 \r\nQ 44.046875 74.21875 50.515625 64.515625 \r\nQ 56.984375 54.828125 56.984375 36.375 \r\nQ 56.984375 17.96875 50.515625 8.265625 \r\nQ 44.046875 -1.421875 31.78125 -1.421875 \r\nQ 19.53125 -1.421875 13.0625 8.265625 \r\nQ 6.59375 17.96875 6.59375 36.375 \r\nQ 6.59375 54.828125 13.0625 64.515625 \r\nQ 19.53125 74.21875 31.78125 74.21875 \r\nz\r\n\" id=\"DejaVuSans-48\"/>\r\n       </defs>\r\n       <use xlink:href=\"#DejaVuSans-50\"/>\r\n       <use x=\"63.623047\" xlink:href=\"#DejaVuSans-48\"/>\r\n       <use x=\"127.246094\" xlink:href=\"#DejaVuSans-48\"/>\r\n       <use x=\"190.869141\" xlink:href=\"#DejaVuSans-48\"/>\r\n      </g>\r\n     </g>\r\n    </g>\r\n    <g id=\"xtick_2\">\r\n     <g id=\"line2d_2\">\r\n      <g>\r\n       <use style=\"stroke:#000000;stroke-width:0.8;\" x=\"157.964147\" xlink:href=\"#md02132c9ba\" y=\"227.401464\"/>\r\n      </g>\r\n     </g>\r\n     <g id=\"text_2\">\r\n      <!-- Jan -->\r\n      <g transform=\"translate(150.256334 241.999901)scale(0.1 -0.1)\">\r\n       <use xlink:href=\"#DejaVuSans-74\"/>\r\n       <use x=\"29.492188\" xlink:href=\"#DejaVuSans-97\"/>\r\n       <use x=\"90.771484\" xlink:href=\"#DejaVuSans-110\"/>\r\n      </g>\r\n      <!-- 2001 -->\r\n      <g transform=\"translate(145.239147 253.197714)scale(0.1 -0.1)\">\r\n       <defs>\r\n        <path d=\"M 12.40625 8.296875 \r\nL 28.515625 8.296875 \r\nL 28.515625 63.921875 \r\nL 10.984375 60.40625 \r\nL 10.984375 69.390625 \r\nL 28.421875 72.90625 \r\nL 38.28125 72.90625 \r\nL 38.28125 8.296875 \r\nL 54.390625 8.296875 \r\nL 54.390625 0 \r\nL 12.40625 0 \r\nz\r\n\" id=\"DejaVuSans-49\"/>\r\n       </defs>\r\n       <use xlink:href=\"#DejaVuSans-50\"/>\r\n       <use x=\"63.623047\" xlink:href=\"#DejaVuSans-48\"/>\r\n       <use x=\"127.246094\" xlink:href=\"#DejaVuSans-48\"/>\r\n       <use x=\"190.869141\" xlink:href=\"#DejaVuSans-49\"/>\r\n      </g>\r\n     </g>\r\n    </g>\r\n    <g id=\"xtick_3\">\r\n     <g id=\"line2d_3\">\r\n      <g>\r\n       <use style=\"stroke:#000000;stroke-width:0.8;\" x=\"280.288471\" xlink:href=\"#md02132c9ba\" y=\"227.401464\"/>\r\n      </g>\r\n     </g>\r\n     <g id=\"text_3\">\r\n      <!-- Jan -->\r\n      <g transform=\"translate(272.580659 241.999901)scale(0.1 -0.1)\">\r\n       <use xlink:href=\"#DejaVuSans-74\"/>\r\n       <use x=\"29.492188\" xlink:href=\"#DejaVuSans-97\"/>\r\n       <use x=\"90.771484\" xlink:href=\"#DejaVuSans-110\"/>\r\n      </g>\r\n      <!-- 2002 -->\r\n      <g transform=\"translate(267.563471 253.197714)scale(0.1 -0.1)\">\r\n       <use xlink:href=\"#DejaVuSans-50\"/>\r\n       <use x=\"63.623047\" xlink:href=\"#DejaVuSans-48\"/>\r\n       <use x=\"127.246094\" xlink:href=\"#DejaVuSans-48\"/>\r\n       <use x=\"190.869141\" xlink:href=\"#DejaVuSans-50\"/>\r\n      </g>\r\n     </g>\r\n    </g>\r\n    <g id=\"xtick_4\">\r\n     <g id=\"line2d_4\">\r\n      <g>\r\n       <use style=\"stroke:#000000;stroke-width:0.8;\" x=\"370.104688\" xlink:href=\"#md02132c9ba\" y=\"227.401464\"/>\r\n      </g>\r\n     </g>\r\n    </g>\r\n    <g id=\"xtick_5\">\r\n     <g id=\"line2d_5\">\r\n      <defs>\r\n       <path d=\"M 0 0 \r\nL 0 2 \r\n\" id=\"mc523f413ca\" style=\"stroke:#000000;stroke-width:0.6;\"/>\r\n      </defs>\r\n      <g>\r\n       <use style=\"stroke:#000000;stroke-width:0.6;\" x=\"45.693877\" xlink:href=\"#mc523f413ca\" y=\"227.401464\"/>\r\n      </g>\r\n     </g>\r\n    </g>\r\n    <g id=\"xtick_6\">\r\n     <g id=\"line2d_6\">\r\n      <g>\r\n       <use style=\"stroke:#000000;stroke-width:0.6;\" x=\"55.412796\" xlink:href=\"#mc523f413ca\" y=\"227.401464\"/>\r\n      </g>\r\n     </g>\r\n    </g>\r\n    <g id=\"xtick_7\">\r\n     <g id=\"line2d_7\">\r\n      <g>\r\n       <use style=\"stroke:#000000;stroke-width:0.6;\" x=\"65.801985\" xlink:href=\"#mc523f413ca\" y=\"227.401464\"/>\r\n      </g>\r\n     </g>\r\n    </g>\r\n    <g id=\"xtick_8\">\r\n     <g id=\"line2d_8\">\r\n      <g>\r\n       <use style=\"stroke:#000000;stroke-width:0.6;\" x=\"75.856039\" xlink:href=\"#mc523f413ca\" y=\"227.401464\"/>\r\n      </g>\r\n     </g>\r\n    </g>\r\n    <g id=\"xtick_9\">\r\n     <g id=\"line2d_9\">\r\n      <g>\r\n       <use style=\"stroke:#000000;stroke-width:0.6;\" x=\"86.245228\" xlink:href=\"#mc523f413ca\" y=\"227.401464\"/>\r\n      </g>\r\n     </g>\r\n    </g>\r\n    <g id=\"xtick_10\">\r\n     <g id=\"line2d_10\">\r\n      <g>\r\n       <use style=\"stroke:#000000;stroke-width:0.6;\" x=\"96.299282\" xlink:href=\"#mc523f413ca\" y=\"227.401464\"/>\r\n      </g>\r\n     </g>\r\n     <g id=\"text_4\">\r\n      <!-- Jul -->\r\n      <g transform=\"translate(90.26647 240.399901)scale(0.1 -0.1)\">\r\n       <defs>\r\n        <path d=\"M 8.5 21.578125 \r\nL 8.5 54.6875 \r\nL 17.484375 54.6875 \r\nL 17.484375 21.921875 \r\nQ 17.484375 14.15625 20.5 10.265625 \r\nQ 23.53125 6.390625 29.59375 6.390625 \r\nQ 36.859375 6.390625 41.078125 11.03125 \r\nQ 45.3125 15.671875 45.3125 23.6875 \r\nL 45.3125 54.6875 \r\nL 54.296875 54.6875 \r\nL 54.296875 0 \r\nL 45.3125 0 \r\nL 45.3125 8.40625 \r\nQ 42.046875 3.421875 37.71875 1 \r\nQ 33.40625 -1.421875 27.6875 -1.421875 \r\nQ 18.265625 -1.421875 13.375 4.4375 \r\nQ 8.5 10.296875 8.5 21.578125 \r\nz\r\nM 31.109375 56 \r\nz\r\n\" id=\"DejaVuSans-117\"/>\r\n        <path d=\"M 9.421875 75.984375 \r\nL 18.40625 75.984375 \r\nL 18.40625 0 \r\nL 9.421875 0 \r\nz\r\n\" id=\"DejaVuSans-108\"/>\r\n       </defs>\r\n       <use xlink:href=\"#DejaVuSans-74\"/>\r\n       <use x=\"29.492188\" xlink:href=\"#DejaVuSans-117\"/>\r\n       <use x=\"92.871094\" xlink:href=\"#DejaVuSans-108\"/>\r\n      </g>\r\n     </g>\r\n    </g>\r\n    <g id=\"xtick_11\">\r\n     <g id=\"line2d_11\">\r\n      <g>\r\n       <use style=\"stroke:#000000;stroke-width:0.6;\" x=\"106.688471\" xlink:href=\"#mc523f413ca\" y=\"227.401464\"/>\r\n      </g>\r\n     </g>\r\n    </g>\r\n    <g id=\"xtick_12\">\r\n     <g id=\"line2d_12\">\r\n      <g>\r\n       <use style=\"stroke:#000000;stroke-width:0.6;\" x=\"117.07766\" xlink:href=\"#mc523f413ca\" y=\"227.401464\"/>\r\n      </g>\r\n     </g>\r\n    </g>\r\n    <g id=\"xtick_13\">\r\n     <g id=\"line2d_13\">\r\n      <g>\r\n       <use style=\"stroke:#000000;stroke-width:0.6;\" x=\"127.131715\" xlink:href=\"#mc523f413ca\" y=\"227.401464\"/>\r\n      </g>\r\n     </g>\r\n    </g>\r\n    <g id=\"xtick_14\">\r\n     <g id=\"line2d_14\">\r\n      <g>\r\n       <use style=\"stroke:#000000;stroke-width:0.6;\" x=\"137.520904\" xlink:href=\"#mc523f413ca\" y=\"227.401464\"/>\r\n      </g>\r\n     </g>\r\n    </g>\r\n    <g id=\"xtick_15\">\r\n     <g id=\"line2d_15\">\r\n      <g>\r\n       <use style=\"stroke:#000000;stroke-width:0.6;\" x=\"147.574958\" xlink:href=\"#mc523f413ca\" y=\"227.401464\"/>\r\n      </g>\r\n     </g>\r\n    </g>\r\n    <g id=\"xtick_16\">\r\n     <g id=\"line2d_16\">\r\n      <g>\r\n       <use style=\"stroke:#000000;stroke-width:0.6;\" x=\"168.353336\" xlink:href=\"#mc523f413ca\" y=\"227.401464\"/>\r\n      </g>\r\n     </g>\r\n    </g>\r\n    <g id=\"xtick_17\">\r\n     <g id=\"line2d_17\">\r\n      <g>\r\n       <use style=\"stroke:#000000;stroke-width:0.6;\" x=\"177.73712\" xlink:href=\"#mc523f413ca\" y=\"227.401464\"/>\r\n      </g>\r\n     </g>\r\n    </g>\r\n    <g id=\"xtick_18\">\r\n     <g id=\"line2d_18\">\r\n      <g>\r\n       <use style=\"stroke:#000000;stroke-width:0.6;\" x=\"188.126309\" xlink:href=\"#mc523f413ca\" y=\"227.401464\"/>\r\n      </g>\r\n     </g>\r\n    </g>\r\n    <g id=\"xtick_19\">\r\n     <g id=\"line2d_19\">\r\n      <g>\r\n       <use style=\"stroke:#000000;stroke-width:0.6;\" x=\"198.180363\" xlink:href=\"#mc523f413ca\" y=\"227.401464\"/>\r\n      </g>\r\n     </g>\r\n    </g>\r\n    <g id=\"xtick_20\">\r\n     <g id=\"line2d_20\">\r\n      <g>\r\n       <use style=\"stroke:#000000;stroke-width:0.6;\" x=\"208.569552\" xlink:href=\"#mc523f413ca\" y=\"227.401464\"/>\r\n      </g>\r\n     </g>\r\n    </g>\r\n    <g id=\"xtick_21\">\r\n     <g id=\"line2d_21\">\r\n      <g>\r\n       <use style=\"stroke:#000000;stroke-width:0.6;\" x=\"218.623606\" xlink:href=\"#mc523f413ca\" y=\"227.401464\"/>\r\n      </g>\r\n     </g>\r\n     <g id=\"text_5\">\r\n      <!-- Jul -->\r\n      <g transform=\"translate(212.590794 240.399901)scale(0.1 -0.1)\">\r\n       <use xlink:href=\"#DejaVuSans-74\"/>\r\n       <use x=\"29.492188\" xlink:href=\"#DejaVuSans-117\"/>\r\n       <use x=\"92.871094\" xlink:href=\"#DejaVuSans-108\"/>\r\n      </g>\r\n     </g>\r\n    </g>\r\n    <g id=\"xtick_22\">\r\n     <g id=\"line2d_22\">\r\n      <g>\r\n       <use style=\"stroke:#000000;stroke-width:0.6;\" x=\"229.012796\" xlink:href=\"#mc523f413ca\" y=\"227.401464\"/>\r\n      </g>\r\n     </g>\r\n    </g>\r\n    <g id=\"xtick_23\">\r\n     <g id=\"line2d_23\">\r\n      <g>\r\n       <use style=\"stroke:#000000;stroke-width:0.6;\" x=\"239.401985\" xlink:href=\"#mc523f413ca\" y=\"227.401464\"/>\r\n      </g>\r\n     </g>\r\n    </g>\r\n    <g id=\"xtick_24\">\r\n     <g id=\"line2d_24\">\r\n      <g>\r\n       <use style=\"stroke:#000000;stroke-width:0.6;\" x=\"249.456039\" xlink:href=\"#mc523f413ca\" y=\"227.401464\"/>\r\n      </g>\r\n     </g>\r\n    </g>\r\n    <g id=\"xtick_25\">\r\n     <g id=\"line2d_25\">\r\n      <g>\r\n       <use style=\"stroke:#000000;stroke-width:0.6;\" x=\"259.845228\" xlink:href=\"#mc523f413ca\" y=\"227.401464\"/>\r\n      </g>\r\n     </g>\r\n    </g>\r\n    <g id=\"xtick_26\">\r\n     <g id=\"line2d_26\">\r\n      <g>\r\n       <use style=\"stroke:#000000;stroke-width:0.6;\" x=\"269.899282\" xlink:href=\"#mc523f413ca\" y=\"227.401464\"/>\r\n      </g>\r\n     </g>\r\n    </g>\r\n    <g id=\"xtick_27\">\r\n     <g id=\"line2d_27\">\r\n      <g>\r\n       <use style=\"stroke:#000000;stroke-width:0.6;\" x=\"290.67766\" xlink:href=\"#mc523f413ca\" y=\"227.401464\"/>\r\n      </g>\r\n     </g>\r\n    </g>\r\n    <g id=\"xtick_28\">\r\n     <g id=\"line2d_28\">\r\n      <g>\r\n       <use style=\"stroke:#000000;stroke-width:0.6;\" x=\"300.061444\" xlink:href=\"#mc523f413ca\" y=\"227.401464\"/>\r\n      </g>\r\n     </g>\r\n    </g>\r\n    <g id=\"xtick_29\">\r\n     <g id=\"line2d_29\">\r\n      <g>\r\n       <use style=\"stroke:#000000;stroke-width:0.6;\" x=\"310.450633\" xlink:href=\"#mc523f413ca\" y=\"227.401464\"/>\r\n      </g>\r\n     </g>\r\n    </g>\r\n    <g id=\"xtick_30\">\r\n     <g id=\"line2d_30\">\r\n      <g>\r\n       <use style=\"stroke:#000000;stroke-width:0.6;\" x=\"320.504687\" xlink:href=\"#mc523f413ca\" y=\"227.401464\"/>\r\n      </g>\r\n     </g>\r\n    </g>\r\n    <g id=\"xtick_31\">\r\n     <g id=\"line2d_31\">\r\n      <g>\r\n       <use style=\"stroke:#000000;stroke-width:0.6;\" x=\"330.893877\" xlink:href=\"#mc523f413ca\" y=\"227.401464\"/>\r\n      </g>\r\n     </g>\r\n    </g>\r\n    <g id=\"xtick_32\">\r\n     <g id=\"line2d_32\">\r\n      <g>\r\n       <use style=\"stroke:#000000;stroke-width:0.6;\" x=\"340.947931\" xlink:href=\"#mc523f413ca\" y=\"227.401464\"/>\r\n      </g>\r\n     </g>\r\n     <g id=\"text_6\">\r\n      <!-- Jul -->\r\n      <g transform=\"translate(334.915118 240.399901)scale(0.1 -0.1)\">\r\n       <use xlink:href=\"#DejaVuSans-74\"/>\r\n       <use x=\"29.492188\" xlink:href=\"#DejaVuSans-117\"/>\r\n       <use x=\"92.871094\" xlink:href=\"#DejaVuSans-108\"/>\r\n      </g>\r\n     </g>\r\n    </g>\r\n    <g id=\"xtick_33\">\r\n     <g id=\"line2d_33\">\r\n      <g>\r\n       <use style=\"stroke:#000000;stroke-width:0.6;\" x=\"351.33712\" xlink:href=\"#mc523f413ca\" y=\"227.401464\"/>\r\n      </g>\r\n     </g>\r\n    </g>\r\n    <g id=\"xtick_34\">\r\n     <g id=\"line2d_34\">\r\n      <g>\r\n       <use style=\"stroke:#000000;stroke-width:0.6;\" x=\"361.726309\" xlink:href=\"#mc523f413ca\" y=\"227.401464\"/>\r\n      </g>\r\n     </g>\r\n    </g>\r\n   </g>\r\n   <g id=\"matplotlib.axis_2\">\r\n    <g id=\"ytick_1\">\r\n     <g id=\"line2d_35\">\r\n      <defs>\r\n       <path d=\"M 0 0 \r\nL -3.5 0 \r\n\" id=\"m526cac2548\" style=\"stroke:#000000;stroke-width:0.8;\"/>\r\n      </defs>\r\n      <g>\r\n       <use style=\"stroke:#000000;stroke-width:0.8;\" x=\"35.304688\" xlink:href=\"#m526cac2548\" y=\"208.943929\"/>\r\n      </g>\r\n     </g>\r\n     <g id=\"text_7\">\r\n      <!-- −60 -->\r\n      <g transform=\"translate(7.2 212.743147)scale(0.1 -0.1)\">\r\n       <defs>\r\n        <path d=\"M 10.59375 35.5 \r\nL 73.1875 35.5 \r\nL 73.1875 27.203125 \r\nL 10.59375 27.203125 \r\nz\r\n\" id=\"DejaVuSans-8722\"/>\r\n        <path d=\"M 33.015625 40.375 \r\nQ 26.375 40.375 22.484375 35.828125 \r\nQ 18.609375 31.296875 18.609375 23.390625 \r\nQ 18.609375 15.53125 22.484375 10.953125 \r\nQ 26.375 6.390625 33.015625 6.390625 \r\nQ 39.65625 6.390625 43.53125 10.953125 \r\nQ 47.40625 15.53125 47.40625 23.390625 \r\nQ 47.40625 31.296875 43.53125 35.828125 \r\nQ 39.65625 40.375 33.015625 40.375 \r\nz\r\nM 52.59375 71.296875 \r\nL 52.59375 62.3125 \r\nQ 48.875 64.0625 45.09375 64.984375 \r\nQ 41.3125 65.921875 37.59375 65.921875 \r\nQ 27.828125 65.921875 22.671875 59.328125 \r\nQ 17.53125 52.734375 16.796875 39.40625 \r\nQ 19.671875 43.65625 24.015625 45.921875 \r\nQ 28.375 48.1875 33.59375 48.1875 \r\nQ 44.578125 48.1875 50.953125 41.515625 \r\nQ 57.328125 34.859375 57.328125 23.390625 \r\nQ 57.328125 12.15625 50.6875 5.359375 \r\nQ 44.046875 -1.421875 33.015625 -1.421875 \r\nQ 20.359375 -1.421875 13.671875 8.265625 \r\nQ 6.984375 17.96875 6.984375 36.375 \r\nQ 6.984375 53.65625 15.1875 63.9375 \r\nQ 23.390625 74.21875 37.203125 74.21875 \r\nQ 40.921875 74.21875 44.703125 73.484375 \r\nQ 48.484375 72.75 52.59375 71.296875 \r\nz\r\n\" id=\"DejaVuSans-54\"/>\r\n       </defs>\r\n       <use xlink:href=\"#DejaVuSans-8722\"/>\r\n       <use x=\"83.789062\" xlink:href=\"#DejaVuSans-54\"/>\r\n       <use x=\"147.412109\" xlink:href=\"#DejaVuSans-48\"/>\r\n      </g>\r\n     </g>\r\n    </g>\r\n    <g id=\"ytick_2\">\r\n     <g id=\"line2d_36\">\r\n      <g>\r\n       <use style=\"stroke:#000000;stroke-width:0.8;\" x=\"35.304688\" xlink:href=\"#m526cac2548\" y=\"169.354987\"/>\r\n      </g>\r\n     </g>\r\n     <g id=\"text_8\">\r\n      <!-- −40 -->\r\n      <g transform=\"translate(7.2 173.154205)scale(0.1 -0.1)\">\r\n       <defs>\r\n        <path d=\"M 37.796875 64.3125 \r\nL 12.890625 25.390625 \r\nL 37.796875 25.390625 \r\nz\r\nM 35.203125 72.90625 \r\nL 47.609375 72.90625 \r\nL 47.609375 25.390625 \r\nL 58.015625 25.390625 \r\nL 58.015625 17.1875 \r\nL 47.609375 17.1875 \r\nL 47.609375 0 \r\nL 37.796875 0 \r\nL 37.796875 17.1875 \r\nL 4.890625 17.1875 \r\nL 4.890625 26.703125 \r\nz\r\n\" id=\"DejaVuSans-52\"/>\r\n       </defs>\r\n       <use xlink:href=\"#DejaVuSans-8722\"/>\r\n       <use x=\"83.789062\" xlink:href=\"#DejaVuSans-52\"/>\r\n       <use x=\"147.412109\" xlink:href=\"#DejaVuSans-48\"/>\r\n      </g>\r\n     </g>\r\n    </g>\r\n    <g id=\"ytick_3\">\r\n     <g id=\"line2d_37\">\r\n      <g>\r\n       <use style=\"stroke:#000000;stroke-width:0.8;\" x=\"35.304688\" xlink:href=\"#m526cac2548\" y=\"129.766045\"/>\r\n      </g>\r\n     </g>\r\n     <g id=\"text_9\">\r\n      <!-- −20 -->\r\n      <g transform=\"translate(7.2 133.565263)scale(0.1 -0.1)\">\r\n       <use xlink:href=\"#DejaVuSans-8722\"/>\r\n       <use x=\"83.789062\" xlink:href=\"#DejaVuSans-50\"/>\r\n       <use x=\"147.412109\" xlink:href=\"#DejaVuSans-48\"/>\r\n      </g>\r\n     </g>\r\n    </g>\r\n    <g id=\"ytick_4\">\r\n     <g id=\"line2d_38\">\r\n      <g>\r\n       <use style=\"stroke:#000000;stroke-width:0.8;\" x=\"35.304688\" xlink:href=\"#m526cac2548\" y=\"90.177103\"/>\r\n      </g>\r\n     </g>\r\n     <g id=\"text_10\">\r\n      <!-- 0 -->\r\n      <g transform=\"translate(21.942188 93.976321)scale(0.1 -0.1)\">\r\n       <use xlink:href=\"#DejaVuSans-48\"/>\r\n      </g>\r\n     </g>\r\n    </g>\r\n    <g id=\"ytick_5\">\r\n     <g id=\"line2d_39\">\r\n      <g>\r\n       <use style=\"stroke:#000000;stroke-width:0.8;\" x=\"35.304688\" xlink:href=\"#m526cac2548\" y=\"50.588161\"/>\r\n      </g>\r\n     </g>\r\n     <g id=\"text_11\">\r\n      <!-- 20 -->\r\n      <g transform=\"translate(15.579688 54.387379)scale(0.1 -0.1)\">\r\n       <use xlink:href=\"#DejaVuSans-50\"/>\r\n       <use x=\"63.623047\" xlink:href=\"#DejaVuSans-48\"/>\r\n      </g>\r\n     </g>\r\n    </g>\r\n    <g id=\"ytick_6\">\r\n     <g id=\"line2d_40\">\r\n      <g>\r\n       <use style=\"stroke:#000000;stroke-width:0.8;\" x=\"35.304688\" xlink:href=\"#m526cac2548\" y=\"10.999219\"/>\r\n      </g>\r\n     </g>\r\n     <g id=\"text_12\">\r\n      <!-- 40 -->\r\n      <g transform=\"translate(15.579688 14.798437)scale(0.1 -0.1)\">\r\n       <use xlink:href=\"#DejaVuSans-52\"/>\r\n       <use x=\"63.623047\" xlink:href=\"#DejaVuSans-48\"/>\r\n      </g>\r\n     </g>\r\n    </g>\r\n   </g>\r\n   <g id=\"line2d_41\">\r\n    <path clip-path=\"url(#p51499ed26c)\" d=\"M 35.304688 85.375719 \r\nL 35.639823 85.319054 \r\nL 35.974958 84.22247 \r\nL 36.310093 84.611405 \r\nL 36.645228 82.92515 \r\nL 37.315498 82.68928 \r\nL 37.650633 81.585604 \r\nL 37.985769 84.201012 \r\nL 38.320904 83.987967 \r\nL 38.656039 86.063574 \r\nL 38.991174 85.933436 \r\nL 39.326309 82.38474 \r\nL 39.661444 80.485687 \r\nL 39.996579 82.031691 \r\nL 40.331715 79.616429 \r\nL 40.66685 78.314604 \r\nL 41.001985 80.728286 \r\nL 41.33712 79.981119 \r\nL 41.672255 78.82877 \r\nL 42.00739 80.322391 \r\nL 42.342525 80.633843 \r\nL 42.67766 80.451162 \r\nL 43.012796 77.181046 \r\nL 43.683066 80.506791 \r\nL 44.018201 76.687126 \r\nL 44.353336 79.049717 \r\nL 44.688471 77.349849 \r\nL 45.023606 78.295667 \r\nL 45.358742 81.102394 \r\nL 45.693877 82.61199 \r\nL 46.029012 84.901236 \r\nL 46.364147 85.714736 \r\nL 47.034417 82.155046 \r\nL 47.369552 77.502428 \r\nL 47.704688 79.882883 \r\nL 48.039823 78.059767 \r\nL 48.374958 79.168825 \r\nL 48.710093 80.741277 \r\nL 49.045228 80.154233 \r\nL 49.380363 79.99192 \r\nL 50.050633 78.026505 \r\nL 50.385769 78.027271 \r\nL 50.720904 78.852742 \r\nL 51.726309 75.1281 \r\nL 52.061444 74.000452 \r\nL 52.396579 71.594262 \r\nL 52.731715 70.235174 \r\nL 53.06685 70.27111 \r\nL 53.401985 72.124374 \r\nL 53.73712 75.356315 \r\nL 54.40739 76.591701 \r\nL 54.742525 74.817728 \r\nL 55.07766 75.785732 \r\nL 55.412796 75.942484 \r\nL 55.747931 77.930538 \r\nL 56.083066 75.215324 \r\nL 56.418201 75.300126 \r\nL 56.753336 73.697488 \r\nL 57.088471 75.620743 \r\nL 57.423606 74.983427 \r\nL 57.758742 73.224636 \r\nL 58.093877 73.046459 \r\nL 59.099282 78.542025 \r\nL 59.434417 78.251558 \r\nL 59.769552 79.008287 \r\nL 60.104687 81.983252 \r\nL 60.439823 81.414406 \r\nL 60.774958 79.059483 \r\nL 61.110093 82.568695 \r\nL 61.445228 83.302106 \r\nL 61.780363 82.202823 \r\nL 62.115498 83.293489 \r\nL 62.450633 83.399226 \r\nL 62.785769 82.977157 \r\nL 63.120904 85.783332 \r\nL 63.456039 84.796062 \r\nL 64.126309 81.383156 \r\nL 64.461444 81.503981 \r\nL 64.796579 81.442558 \r\nL 65.46685 82.989069 \r\nL 65.801985 85.414961 \r\nL 66.13712 85.351483 \r\nL 66.472255 88.151794 \r\nL 66.80739 85.950347 \r\nL 67.142525 85.31441 \r\nL 67.47766 85.019412 \r\nL 67.812796 82.860408 \r\nL 68.147931 84.717628 \r\nL 68.483066 87.511218 \r\nL 68.818201 91.270947 \r\nL 69.153336 88.680561 \r\nL 69.488471 87.170957 \r\nL 70.493877 88.197391 \r\nL 70.829012 83.060134 \r\nL 71.164147 84.966158 \r\nL 71.499282 84.693572 \r\nL 71.834417 85.068017 \r\nL 72.169552 86.742164 \r\nL 72.504687 86.639346 \r\nL 73.174958 82.501457 \r\nL 73.510093 80.60653 \r\nL 73.845228 77.265727 \r\nL 74.180363 79.620021 \r\nL 74.515498 78.459035 \r\nL 74.850633 78.891687 \r\nL 75.185769 76.689138 \r\nL 75.520904 75.696198 \r\nL 75.856039 78.44036 \r\nL 76.191174 77.976962 \r\nL 76.526309 80.418482 \r\nL 76.861444 80.719714 \r\nL 77.196579 80.822823 \r\nL 77.531715 78.553432 \r\nL 77.86685 82.300193 \r\nL 78.53712 80.600132 \r\nL 78.872255 77.21546 \r\nL 79.20739 77.991915 \r\nL 79.542525 77.314309 \r\nL 80.212796 70.881158 \r\nL 80.547931 69.58027 \r\nL 81.218201 75.744541 \r\nL 81.553336 76.606228 \r\nL 81.888471 76.891689 \r\nL 82.223606 77.994685 \r\nL 82.558742 76.419763 \r\nL 82.893877 78.531746 \r\nL 83.229012 76.99504 \r\nL 83.564147 78.913665 \r\nL 83.899282 79.910057 \r\nL 84.569552 86.639919 \r\nL 84.904687 83.072674 \r\nL 85.239823 83.191759 \r\nL 85.574958 84.993567 \r\nL 85.910093 86.089039 \r\nL 86.245228 86.07582 \r\nL 86.580363 85.36322 \r\nL 86.915498 82.761873 \r\nL 87.250633 84.018741 \r\nL 87.585769 83.293732 \r\nL 87.920904 85.669686 \r\nL 88.256039 80.809476 \r\nL 88.591174 80.994716 \r\nL 88.926309 82.859226 \r\nL 89.261444 82.284014 \r\nL 89.596579 79.786562 \r\nL 89.931715 79.20512 \r\nL 90.26685 77.158229 \r\nL 90.601985 77.359581 \r\nL 90.93712 78.854996 \r\nL 91.272255 77.867013 \r\nL 91.60739 79.324218 \r\nL 91.942525 78.778502 \r\nL 92.27766 78.539841 \r\nL 92.612796 78.906966 \r\nL 92.947931 76.295223 \r\nL 93.283066 75.696705 \r\nL 93.618201 75.408331 \r\nL 94.288471 79.838098 \r\nL 94.958742 81.139115 \r\nL 95.293877 80.297693 \r\nL 95.629012 75.960132 \r\nL 95.964147 77.379843 \r\nL 96.299282 80.712291 \r\nL 96.634417 80.722337 \r\nL 96.969552 76.46765 \r\nL 97.304688 76.053224 \r\nL 97.639823 74.488039 \r\nL 97.974958 69.73699 \r\nL 98.310093 71.921441 \r\nL 98.645228 71.304948 \r\nL 98.980363 68.948871 \r\nL 99.650633 66.311484 \r\nL 99.985769 67.024814 \r\nL 100.320904 70.431507 \r\nL 100.656039 68.744882 \r\nL 100.991174 69.030734 \r\nL 101.326309 70.150985 \r\nL 101.661444 68.363088 \r\nL 101.996579 68.341876 \r\nL 102.331715 67.095413 \r\nL 102.66685 68.004904 \r\nL 103.001985 64.06879 \r\nL 103.33712 63.732538 \r\nL 103.672255 62.182242 \r\nL 104.00739 61.530071 \r\nL 104.342525 65.257629 \r\nL 104.67766 64.573903 \r\nL 105.347931 66.186545 \r\nL 105.683066 66.738331 \r\nL 106.018201 65.984694 \r\nL 106.353336 65.700079 \r\nL 106.688471 63.444297 \r\nL 107.023606 64.56461 \r\nL 107.358742 62.122697 \r\nL 107.693877 60.783519 \r\nL 108.364147 64.797407 \r\nL 108.699282 66.376832 \r\nL 109.034417 68.968995 \r\nL 109.369552 67.111005 \r\nL 109.704688 68.637807 \r\nL 110.039823 68.63481 \r\nL 110.374958 67.724204 \r\nL 110.710093 68.567975 \r\nL 111.045228 66.355144 \r\nL 111.380363 67.402552 \r\nL 112.050633 72.335072 \r\nL 112.385769 66.301038 \r\nL 112.720904 69.956365 \r\nL 113.056039 68.07706 \r\nL 113.391174 68.308435 \r\nL 113.726309 70.628275 \r\nL 114.061444 73.949143 \r\nL 114.396579 70.997573 \r\nL 114.731715 72.172651 \r\nL 115.401985 75.646962 \r\nL 115.73712 75.929212 \r\nL 116.40739 81.117596 \r\nL 117.07766 86.861354 \r\nL 117.412796 84.858021 \r\nL 117.747931 86.736612 \r\nL 118.083066 85.939479 \r\nL 118.418201 86.247368 \r\nL 118.753336 84.2931 \r\nL 119.088471 86.286863 \r\nL 119.423606 86.893168 \r\nL 119.758742 89.829078 \r\nL 120.093877 89.800168 \r\nL 120.429012 91.016357 \r\nL 120.764147 90.646126 \r\nL 121.099282 93.291968 \r\nL 121.434417 94.20473 \r\nL 121.769552 91.473353 \r\nL 122.774958 88.207257 \r\nL 123.445228 92.195714 \r\nL 123.780363 95.099479 \r\nL 124.115498 95.127365 \r\nL 124.450633 95.549521 \r\nL 124.785769 96.849291 \r\nL 125.120904 95.988301 \r\nL 125.456039 97.358452 \r\nL 126.126309 89.867566 \r\nL 127.131715 87.934176 \r\nL 127.46685 87.616825 \r\nL 127.801985 88.509469 \r\nL 128.13712 84.333931 \r\nL 128.472255 83.50713 \r\nL 128.80739 81.812167 \r\nL 129.142525 81.52234 \r\nL 129.47766 81.798727 \r\nL 129.812796 81.427208 \r\nL 130.147931 79.284565 \r\nL 130.483066 80.823977 \r\nL 131.153336 80.377194 \r\nL 131.488471 78.326395 \r\nL 131.823606 77.927317 \r\nL 132.158742 80.839968 \r\nL 132.493877 82.333692 \r\nL 132.829012 82.526123 \r\nL 133.164147 81.065075 \r\nL 133.499282 77.945998 \r\nL 134.169552 84.99829 \r\nL 134.504687 83.631366 \r\nL 134.839823 88.912847 \r\nL 135.174958 86.196676 \r\nL 135.510093 86.16014 \r\nL 135.845228 88.974995 \r\nL 136.180363 88.897953 \r\nL 136.515498 87.808445 \r\nL 136.850633 85.857727 \r\nL 137.185769 86.594966 \r\nL 137.520904 85.329424 \r\nL 137.856039 85.917737 \r\nL 138.191174 85.396852 \r\nL 138.526309 90.490679 \r\nL 138.861444 90.84956 \r\nL 139.196579 90.653527 \r\nL 139.531715 86.186159 \r\nL 139.86685 87.109744 \r\nL 140.201985 85.95561 \r\nL 140.53712 85.611014 \r\nL 140.872255 85.853064 \r\nL 141.20739 84.218213 \r\nL 141.87766 87.066606 \r\nL 142.212796 87.974531 \r\nL 142.547931 87.115299 \r\nL 142.883066 84.76281 \r\nL 143.218201 88.284687 \r\nL 143.553336 89.249257 \r\nL 143.888471 86.053422 \r\nL 144.223606 86.478847 \r\nL 144.558742 86.502513 \r\nL 144.893877 86.782906 \r\nL 145.229012 86.91524 \r\nL 145.564147 88.129501 \r\nL 145.899282 88.493393 \r\nL 146.234417 90.741494 \r\nL 146.569552 87.893611 \r\nL 146.904687 83.64491 \r\nL 147.239823 83.333791 \r\nL 147.574958 85.597286 \r\nL 148.245228 81.610704 \r\nL 148.580363 80.823729 \r\nL 148.915498 83.969149 \r\nL 149.250633 82.98181 \r\nL 149.585769 81.510894 \r\nL 149.920904 79.539678 \r\nL 150.256039 80.828406 \r\nL 150.591174 79.542792 \r\nL 150.926309 80.877861 \r\nL 151.261444 80.259309 \r\nL 151.596579 79.064968 \r\nL 152.26685 74.853152 \r\nL 152.601985 70.565744 \r\nL 152.93712 68.157092 \r\nL 153.272255 68.623266 \r\nL 153.60739 70.204608 \r\nL 154.27766 66.701783 \r\nL 154.612796 66.426003 \r\nL 154.947931 64.058518 \r\nL 155.283066 64.398135 \r\nL 155.618201 63.106738 \r\nL 155.953336 65.404634 \r\nL 156.288471 66.696862 \r\nL 156.623606 64.084008 \r\nL 156.958742 64.107875 \r\nL 157.293877 66.326124 \r\nL 157.629012 64.774072 \r\nL 157.964147 65.281532 \r\nL 158.299282 64.245921 \r\nL 158.969552 68.609415 \r\nL 159.304688 69.482526 \r\nL 159.639823 69.275966 \r\nL 159.974958 73.222387 \r\nL 160.310093 72.233036 \r\nL 160.645228 73.166278 \r\nL 160.980363 71.797584 \r\nL 161.315498 72.678764 \r\nL 161.650633 75.499402 \r\nL 161.985769 74.698108 \r\nL 162.320904 74.372572 \r\nL 162.656039 76.712863 \r\nL 162.991174 77.764931 \r\nL 163.326309 74.957749 \r\nL 163.661444 73.447163 \r\nL 163.996579 74.750826 \r\nL 164.331715 74.714976 \r\nL 164.66685 71.177731 \r\nL 165.001985 69.02765 \r\nL 165.33712 70.03319 \r\nL 165.672255 67.067329 \r\nL 166.00739 66.047053 \r\nL 166.342525 63.681554 \r\nL 167.012796 69.495775 \r\nL 167.347931 69.535518 \r\nL 167.683066 67.167891 \r\nL 168.353336 75.140878 \r\nL 168.688471 74.173336 \r\nL 169.023606 75.000656 \r\nL 169.358742 77.363468 \r\nL 169.693877 76.71591 \r\nL 170.029012 75.25581 \r\nL 170.364147 77.217247 \r\nL 170.699282 77.831417 \r\nL 171.034417 77.358718 \r\nL 171.369552 76.150476 \r\nL 171.704688 76.882673 \r\nL 172.039823 78.239527 \r\nL 172.374958 76.977376 \r\nL 172.710093 73.486486 \r\nL 173.045228 74.271432 \r\nL 173.380363 74.278418 \r\nL 173.715498 74.721797 \r\nL 174.050633 77.131868 \r\nL 174.385769 78.663734 \r\nL 175.056039 74.435311 \r\nL 175.391174 72.731231 \r\nL 175.726309 69.088732 \r\nL 176.061444 69.299577 \r\nL 176.396579 73.108585 \r\nL 176.731715 75.381306 \r\nL 177.06685 73.226852 \r\nL 177.401985 73.94752 \r\nL 177.73712 77.776133 \r\nL 178.40739 79.71618 \r\nL 179.07766 88.509617 \r\nL 179.412796 87.954811 \r\nL 179.747931 90.040388 \r\nL 180.083066 91.125098 \r\nL 180.418201 89.327189 \r\nL 180.753336 90.879837 \r\nL 181.088471 89.276355 \r\nL 181.423606 90.138598 \r\nL 181.758742 97.064642 \r\nL 182.093877 98.630838 \r\nL 182.429012 98.48864 \r\nL 182.764147 99.467932 \r\nL 183.099282 96.595409 \r\nL 183.434417 95.438128 \r\nL 183.769552 94.717079 \r\nL 184.104687 96.357657 \r\nL 184.774958 95.591518 \r\nL 185.110093 93.283107 \r\nL 185.780363 100.233856 \r\nL 186.115498 99.450474 \r\nL 186.450633 97.185611 \r\nL 187.120904 98.492876 \r\nL 187.791174 101.511354 \r\nL 188.126309 101.004915 \r\nL 188.796579 103.380808 \r\nL 189.131715 105.68699 \r\nL 189.46685 105.217397 \r\nL 189.801985 105.918236 \r\nL 190.13712 106.291926 \r\nL 190.472255 102.731349 \r\nL 190.80739 104.005966 \r\nL 191.142525 101.987988 \r\nL 191.47766 98.717145 \r\nL 191.812796 102.920501 \r\nL 192.147931 102.640355 \r\nL 192.483066 101.426224 \r\nL 192.818201 103.380369 \r\nL 193.153336 104.209433 \r\nL 193.488471 101.221562 \r\nL 193.823606 104.541504 \r\nL 194.158742 106.439125 \r\nL 194.493877 106.318949 \r\nL 194.829012 104.784849 \r\nL 195.164147 106.125059 \r\nL 195.499282 106.685478 \r\nL 196.169552 106.088957 \r\nL 196.504687 107.751024 \r\nL 196.839823 108.195511 \r\nL 197.174958 109.13077 \r\nL 197.510093 111.96979 \r\nL 198.180363 106.269925 \r\nL 198.515498 106.540442 \r\nL 198.850633 101.336336 \r\nL 199.185769 104.30297 \r\nL 199.520904 102.697971 \r\nL 199.856039 107.161953 \r\nL 200.191174 107.148102 \r\nL 200.526309 110.37074 \r\nL 201.86685 117.813817 \r\nL 202.201985 117.349407 \r\nL 202.53712 117.392564 \r\nL 202.872255 118.302303 \r\nL 203.20739 121.50764 \r\nL 203.542525 122.358453 \r\nL 203.87766 126.011218 \r\nL 204.212796 126.411098 \r\nL 204.547931 127.716089 \r\nL 204.883066 129.546851 \r\nL 205.218201 128.580591 \r\nL 205.553336 123.553754 \r\nL 205.888471 123.724036 \r\nL 206.223606 124.796846 \r\nL 206.558742 126.597325 \r\nL 207.229012 126.595828 \r\nL 207.564147 127.729703 \r\nL 207.899282 126.579954 \r\nL 208.234417 127.951873 \r\nL 208.569552 127.616175 \r\nL 208.904687 128.9718 \r\nL 209.239823 132.336676 \r\nL 209.574958 131.925023 \r\nL 209.910093 130.972776 \r\nL 210.245228 125.217715 \r\nL 210.580363 128.118775 \r\nL 210.915498 128.764192 \r\nL 211.250633 128.908373 \r\nL 211.585769 126.082116 \r\nL 211.920904 128.314809 \r\nL 212.256039 126.798073 \r\nL 212.591174 126.758844 \r\nL 212.926309 127.588307 \r\nL 213.261444 131.960988 \r\nL 213.596579 132.165598 \r\nL 213.931715 131.927912 \r\nL 214.26685 130.622379 \r\nL 214.601985 131.306214 \r\nL 214.93712 131.331321 \r\nL 215.272255 135.111667 \r\nL 215.60739 136.09512 \r\nL 215.942525 136.515609 \r\nL 216.27766 140.018607 \r\nL 216.612796 140.276436 \r\nL 216.947931 138.494365 \r\nL 217.283066 138.541404 \r\nL 217.618201 141.19784 \r\nL 217.953336 142.196072 \r\nL 218.288471 141.223804 \r\nL 218.623606 143.062636 \r\nL 218.958742 146.66135 \r\nL 219.293877 147.336609 \r\nL 219.629012 149.725987 \r\nL 219.964147 150.441028 \r\nL 220.299282 149.494015 \r\nL 220.634417 150.926095 \r\nL 220.969552 150.178668 \r\nL 221.304688 150.448024 \r\nL 221.639823 151.767519 \r\nL 221.974958 150.645723 \r\nL 222.310093 152.002802 \r\nL 222.645228 151.07591 \r\nL 222.980363 148.844055 \r\nL 223.315498 147.733794 \r\nL 223.650633 151.441986 \r\nL 223.985769 149.105316 \r\nL 224.320904 149.561623 \r\nL 224.991174 151.402725 \r\nL 225.661444 154.238095 \r\nL 225.996579 155.296057 \r\nL 226.331715 150.448098 \r\nL 226.66685 147.603827 \r\nL 227.672255 152.154736 \r\nL 228.00739 152.627623 \r\nL 228.342525 153.604455 \r\nL 228.67766 151.665469 \r\nL 229.012796 151.922881 \r\nL 229.347931 150.470249 \r\nL 230.018201 144.267323 \r\nL 230.353336 143.037435 \r\nL 230.688471 142.266945 \r\nL 231.023606 140.554398 \r\nL 231.693877 140.842426 \r\nL 232.029012 141.26785 \r\nL 232.364147 138.130277 \r\nL 232.699282 140.362715 \r\nL 233.034417 137.959115 \r\nL 233.369552 140.67537 \r\nL 233.704688 140.843665 \r\nL 234.039823 141.768073 \r\nL 235.045228 138.59794 \r\nL 235.380363 135.980574 \r\nL 235.715498 136.046156 \r\nL 236.050633 138.466301 \r\nL 236.385769 138.396457 \r\nL 236.720904 139.006037 \r\nL 237.056039 140.661566 \r\nL 237.391174 140.120584 \r\nL 237.726309 140.474004 \r\nL 238.061444 139.972048 \r\nL 238.396579 140.075975 \r\nL 238.731715 140.307499 \r\nL 239.06685 144.824727 \r\nL 239.401985 145.326215 \r\nL 239.73712 144.660654 \r\nL 240.072255 141.864943 \r\nL 240.40739 143.371748 \r\nL 241.07766 149.35085 \r\nL 241.412796 148.0417 \r\nL 241.747931 150.556208 \r\nL 242.083066 150.594863 \r\nL 242.418201 151.036405 \r\nL 242.753336 152.235616 \r\nL 243.088471 150.288095 \r\nL 243.423606 152.985727 \r\nL 243.758742 151.965622 \r\nL 244.093877 148.339591 \r\nL 244.429012 148.685162 \r\nL 244.764147 153.851115 \r\nL 245.099282 151.201056 \r\nL 245.434417 155.25306 \r\nL 245.769552 152.829745 \r\nL 246.104687 152.960432 \r\nL 246.439823 150.128421 \r\nL 246.774958 148.395629 \r\nL 247.110093 149.695843 \r\nL 247.445228 150.538784 \r\nL 247.780363 148.981702 \r\nL 248.450633 147.589133 \r\nL 249.120904 150.605229 \r\nL 249.456039 150.728847 \r\nL 249.791174 148.982823 \r\nL 250.461444 156.364479 \r\nL 250.796579 157.476265 \r\nL 251.131715 160.789425 \r\nL 251.46685 160.671011 \r\nL 251.801985 161.632546 \r\nL 252.472255 159.134766 \r\nL 252.80739 161.063438 \r\nL 253.142525 163.85171 \r\nL 253.812796 161.007157 \r\nL 254.147931 161.367941 \r\nL 254.483066 157.937006 \r\nL 255.153336 160.117521 \r\nL 255.488471 162.225192 \r\nL 255.823606 160.400215 \r\nL 256.493877 165.292453 \r\nL 256.829012 165.353329 \r\nL 257.164147 163.204368 \r\nL 257.499282 163.430892 \r\nL 257.834417 164.80957 \r\nL 258.169552 161.416237 \r\nL 258.504687 163.734652 \r\nL 259.174958 163.710124 \r\nL 259.510093 163.316482 \r\nL 259.845228 163.808351 \r\nL 260.180363 163.443697 \r\nL 260.515498 161.674262 \r\nL 260.850633 165.873493 \r\nL 261.185769 165.709775 \r\nL 261.520904 166.750074 \r\nL 261.856039 164.05239 \r\nL 262.191174 165.756525 \r\nL 262.526309 163.693519 \r\nL 262.861444 163.815004 \r\nL 263.196579 162.767834 \r\nL 263.531715 159.397493 \r\nL 263.86685 159.725496 \r\nL 264.201985 158.108784 \r\nL 264.53712 158.203043 \r\nL 264.872255 157.28686 \r\nL 265.20739 157.350147 \r\nL 265.542525 154.30499 \r\nL 266.547931 166.074916 \r\nL 266.883066 164.708291 \r\nL 267.218201 165.470689 \r\nL 267.553336 163.910612 \r\nL 267.888471 165.523137 \r\nL 268.223606 168.362417 \r\nL 268.893877 164.625979 \r\nL 269.229012 165.315863 \r\nL 269.564147 165.039828 \r\nL 269.899282 165.714759 \r\nL 270.234417 165.454095 \r\nL 270.904687 168.144814 \r\nL 271.239823 168.422674 \r\nL 271.574958 168.295123 \r\nL 271.910093 164.453537 \r\nL 272.245228 163.958065 \r\nL 272.580363 164.156004 \r\nL 273.250633 162.048889 \r\nL 273.585769 161.194516 \r\nL 273.920904 162.502473 \r\nL 274.256039 164.306963 \r\nL 274.591174 167.280385 \r\nL 274.926309 168.658607 \r\nL 275.261444 163.155356 \r\nL 275.596579 161.108353 \r\nL 275.931715 162.124964 \r\nL 276.26685 158.042365 \r\nL 276.601985 155.844281 \r\nL 276.93712 154.563783 \r\nL 277.272255 155.638876 \r\nL 277.60739 157.3629 \r\nL 277.942525 157.849927 \r\nL 278.27766 156.574342 \r\nL 278.947931 157.381536 \r\nL 279.283066 160.836079 \r\nL 279.618201 162.264447 \r\nL 279.953336 160.445595 \r\nL 280.288471 161.205877 \r\nL 280.623606 162.397251 \r\nL 280.958742 163.027994 \r\nL 281.629012 160.449352 \r\nL 281.964147 166.677256 \r\nL 282.299282 165.954965 \r\nL 282.634417 168.624696 \r\nL 283.304688 166.202231 \r\nL 283.639823 169.168963 \r\nL 283.974958 166.920881 \r\nL 284.310093 167.856828 \r\nL 284.645228 164.303637 \r\nL 284.980363 170.674192 \r\nL 285.315498 167.315853 \r\nL 285.650633 170.531667 \r\nL 285.985769 167.787133 \r\nL 286.320904 171.778229 \r\nL 286.656039 171.429107 \r\nL 286.991174 172.95439 \r\nL 287.326309 169.018514 \r\nL 287.661444 171.087043 \r\nL 287.996579 171.675569 \r\nL 288.331715 174.272688 \r\nL 288.66685 172.611206 \r\nL 289.001985 171.949372 \r\nL 289.33712 173.988892 \r\nL 289.672255 174.196607 \r\nL 290.00739 173.870678 \r\nL 290.342525 175.344317 \r\nL 290.67766 174.563713 \r\nL 291.347931 176.730881 \r\nL 291.683066 176.48099 \r\nL 292.018201 174.779714 \r\nL 292.353336 175.277109 \r\nL 292.688471 178.273368 \r\nL 293.358742 177.821072 \r\nL 294.364147 185.977762 \r\nL 294.699282 185.591759 \r\nL 295.034417 189.114155 \r\nL 295.369552 189.929705 \r\nL 295.704688 191.701539 \r\nL 296.039823 191.494501 \r\nL 296.374958 192.867324 \r\nL 296.710093 196.039135 \r\nL 297.045228 194.866178 \r\nL 297.380363 192.926 \r\nL 297.715498 193.285027 \r\nL 298.050633 191.489503 \r\nL 298.385769 193.08355 \r\nL 298.720904 193.554311 \r\nL 299.056039 192.306087 \r\nL 299.391174 190.337333 \r\nL 299.726309 192.019041 \r\nL 300.396579 189.586061 \r\nL 301.06685 185.055841 \r\nL 301.401985 184.738775 \r\nL 302.072255 192.547371 \r\nL 302.40739 191.612441 \r\nL 302.742525 192.102815 \r\nL 303.07766 192.009814 \r\nL 303.747931 193.800873 \r\nL 304.083066 191.324111 \r\nL 304.418201 192.447918 \r\nL 304.753336 190.808081 \r\nL 305.088471 195.557506 \r\nL 305.423606 195.728769 \r\nL 305.758742 193.457677 \r\nL 306.093877 193.542615 \r\nL 306.429012 194.226841 \r\nL 306.764147 198.836069 \r\nL 307.099282 199.684758 \r\nL 307.434417 199.383856 \r\nL 308.774958 193.118647 \r\nL 309.110093 192.669094 \r\nL 309.445228 193.635579 \r\nL 309.780363 194.197988 \r\nL 310.115498 195.391817 \r\nL 310.450633 200.252666 \r\nL 311.120904 199.086438 \r\nL 311.456039 199.896642 \r\nL 311.791174 201.810555 \r\nL 312.126309 200.139917 \r\nL 312.461444 202.135581 \r\nL 312.796579 201.280266 \r\nL 313.131715 201.849645 \r\nL 313.46685 201.652725 \r\nL 313.801985 200.958853 \r\nL 314.13712 201.330537 \r\nL 314.80739 200.537345 \r\nL 315.142525 204.339099 \r\nL 315.47766 202.604114 \r\nL 315.812796 202.641127 \r\nL 316.483066 203.286612 \r\nL 316.818201 204.724216 \r\nL 317.153336 204.546261 \r\nL 317.488471 205.996685 \r\nL 317.823606 205.984344 \r\nL 318.158742 206.862052 \r\nL 318.829012 213.305019 \r\nL 319.164147 214.091544 \r\nL 319.499282 215.575217 \r\nL 319.834417 213.517386 \r\nL 320.169552 214.62667 \r\nL 320.504687 212.988679 \r\nL 320.839823 209.899485 \r\nL 321.174958 211.084611 \r\nL 321.510093 211.393431 \r\nL 321.845228 206.821556 \r\nL 322.515498 210.673737 \r\nL 322.850633 211.971246 \r\nL 323.185769 212.642949 \r\nL 323.520904 215.692775 \r\nL 323.856039 216.250728 \r\nL 324.191174 213.571506 \r\nL 324.526309 213.914931 \r\nL 324.861444 214.844274 \r\nL 325.196579 215.268013 \r\nL 325.531715 213.83052 \r\nL 325.86685 212.971072 \r\nL 326.201985 213.237166 \r\nL 327.20739 207.921608 \r\nL 327.542525 207.507364 \r\nL 327.87766 209.604111 \r\nL 328.212796 207.081958 \r\nL 328.547931 206.640191 \r\nL 328.883066 203.798127 \r\nL 329.218201 202.048824 \r\nL 329.553336 204.710704 \r\nL 329.888471 204.134088 \r\nL 330.223606 203.932171 \r\nL 330.558742 202.473229 \r\nL 330.893877 205.788601 \r\nL 331.229012 207.232486 \r\nL 331.564147 210.155197 \r\nL 331.899282 212.092355 \r\nL 332.234417 211.519264 \r\nL 332.569552 213.418305 \r\nL 332.904687 214.396706 \r\nL 333.239823 214.203556 \r\nL 333.574958 212.771794 \r\nL 333.910093 213.957827 \r\nL 334.245228 212.293085 \r\nL 334.580363 214.978608 \r\nL 335.250633 217.312535 \r\nL 335.585769 217.517828 \r\nL 336.591174 209.322738 \r\nL 336.926309 207.49065 \r\nL 337.261444 212.694309 \r\nL 337.596579 208.578641 \r\nL 337.931715 207.626954 \r\nL 338.26685 208.01843 \r\nL 338.601985 206.168369 \r\nL 338.93712 206.049499 \r\nL 339.272255 203.881567 \r\nL 339.60739 200.042054 \r\nL 339.942525 199.981598 \r\nL 340.27766 197.487508 \r\nL 340.612796 197.820286 \r\nL 340.947931 199.546647 \r\nL 341.283066 197.27195 \r\nL 341.618201 193.613717 \r\nL 341.953336 194.616566 \r\nL 342.288471 193.860877 \r\nL 342.623606 192.543143 \r\nL 342.958742 192.057139 \r\nL 343.293877 190.457069 \r\nL 343.629012 189.778963 \r\nL 343.964147 187.726594 \r\nL 344.299282 186.743292 \r\nL 344.634417 187.8154 \r\nL 344.969552 187.81889 \r\nL 345.639823 184.595682 \r\nL 345.974958 185.965589 \r\nL 346.645228 181.493151 \r\nL 346.980363 180.910063 \r\nL 347.650633 189.694098 \r\nL 347.985769 191.807954 \r\nL 348.320904 192.885237 \r\nL 348.656039 191.387482 \r\nL 348.991174 192.000602 \r\nL 349.326309 191.748605 \r\nL 349.996579 190.411799 \r\nL 350.331715 191.361128 \r\nL 350.66685 191.921551 \r\nL 351.001985 190.040616 \r\nL 351.33712 191.612084 \r\nL 351.672255 191.328578 \r\nL 352.00739 193.520176 \r\nL 352.342525 191.237379 \r\nL 352.67766 190.114516 \r\nL 353.012796 191.553223 \r\nL 353.347931 194.733658 \r\nL 353.683066 193.406725 \r\nL 354.018201 195.507359 \r\nL 354.688471 204.864316 \r\nL 355.023606 201.840371 \r\nL 355.358742 203.061515 \r\nL 355.693877 203.665668 \r\nL 356.364147 200.739937 \r\nL 357.034417 198.767481 \r\nL 357.369552 198.794215 \r\nL 357.704688 197.700573 \r\nL 358.039823 199.898511 \r\nL 358.374958 198.517833 \r\nL 358.710093 201.600025 \r\nL 359.045228 200.496238 \r\nL 359.380363 200.536961 \r\nL 359.715498 200.249448 \r\nL 360.050633 199.522961 \r\nL 360.720904 201.435474 \r\nL 361.056039 200.863731 \r\nL 361.391174 202.516171 \r\nL 361.726309 203.102605 \r\nL 362.061444 206.104892 \r\nL 362.731715 201.816654 \r\nL 363.06685 205.663389 \r\nL 363.401985 207.771416 \r\nL 363.73712 208.608464 \r\nL 364.072255 211.580393 \r\nL 364.40739 206.04447 \r\nL 364.742525 203.077266 \r\nL 365.07766 205.511508 \r\nL 365.412796 208.966514 \r\nL 365.747931 208.521335 \r\nL 366.418201 206.176382 \r\nL 366.753336 203.881354 \r\nL 367.088471 203.421344 \r\nL 367.423606 201.279453 \r\nL 367.758742 201.570469 \r\nL 368.093877 199.065821 \r\nL 368.429012 198.395761 \r\nL 368.764147 201.7887 \r\nL 369.099282 200.844552 \r\nL 369.769552 195.631169 \r\nL 370.104688 194.241837 \r\nL 370.104688 194.241837 \r\n\" style=\"fill:none;stroke:#1f77b4;stroke-linecap:square;stroke-width:1.5;\"/>\r\n   </g>\r\n   <g id=\"line2d_42\">\r\n    <path clip-path=\"url(#p51499ed26c)\" d=\"M 35.304688 92.47956 \r\nL 35.974958 95.886844 \r\nL 36.310093 99.512814 \r\nL 36.645228 101.859762 \r\nL 36.980363 98.124975 \r\nL 37.315498 98.160727 \r\nL 37.650633 101.122498 \r\nL 37.985769 101.726589 \r\nL 38.320904 103.277957 \r\nL 38.656039 105.865676 \r\nL 38.991174 107.096408 \r\nL 39.326309 105.956338 \r\nL 39.661444 105.480235 \r\nL 40.331715 107.931581 \r\nL 40.66685 106.201525 \r\nL 41.001985 107.403703 \r\nL 41.33712 106.377521 \r\nL 41.672255 103.484311 \r\nL 42.00739 104.306087 \r\nL 42.342525 99.866939 \r\nL 42.67766 99.691725 \r\nL 43.347931 100.969894 \r\nL 43.683066 98.042527 \r\nL 44.018201 93.29435 \r\nL 44.353336 94.440926 \r\nL 44.688471 94.362925 \r\nL 45.023606 91.356413 \r\nL 45.358742 91.847413 \r\nL 45.693877 91.733571 \r\nL 46.029012 89.053955 \r\nL 46.364147 87.612073 \r\nL 46.699282 84.694264 \r\nL 47.034417 86.723255 \r\nL 47.704688 82.571903 \r\nL 48.039823 84.446592 \r\nL 48.374958 83.694467 \r\nL 48.710093 86.549486 \r\nL 49.045228 87.78195 \r\nL 49.380363 88.275513 \r\nL 49.715498 89.583917 \r\nL 50.050633 87.831985 \r\nL 50.385769 87.345475 \r\nL 50.720904 87.474222 \r\nL 51.056039 90.414278 \r\nL 51.726309 87.415708 \r\nL 52.061444 86.726456 \r\nL 52.396579 87.479985 \r\nL 52.731715 89.230126 \r\nL 53.06685 86.942459 \r\nL 53.401985 83.281452 \r\nL 53.73712 85.508361 \r\nL 54.072255 84.16668 \r\nL 54.742525 86.22189 \r\nL 55.07766 86.136694 \r\nL 55.412796 84.844728 \r\nL 55.747931 84.545297 \r\nL 56.083066 83.38267 \r\nL 56.418201 84.304985 \r\nL 56.753336 82.882902 \r\nL 57.088471 82.529631 \r\nL 57.423606 82.844991 \r\nL 57.758742 87.532453 \r\nL 58.093877 86.471238 \r\nL 58.429012 87.848252 \r\nL 58.764147 86.998242 \r\nL 59.099282 86.783836 \r\nL 59.434417 88.063412 \r\nL 59.769552 93.815354 \r\nL 60.104687 94.220551 \r\nL 60.439823 92.846485 \r\nL 60.774958 90.457702 \r\nL 61.110093 89.427981 \r\nL 61.445228 90.414246 \r\nL 61.780363 90.517373 \r\nL 62.115498 90.822983 \r\nL 62.450633 88.207857 \r\nL 62.785769 87.285501 \r\nL 63.120904 87.392676 \r\nL 63.456039 88.756441 \r\nL 63.791174 91.300001 \r\nL 64.461444 85.461431 \r\nL 64.796579 85.470481 \r\nL 65.131715 87.919763 \r\nL 65.46685 86.036792 \r\nL 65.801985 87.923915 \r\nL 66.13712 86.169189 \r\nL 66.472255 90.294797 \r\nL 66.80739 89.6463 \r\nL 67.142525 86.584797 \r\nL 67.47766 85.515435 \r\nL 67.812796 87.137306 \r\nL 68.147931 86.19506 \r\nL 68.483066 86.938413 \r\nL 68.818201 88.677247 \r\nL 69.153336 88.497994 \r\nL 69.488471 91.195327 \r\nL 69.823606 91.214985 \r\nL 70.158742 92.397789 \r\nL 70.829012 91.158712 \r\nL 71.164147 92.694607 \r\nL 71.499282 92.048883 \r\nL 71.834417 91.756108 \r\nL 72.169552 90.740689 \r\nL 72.504687 89.035235 \r\nL 72.839823 89.144221 \r\nL 73.174958 88.343819 \r\nL 73.510093 87.137597 \r\nL 73.845228 89.193259 \r\nL 75.185769 86.807825 \r\nL 75.520904 85.765382 \r\nL 76.191174 88.188322 \r\nL 76.526309 86.346204 \r\nL 76.861444 89.067709 \r\nL 77.196579 88.903445 \r\nL 77.86685 92.021978 \r\nL 78.201985 95.401135 \r\nL 78.53712 93.018072 \r\nL 78.872255 94.612322 \r\nL 79.20739 92.689174 \r\nL 79.542525 95.577126 \r\nL 79.87766 95.365012 \r\nL 80.212796 97.940592 \r\nL 80.547931 97.324442 \r\nL 80.883066 98.573335 \r\nL 81.553336 94.91244 \r\nL 81.888471 97.938561 \r\nL 82.558742 99.284287 \r\nL 82.893877 99.03074 \r\nL 83.229012 98.936113 \r\nL 83.564147 97.962098 \r\nL 83.899282 97.461761 \r\nL 84.234417 97.178754 \r\nL 84.569552 94.630519 \r\nL 84.904687 96.212272 \r\nL 85.239823 95.283179 \r\nL 85.574958 93.409807 \r\nL 85.910093 96.523305 \r\nL 86.245228 94.501073 \r\nL 86.580363 97.577569 \r\nL 86.915498 96.760095 \r\nL 87.250633 97.171938 \r\nL 87.585769 96.774776 \r\nL 87.920904 94.512256 \r\nL 88.256039 97.168592 \r\nL 88.591174 95.922536 \r\nL 88.926309 97.026249 \r\nL 89.261444 105.45296 \r\nL 89.596579 103.934286 \r\nL 89.931715 100.471319 \r\nL 90.26685 100.979286 \r\nL 90.93712 94.809896 \r\nL 91.272255 96.882361 \r\nL 91.60739 99.767911 \r\nL 92.27766 103.134161 \r\nL 92.612796 102.888585 \r\nL 92.947931 102.14805 \r\nL 93.283066 103.442986 \r\nL 93.618201 105.635663 \r\nL 93.953336 106.8958 \r\nL 94.623606 110.892048 \r\nL 94.958742 109.002709 \r\nL 95.629012 111.224211 \r\nL 95.964147 112.615319 \r\nL 96.299282 110.907913 \r\nL 96.634417 111.772924 \r\nL 96.969552 110.153963 \r\nL 97.639823 114.119066 \r\nL 97.974958 113.149575 \r\nL 98.310093 115.181853 \r\nL 98.645228 115.029699 \r\nL 98.980363 112.698667 \r\nL 99.315498 111.66253 \r\nL 99.650633 113.035766 \r\nL 99.985769 108.825181 \r\nL 100.656039 104.838395 \r\nL 100.991174 106.725553 \r\nL 101.661444 106.937545 \r\nL 102.331715 111.91167 \r\nL 102.66685 112.019473 \r\nL 103.001985 114.64853 \r\nL 103.672255 110.54456 \r\nL 104.00739 106.840238 \r\nL 104.342525 106.059896 \r\nL 104.67766 107.584652 \r\nL 105.012796 106.054417 \r\nL 105.347931 103.22587 \r\nL 105.683066 105.242682 \r\nL 106.018201 106.16841 \r\nL 106.353336 110.570574 \r\nL 106.688471 113.271909 \r\nL 107.023606 113.911456 \r\nL 107.358742 113.905017 \r\nL 107.693877 111.175456 \r\nL 108.029012 112.060381 \r\nL 108.699282 108.060805 \r\nL 109.034417 106.656268 \r\nL 109.369552 103.135234 \r\nL 109.704688 105.006702 \r\nL 110.039823 102.62442 \r\nL 110.710093 103.578471 \r\nL 111.045228 105.598067 \r\nL 111.380363 106.094391 \r\nL 111.715498 109.773416 \r\nL 112.050633 111.569504 \r\nL 112.385769 110.352479 \r\nL 113.056039 114.122825 \r\nL 113.391174 114.175125 \r\nL 114.061444 111.507347 \r\nL 114.396579 113.386434 \r\nL 114.731715 113.358108 \r\nL 115.06685 114.9969 \r\nL 115.401985 115.979948 \r\nL 116.072255 120.600353 \r\nL 116.40739 125.226828 \r\nL 116.742525 125.776625 \r\nL 117.07766 127.012268 \r\nL 117.412796 125.439496 \r\nL 117.747931 127.354235 \r\nL 118.083066 124.829194 \r\nL 118.418201 124.127316 \r\nL 118.753336 123.997775 \r\nL 119.088471 123.404912 \r\nL 119.423606 122.397627 \r\nL 119.758742 122.11993 \r\nL 120.093877 123.398132 \r\nL 120.429012 125.642653 \r\nL 120.764147 126.208759 \r\nL 121.099282 127.32114 \r\nL 121.434417 127.86333 \r\nL 121.769552 126.583219 \r\nL 122.104687 125.988941 \r\nL 122.439823 127.833592 \r\nL 122.774958 127.085976 \r\nL 123.110093 123.355133 \r\nL 123.445228 121.873631 \r\nL 123.780363 122.471565 \r\nL 124.115498 120.983445 \r\nL 124.450633 116.632653 \r\nL 124.785769 117.67427 \r\nL 125.120904 115.01881 \r\nL 125.456039 118.8535 \r\nL 125.791174 118.409566 \r\nL 126.126309 120.767111 \r\nL 126.461444 114.726418 \r\nL 126.796579 112.822727 \r\nL 127.131715 113.427054 \r\nL 127.46685 110.779811 \r\nL 127.801985 110.937491 \r\nL 128.13712 111.37304 \r\nL 128.472255 113.712632 \r\nL 128.80739 113.789823 \r\nL 129.142525 113.646057 \r\nL 129.47766 111.912454 \r\nL 129.812796 113.062029 \r\nL 130.147931 115.698 \r\nL 130.483066 115.286984 \r\nL 130.818201 115.15964 \r\nL 131.153336 114.325578 \r\nL 131.488471 116.947546 \r\nL 131.823606 117.347684 \r\nL 132.158742 117.42701 \r\nL 132.493877 115.85489 \r\nL 133.164147 111.4856 \r\nL 133.834417 113.633416 \r\nL 134.504687 112.028895 \r\nL 134.839823 110.622427 \r\nL 135.174958 112.442281 \r\nL 135.510093 109.884823 \r\nL 135.845228 109.354717 \r\nL 136.180363 108.318289 \r\nL 136.515498 110.775246 \r\nL 136.850633 110.26143 \r\nL 137.185769 106.189964 \r\nL 137.520904 105.82139 \r\nL 137.856039 110.446268 \r\nL 138.191174 107.394292 \r\nL 138.526309 107.983139 \r\nL 138.861444 103.464169 \r\nL 139.531715 104.998114 \r\nL 139.86685 105.443077 \r\nL 140.201985 105.05594 \r\nL 140.53712 107.642407 \r\nL 140.872255 109.058157 \r\nL 141.20739 109.559497 \r\nL 141.542525 111.418765 \r\nL 141.87766 108.940388 \r\nL 142.212796 110.356617 \r\nL 142.883066 111.485035 \r\nL 143.218201 113.048788 \r\nL 143.553336 111.962772 \r\nL 143.888471 112.373111 \r\nL 144.223606 111.04174 \r\nL 144.558742 108.859571 \r\nL 144.893877 112.103811 \r\nL 145.229012 111.042429 \r\nL 145.564147 110.788881 \r\nL 145.899282 107.779493 \r\nL 146.234417 111.37907 \r\nL 146.569552 109.789132 \r\nL 146.904687 110.679301 \r\nL 147.239823 109.793338 \r\nL 147.574958 106.610147 \r\nL 147.910093 105.381629 \r\nL 148.245228 105.604568 \r\nL 148.580363 103.359505 \r\nL 148.915498 102.612514 \r\nL 149.250633 101.337295 \r\nL 149.585769 104.254443 \r\nL 149.920904 99.748287 \r\nL 150.256039 97.415844 \r\nL 150.591174 97.626823 \r\nL 150.926309 97.306368 \r\nL 151.261444 91.735158 \r\nL 151.931715 94.191563 \r\nL 152.26685 94.431327 \r\nL 152.601985 100.689689 \r\nL 152.93712 99.746119 \r\nL 153.272255 101.652437 \r\nL 153.60739 99.874189 \r\nL 154.27766 102.161839 \r\nL 154.612796 105.062773 \r\nL 154.947931 103.752195 \r\nL 155.283066 104.451979 \r\nL 155.618201 103.782314 \r\nL 156.288471 98.27322 \r\nL 156.958742 101.52034 \r\nL 157.293877 102.01251 \r\nL 157.629012 97.655411 \r\nL 157.964147 98.018771 \r\nL 158.299282 98.646418 \r\nL 158.634417 101.08737 \r\nL 158.969552 100.354419 \r\nL 159.304688 101.063715 \r\nL 159.974958 94.353752 \r\nL 160.310093 94.488724 \r\nL 160.645228 91.377146 \r\nL 160.980363 90.885884 \r\nL 161.315498 91.271278 \r\nL 161.985769 87.404271 \r\nL 162.320904 86.041466 \r\nL 162.656039 86.810934 \r\nL 162.991174 85.722926 \r\nL 163.326309 83.343011 \r\nL 163.661444 83.961938 \r\nL 163.996579 86.112292 \r\nL 164.331715 84.639704 \r\nL 164.66685 81.166333 \r\nL 165.001985 85.852445 \r\nL 165.33712 86.255456 \r\nL 165.672255 88.021367 \r\nL 166.00739 90.496878 \r\nL 166.342525 91.560545 \r\nL 166.67766 88.33603 \r\nL 167.012796 86.355462 \r\nL 167.347931 86.263741 \r\nL 168.018201 81.263016 \r\nL 168.688471 81.756913 \r\nL 169.023606 81.830936 \r\nL 169.358742 83.099389 \r\nL 169.693877 82.683711 \r\nL 170.029012 84.547133 \r\nL 170.364147 84.479605 \r\nL 170.699282 80.808409 \r\nL 171.034417 81.65717 \r\nL 171.369552 78.873168 \r\nL 172.039823 75.453138 \r\nL 172.374958 74.861675 \r\nL 172.710093 77.550784 \r\nL 173.045228 77.579079 \r\nL 173.380363 77.849635 \r\nL 173.715498 78.941566 \r\nL 174.050633 79.405769 \r\nL 174.720904 79.314986 \r\nL 175.056039 79.491032 \r\nL 175.391174 78.984081 \r\nL 175.726309 78.681896 \r\nL 176.061444 77.979 \r\nL 176.396579 80.89623 \r\nL 176.731715 80.054527 \r\nL 177.06685 79.561984 \r\nL 177.401985 79.991121 \r\nL 177.73712 81.060025 \r\nL 178.072255 78.381223 \r\nL 178.40739 77.429271 \r\nL 178.742525 75.603397 \r\nL 179.07766 75.775525 \r\nL 179.412796 74.947391 \r\nL 179.747931 74.877672 \r\nL 180.418201 77.245034 \r\nL 180.753336 75.301853 \r\nL 181.088471 76.873755 \r\nL 181.423606 76.72371 \r\nL 181.758742 76.413833 \r\nL 182.093877 78.185147 \r\nL 182.429012 76.980609 \r\nL 182.764147 77.101898 \r\nL 183.434417 69.998802 \r\nL 183.769552 67.641193 \r\nL 184.104687 67.042813 \r\nL 184.439823 67.169712 \r\nL 184.774958 69.133102 \r\nL 185.110093 67.482952 \r\nL 185.445228 71.667555 \r\nL 185.780363 69.396605 \r\nL 186.115498 71.47193 \r\nL 186.450633 71.817487 \r\nL 186.785769 69.965811 \r\nL 187.120904 70.026747 \r\nL 187.456039 69.309732 \r\nL 187.791174 69.668623 \r\nL 188.126309 68.595814 \r\nL 188.461444 69.623482 \r\nL 188.796579 68.553132 \r\nL 189.131715 65.267139 \r\nL 189.46685 66.285465 \r\nL 189.801985 66.545406 \r\nL 190.13712 68.401314 \r\nL 190.80739 74.019117 \r\nL 191.142525 73.583323 \r\nL 191.47766 70.971125 \r\nL 191.812796 70.349188 \r\nL 192.147931 71.65959 \r\nL 192.483066 70.860752 \r\nL 192.818201 69.210254 \r\nL 193.153336 70.470777 \r\nL 193.488471 70.648206 \r\nL 194.158742 72.154855 \r\nL 194.493877 73.654143 \r\nL 194.829012 71.825023 \r\nL 195.164147 72.094346 \r\nL 195.499282 71.633566 \r\nL 195.834417 69.941051 \r\nL 196.169552 70.283463 \r\nL 196.504687 76.445327 \r\nL 196.839823 76.07556 \r\nL 197.174958 79.706696 \r\nL 197.510093 78.249663 \r\nL 197.845228 79.370858 \r\nL 198.180363 77.187376 \r\nL 198.515498 77.134729 \r\nL 198.850633 78.983316 \r\nL 199.185769 81.73992 \r\nL 199.520904 80.877472 \r\nL 199.856039 83.285189 \r\nL 200.191174 87.61187 \r\nL 200.526309 86.481046 \r\nL 200.861444 84.472087 \r\nL 201.196579 87.384733 \r\nL 201.531715 84.448978 \r\nL 201.86685 85.015614 \r\nL 202.201985 83.917028 \r\nL 202.53712 85.586946 \r\nL 203.20739 86.512895 \r\nL 203.542525 85.961 \r\nL 203.87766 88.164467 \r\nL 205.553336 79.469592 \r\nL 206.223606 83.13372 \r\nL 206.558742 86.492487 \r\nL 206.893877 87.579789 \r\nL 207.229012 85.958326 \r\nL 207.564147 87.346022 \r\nL 207.899282 91.7965 \r\nL 208.234417 90.772115 \r\nL 208.569552 90.841264 \r\nL 208.904687 89.897004 \r\nL 209.239823 90.700085 \r\nL 209.574958 89.908316 \r\nL 210.245228 84.787037 \r\nL 210.580363 87.179619 \r\nL 210.915498 83.737785 \r\nL 211.250633 83.372606 \r\nL 211.920904 84.719596 \r\nL 212.256039 83.77063 \r\nL 212.591174 85.097412 \r\nL 212.926309 84.044733 \r\nL 213.261444 84.3103 \r\nL 213.596579 89.556511 \r\nL 213.931715 90.081889 \r\nL 214.26685 94.590904 \r\nL 214.601985 94.864452 \r\nL 215.272255 96.797994 \r\nL 215.942525 91.05205 \r\nL 216.27766 92.044697 \r\nL 216.612796 92.12518 \r\nL 216.947931 96.34275 \r\nL 217.283066 93.017807 \r\nL 217.618201 94.106616 \r\nL 217.953336 92.731359 \r\nL 218.288471 90.532411 \r\nL 218.623606 93.145244 \r\nL 218.958742 92.969102 \r\nL 219.293877 93.307888 \r\nL 219.629012 91.920895 \r\nL 219.964147 93.176708 \r\nL 220.299282 91.692095 \r\nL 220.969552 90.241332 \r\nL 221.304688 91.588134 \r\nL 221.639823 88.308036 \r\nL 221.974958 86.529604 \r\nL 222.310093 87.202661 \r\nL 222.645228 90.065171 \r\nL 222.980363 86.778988 \r\nL 223.315498 87.206222 \r\nL 223.650633 86.801927 \r\nL 223.985769 87.062801 \r\nL 224.320904 83.345451 \r\nL 224.656039 82.423082 \r\nL 224.991174 75.818439 \r\nL 225.326309 75.059943 \r\nL 225.661444 72.435826 \r\nL 225.996579 73.606778 \r\nL 226.66685 73.094574 \r\nL 227.001985 72.65679 \r\nL 227.33712 75.311391 \r\nL 227.672255 76.462513 \r\nL 228.00739 78.4694 \r\nL 228.342525 77.663018 \r\nL 228.67766 79.500461 \r\nL 229.012796 75.520401 \r\nL 229.347931 74.17548 \r\nL 229.683066 76.205731 \r\nL 230.353336 71.179924 \r\nL 230.688471 71.088548 \r\nL 231.023606 71.932072 \r\nL 231.358742 70.018252 \r\nL 231.693877 68.900827 \r\nL 232.029012 68.91506 \r\nL 232.364147 68.446192 \r\nL 232.699282 70.200433 \r\nL 233.034417 67.30674 \r\nL 233.369552 65.734876 \r\nL 233.704688 65.016782 \r\nL 234.374958 68.071146 \r\nL 234.710093 65.098483 \r\nL 235.045228 67.44338 \r\nL 235.380363 68.049481 \r\nL 235.715498 70.461051 \r\nL 236.050633 69.466002 \r\nL 236.385769 71.32139 \r\nL 236.720904 72.550576 \r\nL 237.056039 71.815947 \r\nL 237.391174 71.431985 \r\nL 237.726309 68.508619 \r\nL 238.061444 68.283905 \r\nL 238.396579 70.366353 \r\nL 238.731715 69.656846 \r\nL 239.06685 67.312668 \r\nL 239.401985 68.395263 \r\nL 239.73712 68.409099 \r\nL 240.072255 67.569514 \r\nL 240.40739 69.288511 \r\nL 240.742525 69.592276 \r\nL 241.07766 71.029816 \r\nL 241.412796 71.506369 \r\nL 241.747931 73.442124 \r\nL 242.083066 73.852325 \r\nL 242.418201 76.968187 \r\nL 242.753336 77.003589 \r\nL 243.758742 71.418921 \r\nL 244.093877 72.629907 \r\nL 244.764147 70.728442 \r\nL 245.099282 67.412317 \r\nL 245.434417 70.612542 \r\nL 245.769552 72.590342 \r\nL 246.104687 72.328178 \r\nL 246.439823 70.482244 \r\nL 246.774958 71.031354 \r\nL 247.110093 75.143654 \r\nL 247.445228 76.869624 \r\nL 247.780363 75.404842 \r\nL 248.115498 74.937116 \r\nL 248.785769 70.431971 \r\nL 249.120904 68.950152 \r\nL 249.456039 70.857644 \r\nL 249.791174 75.814875 \r\nL 250.126309 72.737818 \r\nL 250.461444 73.035856 \r\nL 251.131715 68.965762 \r\nL 251.46685 70.791746 \r\nL 251.801985 73.423692 \r\nL 252.13712 74.350554 \r\nL 252.472255 78.197689 \r\nL 252.80739 75.526982 \r\nL 253.47766 78.13461 \r\nL 253.812796 75.264613 \r\nL 254.147931 74.28765 \r\nL 254.483066 74.939112 \r\nL 254.818201 73.744732 \r\nL 255.153336 74.491479 \r\nL 255.488471 75.793234 \r\nL 255.823606 76.558896 \r\nL 256.158742 77.909105 \r\nL 256.493877 76.962058 \r\nL 256.829012 77.586126 \r\nL 257.164147 77.338302 \r\nL 257.499282 73.177753 \r\nL 257.834417 70.920042 \r\nL 258.169552 75.092009 \r\nL 258.839823 76.650056 \r\nL 259.174958 72.975977 \r\nL 259.510093 71.783703 \r\nL 259.845228 73.731836 \r\nL 260.180363 74.492399 \r\nL 260.515498 73.669582 \r\nL 261.185769 75.023911 \r\nL 261.520904 72.02277 \r\nL 261.856039 71.905406 \r\nL 262.191174 70.862073 \r\nL 262.526309 73.64838 \r\nL 262.861444 73.859512 \r\nL 263.196579 72.478241 \r\nL 263.531715 69.837869 \r\nL 263.86685 70.966006 \r\nL 264.201985 67.076194 \r\nL 264.53712 68.663699 \r\nL 264.872255 67.280646 \r\nL 265.20739 66.790762 \r\nL 265.542525 68.52343 \r\nL 265.87766 67.472657 \r\nL 266.212796 68.597865 \r\nL 266.547931 66.71892 \r\nL 266.883066 66.66651 \r\nL 267.218201 65.256707 \r\nL 267.553336 65.082358 \r\nL 267.888471 63.1773 \r\nL 268.223606 63.887713 \r\nL 268.558742 63.392524 \r\nL 268.893877 64.206642 \r\nL 269.229012 66.510731 \r\nL 269.564147 67.985585 \r\nL 269.899282 67.674862 \r\nL 270.234417 69.501697 \r\nL 270.569552 70.482645 \r\nL 270.904687 69.951799 \r\nL 271.239823 68.749756 \r\nL 271.574958 71.508648 \r\nL 272.245228 67.881113 \r\nL 272.580363 66.700835 \r\nL 272.915498 66.635186 \r\nL 273.250633 70.591308 \r\nL 273.585769 65.7245 \r\nL 273.920904 65.144153 \r\nL 274.256039 65.276728 \r\nL 274.591174 68.766393 \r\nL 274.926309 66.091293 \r\nL 275.261444 64.737064 \r\nL 275.596579 64.074674 \r\nL 275.931715 62.559226 \r\nL 276.26685 64.01656 \r\nL 276.601985 66.745808 \r\nL 276.93712 66.095382 \r\nL 277.272255 61.446981 \r\nL 277.60739 59.118924 \r\nL 278.27766 67.865098 \r\nL 278.612796 64.351846 \r\nL 278.947931 62.197355 \r\nL 279.283066 61.301119 \r\nL 279.618201 57.218311 \r\nL 279.953336 60.821248 \r\nL 280.288471 59.953522 \r\nL 280.623606 56.82519 \r\nL 280.958742 55.729609 \r\nL 281.293877 57.375412 \r\nL 281.629012 56.45803 \r\nL 281.964147 55.974565 \r\nL 282.634417 59.592309 \r\nL 282.969552 57.978588 \r\nL 283.639823 59.132556 \r\nL 283.974958 57.625904 \r\nL 284.310093 54.068953 \r\nL 284.645228 56.003314 \r\nL 284.980363 54.499564 \r\nL 285.650633 58.465719 \r\nL 285.985769 58.070187 \r\nL 286.320904 59.74615 \r\nL 286.656039 58.975862 \r\nL 287.326309 54.614577 \r\nL 287.661444 55.496549 \r\nL 287.996579 53.721442 \r\nL 288.66685 54.045882 \r\nL 289.001985 53.533659 \r\nL 289.33712 54.218182 \r\nL 289.672255 53.543946 \r\nL 290.00739 54.1072 \r\nL 290.342525 52.565569 \r\nL 290.67766 54.65875 \r\nL 291.347931 51.098781 \r\nL 291.683066 53.751113 \r\nL 292.018201 52.274187 \r\nL 292.353336 53.297613 \r\nL 293.023606 57.542581 \r\nL 293.358742 56.239029 \r\nL 294.029012 51.204779 \r\nL 294.364147 48.380671 \r\nL 294.699282 49.798248 \r\nL 295.034417 50.069238 \r\nL 295.369552 50.517059 \r\nL 295.704688 48.520134 \r\nL 296.710093 51.280429 \r\nL 297.380363 47.098842 \r\nL 298.050633 54.083469 \r\nL 298.385769 55.662537 \r\nL 298.720904 55.43715 \r\nL 299.056039 58.567422 \r\nL 299.391174 60.366587 \r\nL 299.726309 58.304018 \r\nL 300.061444 57.270215 \r\nL 300.396579 62.292181 \r\nL 300.731715 62.739655 \r\nL 301.06685 59.763832 \r\nL 301.401985 59.98806 \r\nL 301.73712 57.791598 \r\nL 302.072255 59.229242 \r\nL 302.40739 58.789624 \r\nL 302.742525 55.183363 \r\nL 303.07766 55.523268 \r\nL 303.412796 55.023863 \r\nL 303.747931 52.261785 \r\nL 304.083066 52.150728 \r\nL 304.418201 52.79982 \r\nL 304.753336 54.136067 \r\nL 305.423606 53.013568 \r\nL 305.758742 54.485578 \r\nL 306.429012 50.409762 \r\nL 307.099282 52.42713 \r\nL 307.434417 55.116474 \r\nL 307.769552 52.041564 \r\nL 308.104688 50.748795 \r\nL 308.439823 52.123067 \r\nL 308.774958 51.72819 \r\nL 309.110093 56.563515 \r\nL 309.445228 58.591452 \r\nL 309.780363 57.466403 \r\nL 310.115498 59.858761 \r\nL 310.450633 58.578286 \r\nL 310.785769 54.929694 \r\nL 311.120904 56.922699 \r\nL 311.456039 55.408759 \r\nL 311.791174 53.312746 \r\nL 312.126309 55.591418 \r\nL 312.461444 56.496069 \r\nL 312.796579 60.574672 \r\nL 313.131715 59.540813 \r\nL 313.46685 57.241297 \r\nL 313.801985 59.236173 \r\nL 314.13712 59.944628 \r\nL 314.80739 57.707552 \r\nL 315.142525 55.952558 \r\nL 316.147931 57.603502 \r\nL 316.483066 59.230178 \r\nL 316.818201 58.512578 \r\nL 317.153336 58.650337 \r\nL 317.823606 53.981178 \r\nL 318.158742 52.646131 \r\nL 318.493877 52.305104 \r\nL 318.829012 53.842099 \r\nL 319.164147 52.079646 \r\nL 319.499282 52.444087 \r\nL 320.169552 49.651533 \r\nL 320.504687 49.191058 \r\nL 320.839823 50.608066 \r\nL 321.174958 47.51969 \r\nL 321.510093 49.086723 \r\nL 321.845228 48.555324 \r\nL 322.180363 49.860589 \r\nL 322.515498 48.610088 \r\nL 322.850633 51.144314 \r\nL 323.185769 48.701698 \r\nL 323.520904 48.003136 \r\nL 323.856039 46.555954 \r\nL 324.191174 42.350873 \r\nL 324.526309 44.890418 \r\nL 324.861444 45.060177 \r\nL 325.196579 45.810346 \r\nL 325.531715 45.697484 \r\nL 325.86685 46.304693 \r\nL 326.201985 46.335849 \r\nL 326.53712 48.431189 \r\nL 326.872255 45.857632 \r\nL 327.542525 46.397336 \r\nL 327.87766 50.38471 \r\nL 328.212796 47.787813 \r\nL 328.547931 50.5262 \r\nL 328.883066 48.434968 \r\nL 329.218201 48.183699 \r\nL 329.553336 45.800273 \r\nL 329.888471 46.420327 \r\nL 330.223606 45.265794 \r\nL 330.558742 45.589394 \r\nL 330.893877 45.014846 \r\nL 331.229012 46.436633 \r\nL 331.564147 47.283423 \r\nL 331.899282 45.986835 \r\nL 332.234417 42.703556 \r\nL 332.569552 40.941564 \r\nL 333.239823 35.703676 \r\nL 333.574958 35.759142 \r\nL 333.910093 34.173083 \r\nL 334.245228 31.5557 \r\nL 334.580363 29.947568 \r\nL 334.915498 24.587015 \r\nL 335.250633 24.727712 \r\nL 335.585769 27.93273 \r\nL 335.920904 29.493487 \r\nL 336.256039 28.562272 \r\nL 336.591174 29.337701 \r\nL 336.926309 32.286994 \r\nL 337.261444 34.206564 \r\nL 337.596579 33.174791 \r\nL 337.931715 35.09531 \r\nL 338.26685 33.274318 \r\nL 338.93712 28.375154 \r\nL 339.272255 27.850715 \r\nL 339.942525 29.047958 \r\nL 340.27766 27.604931 \r\nL 340.612796 28.288428 \r\nL 340.947931 31.649738 \r\nL 341.283066 32.715728 \r\nL 341.618201 32.288398 \r\nL 342.288471 28.935301 \r\nL 342.623606 28.377939 \r\nL 342.958742 27.114781 \r\nL 343.293877 27.874362 \r\nL 343.629012 25.457031 \r\nL 343.964147 23.860655 \r\nL 344.299282 25.479689 \r\nL 344.634417 22.914761 \r\nL 345.304688 19.8451 \r\nL 345.974958 24.088525 \r\nL 346.310093 24.986837 \r\nL 346.645228 24.578038 \r\nL 347.315498 29.131601 \r\nL 347.650633 30.0486 \r\nL 347.985769 30.489971 \r\nL 348.320904 30.387518 \r\nL 348.656039 34.779048 \r\nL 348.991174 36.780857 \r\nL 349.326309 34.025856 \r\nL 349.661444 34.445673 \r\nL 349.996579 33.881848 \r\nL 350.331715 35.021381 \r\nL 350.66685 34.909609 \r\nL 351.001985 34.03245 \r\nL 351.33712 30.96999 \r\nL 351.672255 29.309354 \r\nL 352.342525 29.379629 \r\nL 352.67766 31.855533 \r\nL 353.012796 33.123163 \r\nL 353.347931 31.866907 \r\nL 353.683066 31.284945 \r\nL 354.018201 32.560253 \r\nL 354.353336 32.613352 \r\nL 354.688471 32.926462 \r\nL 355.023606 35.21903 \r\nL 355.358742 38.524031 \r\nL 355.693877 38.114097 \r\nL 356.029012 37.051395 \r\nL 356.364147 35.558266 \r\nL 357.034417 34.979448 \r\nL 357.369552 36.558444 \r\nL 357.704688 34.95492 \r\nL 358.039823 37.405838 \r\nL 358.374958 35.637494 \r\nL 358.710093 35.893986 \r\nL 359.045228 38.487433 \r\nL 359.380363 36.109057 \r\nL 359.715498 37.671002 \r\nL 360.050633 39.802827 \r\nL 360.385769 38.008617 \r\nL 361.056039 41.255996 \r\nL 361.391174 39.367525 \r\nL 361.726309 39.628009 \r\nL 362.061444 38.362699 \r\nL 362.396579 36.442084 \r\nL 362.731715 35.979485 \r\nL 363.06685 37.065684 \r\nL 363.401985 40.737732 \r\nL 363.73712 42.994042 \r\nL 364.072255 42.074301 \r\nL 364.40739 40.355563 \r\nL 364.742525 41.825633 \r\nL 365.07766 45.559769 \r\nL 365.412796 45.689462 \r\nL 365.747931 49.671685 \r\nL 366.083066 48.073451 \r\nL 366.418201 48.495622 \r\nL 367.088471 50.712159 \r\nL 367.423606 44.663957 \r\nL 367.758742 45.058829 \r\nL 368.093877 46.960923 \r\nL 368.764147 45.21737 \r\nL 369.099282 45.278857 \r\nL 369.434417 46.814304 \r\nL 369.769552 47.692635 \r\nL 370.104688 46.909009 \r\nL 370.104688 46.909009 \r\n\" style=\"fill:none;stroke:#ff7f0e;stroke-linecap:square;stroke-width:1.5;\"/>\r\n   </g>\r\n   <g id=\"line2d_43\">\r\n    <path clip-path=\"url(#p51499ed26c)\" d=\"M 35.304688 88.225115 \r\nL 35.639823 88.748898 \r\nL 35.974958 85.844878 \r\nL 36.310093 88.884793 \r\nL 36.645228 88.82683 \r\nL 36.980363 89.042886 \r\nL 37.315498 86.605881 \r\nL 37.650633 85.260323 \r\nL 37.985769 89.546528 \r\nL 38.320904 90.107823 \r\nL 38.656039 89.823736 \r\nL 39.326309 83.117816 \r\nL 39.661444 82.836965 \r\nL 39.996579 81.852603 \r\nL 40.331715 81.408136 \r\nL 41.001985 81.254444 \r\nL 41.33712 83.139107 \r\nL 41.672255 84.236842 \r\nL 42.00739 87.05921 \r\nL 42.342525 87.587171 \r\nL 43.012796 83.797991 \r\nL 43.683066 80.240467 \r\nL 44.018201 81.103317 \r\nL 44.353336 82.468532 \r\nL 44.688471 79.375831 \r\nL 45.023606 81.93154 \r\nL 45.358742 81.951952 \r\nL 45.693877 80.282294 \r\nL 46.029012 79.684463 \r\nL 46.364147 79.465279 \r\nL 46.699282 80.062576 \r\nL 47.034417 82.333358 \r\nL 47.369552 82.204431 \r\nL 47.704688 84.459571 \r\nL 48.039823 85.041487 \r\nL 48.374958 88.137441 \r\nL 48.710093 87.893579 \r\nL 49.045228 90.48748 \r\nL 49.380363 91.921572 \r\nL 49.715498 92.500234 \r\nL 50.050633 93.844203 \r\nL 50.385769 96.736395 \r\nL 50.720904 96.345997 \r\nL 51.056039 96.673003 \r\nL 51.391174 97.769312 \r\nL 51.726309 97.090809 \r\nL 52.396579 97.477774 \r\nL 52.731715 98.012782 \r\nL 53.06685 97.816714 \r\nL 53.401985 94.657902 \r\nL 53.73712 93.167238 \r\nL 54.072255 93.273393 \r\nL 54.40739 92.173298 \r\nL 55.07766 94.038827 \r\nL 55.747931 95.243468 \r\nL 56.083066 96.044663 \r\nL 56.418201 93.732865 \r\nL 56.753336 95.412788 \r\nL 57.423606 89.072769 \r\nL 57.758742 85.954483 \r\nL 58.093877 85.483754 \r\nL 58.429012 87.272868 \r\nL 58.764147 84.081494 \r\nL 59.099282 85.294946 \r\nL 59.434417 83.985713 \r\nL 59.769552 87.494757 \r\nL 60.104687 88.703324 \r\nL 60.439823 89.228127 \r\nL 61.110093 84.085042 \r\nL 61.445228 83.673756 \r\nL 61.780363 84.158746 \r\nL 62.450633 83.361105 \r\nL 62.785769 81.592571 \r\nL 63.120904 84.494045 \r\nL 63.456039 84.898812 \r\nL 63.791174 82.259754 \r\nL 64.126309 83.208311 \r\nL 64.461444 82.677978 \r\nL 64.796579 86.673093 \r\nL 65.46685 79.952723 \r\nL 65.801985 80.131699 \r\nL 66.13712 77.618126 \r\nL 67.812796 89.682872 \r\nL 68.147931 87.023825 \r\nL 68.818201 90.42783 \r\nL 69.153336 90.166967 \r\nL 69.823606 95.637129 \r\nL 70.158742 95.06506 \r\nL 70.493877 95.756364 \r\nL 70.829012 98.677256 \r\nL 71.164147 99.352114 \r\nL 71.499282 99.137522 \r\nL 72.169552 100.912507 \r\nL 72.504687 96.399199 \r\nL 72.839823 95.750687 \r\nL 73.510093 93.330655 \r\nL 73.845228 94.743282 \r\nL 74.180363 97.625564 \r\nL 74.515498 97.295305 \r\nL 74.850633 99.71018 \r\nL 75.185769 100.783895 \r\nL 75.520904 103.678819 \r\nL 76.191174 107.31613 \r\nL 76.526309 104.290507 \r\nL 76.861444 106.48773 \r\nL 77.531715 102.867019 \r\nL 77.86685 102.498988 \r\nL 78.201985 103.754052 \r\nL 78.53712 105.913986 \r\nL 78.872255 106.803629 \r\nL 79.20739 113.563015 \r\nL 79.542525 112.292664 \r\nL 79.87766 111.602128 \r\nL 80.212796 107.769848 \r\nL 80.547931 106.785605 \r\nL 80.883066 103.515305 \r\nL 81.218201 106.379758 \r\nL 81.553336 105.487852 \r\nL 81.888471 105.066525 \r\nL 82.558742 107.572406 \r\nL 82.893877 105.995538 \r\nL 83.229012 105.829912 \r\nL 83.564147 105.914737 \r\nL 84.569552 109.600482 \r\nL 84.904687 107.311573 \r\nL 85.239823 108.395909 \r\nL 85.574958 107.309726 \r\nL 85.910093 106.905135 \r\nL 86.245228 107.782243 \r\nL 86.580363 110.861365 \r\nL 86.915498 110.615239 \r\nL 87.250633 109.941101 \r\nL 87.585769 110.793012 \r\nL 87.920904 110.402254 \r\nL 88.256039 113.609667 \r\nL 88.591174 114.699065 \r\nL 88.926309 112.848974 \r\nL 89.261444 114.145237 \r\nL 89.931715 110.491256 \r\nL 90.26685 110.271375 \r\nL 90.601985 108.200013 \r\nL 90.93712 107.865092 \r\nL 91.272255 107.242177 \r\nL 91.60739 107.71679 \r\nL 92.27766 111.624847 \r\nL 92.612796 112.741779 \r\nL 92.947931 112.751471 \r\nL 93.283066 110.886835 \r\nL 93.618201 111.395248 \r\nL 93.953336 111.039689 \r\nL 94.288471 109.04791 \r\nL 94.623606 109.60092 \r\nL 94.958742 111.234276 \r\nL 95.293877 108.367867 \r\nL 95.629012 110.326118 \r\nL 95.964147 107.489239 \r\nL 96.299282 106.617107 \r\nL 96.634417 106.567146 \r\nL 96.969552 104.462788 \r\nL 97.304688 100.520054 \r\nL 97.639823 98.678829 \r\nL 97.974958 101.64732 \r\nL 98.310093 105.922297 \r\nL 98.645228 104.668437 \r\nL 98.980363 102.204334 \r\nL 99.315498 101.242931 \r\nL 99.650633 98.501578 \r\nL 99.985769 97.099356 \r\nL 100.320904 94.672859 \r\nL 100.656039 94.313692 \r\nL 100.991174 95.142924 \r\nL 101.326309 94.013032 \r\nL 101.996579 96.08972 \r\nL 102.331715 98.888052 \r\nL 102.66685 98.420988 \r\nL 103.001985 100.784635 \r\nL 103.672255 97.316824 \r\nL 104.342525 95.876423 \r\nL 104.67766 98.523849 \r\nL 105.012796 97.5676 \r\nL 105.683066 97.46085 \r\nL 106.018201 95.579335 \r\nL 106.688471 99.796617 \r\nL 107.358742 100.567149 \r\nL 107.693877 100.631696 \r\nL 108.029012 99.338696 \r\nL 108.364147 102.746537 \r\nL 108.699282 98.615529 \r\nL 109.034417 97.93615 \r\nL 109.369552 96.063971 \r\nL 109.704688 94.972422 \r\nL 110.039823 95.078071 \r\nL 110.710093 103.185412 \r\nL 111.045228 99.62751 \r\nL 111.380363 103.694314 \r\nL 111.715498 101.588549 \r\nL 112.050633 102.970691 \r\nL 112.385769 102.706146 \r\nL 112.720904 100.110502 \r\nL 113.056039 94.259297 \r\nL 113.391174 92.628527 \r\nL 113.726309 91.99883 \r\nL 114.061444 89.285882 \r\nL 114.396579 89.720139 \r\nL 115.06685 88.401355 \r\nL 115.401985 89.105431 \r\nL 115.73712 89.272533 \r\nL 116.40739 87.232218 \r\nL 116.742525 85.09877 \r\nL 117.07766 86.291952 \r\nL 117.412796 85.679539 \r\nL 117.747931 86.236712 \r\nL 118.083066 87.859783 \r\nL 118.418201 90.540324 \r\nL 118.753336 89.242001 \r\nL 119.088471 90.381601 \r\nL 119.423606 90.924292 \r\nL 119.758742 90.660576 \r\nL 120.093877 89.639614 \r\nL 120.764147 82.282166 \r\nL 121.099282 84.474805 \r\nL 121.434417 80.636502 \r\nL 121.769552 78.265022 \r\nL 122.104687 80.407126 \r\nL 122.439823 78.93038 \r\nL 122.774958 78.993946 \r\nL 123.110093 76.53223 \r\nL 123.445228 72.960763 \r\nL 123.780363 73.620526 \r\nL 124.450633 80.376722 \r\nL 124.785769 80.714075 \r\nL 125.120904 83.10095 \r\nL 125.456039 80.000278 \r\nL 125.791174 81.152686 \r\nL 126.126309 83.042863 \r\nL 126.461444 81.414052 \r\nL 126.796579 81.353818 \r\nL 127.131715 80.998893 \r\nL 127.46685 78.721748 \r\nL 127.801985 80.374813 \r\nL 128.13712 83.178859 \r\nL 128.472255 80.20478 \r\nL 128.80739 79.98607 \r\nL 129.142525 81.622489 \r\nL 129.812796 81.489067 \r\nL 130.147931 80.672444 \r\nL 130.483066 81.440902 \r\nL 130.818201 79.008747 \r\nL 131.153336 78.4625 \r\nL 131.488471 78.911395 \r\nL 131.823606 82.624102 \r\nL 132.493877 84.240282 \r\nL 132.829012 88.055094 \r\nL 133.164147 90.341403 \r\nL 133.499282 93.490241 \r\nL 133.834417 95.109383 \r\nL 134.169552 92.413573 \r\nL 135.510093 95.452922 \r\nL 135.845228 96.636148 \r\nL 136.180363 96.601064 \r\nL 136.515498 96.304591 \r\nL 136.850633 95.126189 \r\nL 137.185769 94.806125 \r\nL 137.520904 92.374699 \r\nL 137.856039 93.359222 \r\nL 138.191174 92.91723 \r\nL 138.526309 91.354223 \r\nL 138.861444 92.005535 \r\nL 139.196579 91.52586 \r\nL 139.531715 92.188017 \r\nL 139.86685 89.236149 \r\nL 140.201985 91.966557 \r\nL 140.53712 89.271131 \r\nL 140.872255 90.322782 \r\nL 141.20739 89.677894 \r\nL 141.542525 89.371061 \r\nL 141.87766 87.321984 \r\nL 142.212796 86.523805 \r\nL 142.547931 88.052921 \r\nL 142.883066 91.955231 \r\nL 143.218201 93.498844 \r\nL 143.888471 91.329333 \r\nL 144.558742 93.147542 \r\nL 145.229012 96.134495 \r\nL 145.899282 102.670592 \r\nL 146.569552 101.745484 \r\nL 146.904687 102.773832 \r\nL 147.239823 102.447098 \r\nL 147.574958 100.679425 \r\nL 147.910093 98.10634 \r\nL 148.245228 97.847398 \r\nL 148.580363 98.157309 \r\nL 148.915498 96.164159 \r\nL 149.250633 90.932731 \r\nL 149.585769 92.998613 \r\nL 149.920904 92.933681 \r\nL 150.256039 94.803021 \r\nL 150.591174 94.622749 \r\nL 150.926309 94.695849 \r\nL 151.261444 93.222422 \r\nL 151.596579 92.38682 \r\nL 151.931715 92.136994 \r\nL 152.26685 93.733888 \r\nL 152.601985 98.725405 \r\nL 152.93712 94.923888 \r\nL 153.272255 96.084028 \r\nL 153.60739 93.679465 \r\nL 153.942525 92.786496 \r\nL 154.27766 93.634525 \r\nL 154.612796 91.865321 \r\nL 154.947931 95.379688 \r\nL 155.283066 92.316134 \r\nL 155.618201 94.088645 \r\nL 155.953336 92.575947 \r\nL 156.958742 94.859052 \r\nL 157.293877 92.846796 \r\nL 157.629012 92.418642 \r\nL 157.964147 89.435622 \r\nL 158.299282 88.780264 \r\nL 158.634417 86.860356 \r\nL 158.969552 88.214392 \r\nL 159.304688 88.726559 \r\nL 159.639823 90.920404 \r\nL 159.974958 89.453014 \r\nL 160.310093 89.925084 \r\nL 160.645228 89.342046 \r\nL 160.980363 89.3638 \r\nL 161.315498 85.067461 \r\nL 161.650633 84.736985 \r\nL 162.320904 80.946836 \r\nL 162.656039 78.237483 \r\nL 162.991174 81.545426 \r\nL 163.326309 83.335185 \r\nL 163.661444 86.548717 \r\nL 163.996579 86.748498 \r\nL 164.331715 80.81999 \r\nL 165.001985 82.32715 \r\nL 165.33712 82.570065 \r\nL 165.672255 81.357009 \r\nL 166.00739 83.603751 \r\nL 166.342525 80.046162 \r\nL 166.67766 78.897737 \r\nL 167.012796 74.798399 \r\nL 167.347931 73.64954 \r\nL 167.683066 77.016001 \r\nL 168.018201 74.234765 \r\nL 168.353336 75.406902 \r\nL 168.688471 74.096985 \r\nL 169.023606 72.162193 \r\nL 169.358742 73.374857 \r\nL 169.693877 71.871529 \r\nL 170.029012 72.994129 \r\nL 170.364147 73.122229 \r\nL 170.699282 73.468372 \r\nL 171.704688 68.975249 \r\nL 172.039823 70.717469 \r\nL 172.374958 71.396216 \r\nL 172.710093 74.612661 \r\nL 173.380363 67.970322 \r\nL 173.715498 67.431727 \r\nL 174.385769 71.080885 \r\nL 174.720904 70.813683 \r\nL 175.056039 70.090827 \r\nL 175.391174 68.690551 \r\nL 175.726309 68.503252 \r\nL 176.061444 65.850404 \r\nL 176.396579 66.639517 \r\nL 177.06685 65.604533 \r\nL 177.401985 65.998287 \r\nL 177.73712 64.884784 \r\nL 178.072255 66.647416 \r\nL 178.40739 64.917614 \r\nL 178.742525 65.447351 \r\nL 179.07766 65.298504 \r\nL 179.412796 65.766875 \r\nL 179.747931 66.477914 \r\nL 180.418201 62.21014 \r\nL 180.753336 63.033394 \r\nL 181.423606 56.336525 \r\nL 181.758742 53.789443 \r\nL 182.093877 54.075213 \r\nL 182.429012 57.584808 \r\nL 182.764147 59.509307 \r\nL 183.099282 58.160531 \r\nL 183.434417 62.061998 \r\nL 183.769552 60.446259 \r\nL 184.104687 63.097641 \r\nL 184.439823 64.628297 \r\nL 184.774958 62.367686 \r\nL 185.445228 56.619285 \r\nL 185.780363 56.566908 \r\nL 186.115498 56.656549 \r\nL 186.450633 59.156442 \r\nL 186.785769 60.445502 \r\nL 187.120904 62.997342 \r\nL 187.456039 62.24494 \r\nL 187.791174 62.546233 \r\nL 188.126309 59.664858 \r\nL 188.461444 63.190252 \r\nL 188.796579 64.616406 \r\nL 189.131715 63.61665 \r\nL 189.46685 64.411948 \r\nL 189.801985 65.791769 \r\nL 190.13712 66.498539 \r\nL 190.472255 65.588983 \r\nL 190.80739 68.607738 \r\nL 191.142525 67.426276 \r\nL 191.47766 67.97872 \r\nL 191.812796 68.107313 \r\nL 192.147931 67.051979 \r\nL 192.483066 66.484961 \r\nL 192.818201 66.328591 \r\nL 193.153336 67.243892 \r\nL 193.488471 66.689024 \r\nL 193.823606 66.668017 \r\nL 194.158742 64.873348 \r\nL 194.829012 62.583716 \r\nL 195.164147 63.507484 \r\nL 195.499282 62.988018 \r\nL 195.834417 62.121471 \r\nL 196.504687 61.930422 \r\nL 196.839823 58.907544 \r\nL 197.174958 59.549023 \r\nL 197.510093 60.620357 \r\nL 197.845228 58.985395 \r\nL 198.180363 58.692829 \r\nL 198.515498 60.505833 \r\nL 198.850633 59.36666 \r\nL 199.185769 55.24856 \r\nL 199.520904 54.286431 \r\nL 199.856039 56.163792 \r\nL 200.191174 54.622306 \r\nL 200.526309 53.912895 \r\nL 200.861444 54.036141 \r\nL 201.196579 55.602584 \r\nL 201.531715 52.348738 \r\nL 201.86685 55.395757 \r\nL 202.201985 53.274463 \r\nL 202.53712 54.095542 \r\nL 202.872255 56.225729 \r\nL 203.20739 54.424596 \r\nL 203.542525 53.568771 \r\nL 203.87766 55.961165 \r\nL 204.212796 57.084179 \r\nL 204.547931 57.095101 \r\nL 204.883066 58.438674 \r\nL 205.218201 56.286887 \r\nL 205.888471 54.079441 \r\nL 206.223606 51.302161 \r\nL 206.558742 50.541882 \r\nL 206.893877 48.331085 \r\nL 207.229012 47.321693 \r\nL 207.564147 51.432193 \r\nL 207.899282 53.791138 \r\nL 208.234417 51.417569 \r\nL 208.569552 52.07317 \r\nL 208.904687 50.480334 \r\nL 209.239823 52.856549 \r\nL 209.574958 53.275477 \r\nL 209.910093 52.67764 \r\nL 210.245228 52.342511 \r\nL 210.580363 50.345264 \r\nL 210.915498 50.532801 \r\nL 211.250633 51.68944 \r\nL 211.585769 53.723518 \r\nL 211.920904 54.823327 \r\nL 212.256039 52.226487 \r\nL 212.591174 51.661578 \r\nL 212.926309 47.828324 \r\nL 213.261444 48.256426 \r\nL 213.931715 51.389312 \r\nL 214.26685 50.465861 \r\nL 214.601985 48.834791 \r\nL 214.93712 50.706893 \r\nL 215.272255 50.197424 \r\nL 215.60739 48.046184 \r\nL 215.942525 51.705653 \r\nL 216.27766 52.507513 \r\nL 216.612796 52.181804 \r\nL 216.947931 51.084126 \r\nL 217.283066 51.726697 \r\nL 217.618201 53.216623 \r\nL 217.953336 54.198586 \r\nL 218.288471 54.702439 \r\nL 218.623606 51.01835 \r\nL 218.958742 53.796438 \r\nL 219.293877 55.377501 \r\nL 219.629012 53.859936 \r\nL 219.964147 55.086324 \r\nL 220.634417 51.710848 \r\nL 220.969552 48.72504 \r\nL 221.304688 48.763668 \r\nL 221.639823 47.975886 \r\nL 221.974958 49.129723 \r\nL 222.310093 43.50526 \r\nL 222.645228 42.43297 \r\nL 222.980363 44.818294 \r\nL 223.650633 44.874482 \r\nL 223.985769 44.461466 \r\nL 224.320904 44.324023 \r\nL 224.991174 39.039784 \r\nL 225.326309 38.789447 \r\nL 225.661444 36.065393 \r\nL 225.996579 35.511365 \r\nL 226.331715 36.954392 \r\nL 227.001985 34.024969 \r\nL 227.33712 34.622529 \r\nL 227.672255 38.098727 \r\nL 228.00739 37.628738 \r\nL 228.342525 39.641205 \r\nL 228.67766 39.325633 \r\nL 229.012796 38.0515 \r\nL 229.347931 39.781298 \r\nL 229.683066 39.23302 \r\nL 230.018201 39.893765 \r\nL 230.353336 43.303414 \r\nL 230.688471 41.785664 \r\nL 231.023606 42.945409 \r\nL 231.693877 46.754773 \r\nL 232.029012 46.327421 \r\nL 232.364147 50.667841 \r\nL 232.699282 50.45141 \r\nL 233.369552 44.484003 \r\nL 233.704688 45.045493 \r\nL 234.374958 40.994139 \r\nL 234.710093 43.810619 \r\nL 235.045228 43.392298 \r\nL 235.380363 45.283023 \r\nL 235.715498 44.134639 \r\nL 236.050633 46.096133 \r\nL 236.385769 46.894654 \r\nL 236.720904 48.305546 \r\nL 237.056039 51.548584 \r\nL 237.726309 46.68036 \r\nL 238.061444 49.732354 \r\nL 238.396579 50.497054 \r\nL 238.731715 51.858691 \r\nL 239.06685 52.185702 \r\nL 239.401985 50.743133 \r\nL 239.73712 52.218323 \r\nL 240.072255 49.599023 \r\nL 240.40739 51.236631 \r\nL 240.742525 51.271388 \r\nL 241.07766 54.230882 \r\nL 241.412796 52.762436 \r\nL 241.747931 54.036443 \r\nL 242.083066 58.208544 \r\nL 242.418201 56.201771 \r\nL 242.753336 58.188641 \r\nL 243.088471 58.907534 \r\nL 243.758742 53.789992 \r\nL 244.093877 58.150057 \r\nL 244.764147 59.957288 \r\nL 245.099282 61.649784 \r\nL 245.434417 61.511423 \r\nL 245.769552 62.161451 \r\nL 246.104687 59.461171 \r\nL 246.439823 60.797403 \r\nL 247.110093 57.54005 \r\nL 247.445228 57.227077 \r\nL 248.450633 49.217771 \r\nL 248.785769 50.58797 \r\nL 249.120904 48.389779 \r\nL 249.456039 47.847465 \r\nL 249.791174 47.013282 \r\nL 250.126309 45.672163 \r\nL 250.461444 47.178564 \r\nL 250.796579 49.317455 \r\nL 251.131715 46.525022 \r\nL 251.46685 48.436862 \r\nL 251.801985 45.781534 \r\nL 252.13712 44.377562 \r\nL 252.472255 43.909504 \r\nL 252.80739 42.279434 \r\nL 253.142525 42.898454 \r\nL 253.47766 40.507242 \r\nL 253.812796 40.325028 \r\nL 254.147931 43.111719 \r\nL 254.483066 43.180629 \r\nL 254.818201 44.542589 \r\nL 255.153336 44.110176 \r\nL 255.488471 42.862931 \r\nL 255.823606 44.54111 \r\nL 256.158742 42.670592 \r\nL 256.493877 41.437982 \r\nL 256.829012 44.174349 \r\nL 257.164147 45.839942 \r\nL 257.499282 46.271212 \r\nL 257.834417 45.272015 \r\nL 258.169552 47.784134 \r\nL 258.504687 49.432033 \r\nL 258.839823 50.115457 \r\nL 259.174958 52.088878 \r\nL 259.510093 51.650377 \r\nL 259.845228 55.00904 \r\nL 260.180363 53.958568 \r\nL 260.515498 55.995363 \r\nL 260.850633 62.676459 \r\nL 261.520904 58.630006 \r\nL 261.856039 58.000107 \r\nL 262.191174 60.624026 \r\nL 262.526309 57.987219 \r\nL 263.196579 58.693181 \r\nL 263.531715 58.011377 \r\nL 263.86685 58.29213 \r\nL 264.201985 56.694316 \r\nL 264.53712 58.592546 \r\nL 264.872255 61.669395 \r\nL 265.20739 63.141954 \r\nL 265.542525 63.182268 \r\nL 265.87766 63.679475 \r\nL 266.212796 64.553994 \r\nL 266.547931 66.141871 \r\nL 267.218201 65.576662 \r\nL 267.553336 67.289825 \r\nL 267.888471 67.272069 \r\nL 268.223606 68.288346 \r\nL 268.558742 74.798105 \r\nL 268.893877 78.381206 \r\nL 269.229012 76.091572 \r\nL 269.564147 76.091291 \r\nL 269.899282 77.855531 \r\nL 270.569552 77.031407 \r\nL 270.904687 75.646956 \r\nL 271.239823 78.483104 \r\nL 271.574958 75.484086 \r\nL 271.910093 75.623678 \r\nL 272.245228 76.671732 \r\nL 272.580363 78.434205 \r\nL 272.915498 78.351478 \r\nL 273.250633 79.285125 \r\nL 273.585769 77.890337 \r\nL 273.920904 77.306555 \r\nL 274.256039 77.308694 \r\nL 274.591174 75.533434 \r\nL 274.926309 77.87246 \r\nL 275.261444 78.826453 \r\nL 275.596579 81.635986 \r\nL 275.931715 78.295075 \r\nL 276.26685 82.004689 \r\nL 276.601985 82.299407 \r\nL 276.93712 81.170227 \r\nL 277.272255 80.641515 \r\nL 277.60739 76.103464 \r\nL 277.942525 75.875193 \r\nL 278.27766 76.060618 \r\nL 278.612796 76.538147 \r\nL 278.947931 75.886018 \r\nL 279.283066 74.281315 \r\nL 279.618201 74.085013 \r\nL 279.953336 75.31967 \r\nL 280.288471 72.519907 \r\nL 280.623606 74.909213 \r\nL 280.958742 74.40482 \r\nL 281.293877 75.706547 \r\nL 281.629012 76.190342 \r\nL 281.964147 71.41862 \r\nL 282.299282 69.070744 \r\nL 282.634417 68.905994 \r\nL 282.969552 67.502585 \r\nL 283.304688 68.686891 \r\nL 283.974958 64.156638 \r\nL 284.310093 63.687868 \r\nL 284.645228 65.665731 \r\nL 284.980363 65.058714 \r\nL 285.315498 65.838986 \r\nL 285.650633 63.888702 \r\nL 285.985769 67.229972 \r\nL 286.320904 68.590585 \r\nL 286.656039 66.757722 \r\nL 287.326309 65.421417 \r\nL 287.661444 66.164015 \r\nL 288.331715 63.824159 \r\nL 288.66685 65.774186 \r\nL 289.001985 66.050373 \r\nL 289.33712 64.304241 \r\nL 290.342525 53.647766 \r\nL 290.67766 52.778616 \r\nL 291.012796 54.24065 \r\nL 291.347931 57.5581 \r\nL 291.683066 58.83789 \r\nL 292.018201 57.741202 \r\nL 292.353336 59.102672 \r\nL 292.688471 59.704671 \r\nL 293.023606 59.150629 \r\nL 293.693877 57.702711 \r\nL 294.029012 53.675842 \r\nL 294.699282 56.124317 \r\nL 295.034417 58.883756 \r\nL 295.369552 57.954559 \r\nL 295.704688 59.749292 \r\nL 296.374958 58.097865 \r\nL 297.045228 63.899933 \r\nL 297.380363 62.604182 \r\nL 297.715498 62.742375 \r\nL 298.050633 63.086926 \r\nL 298.720904 67.687344 \r\nL 299.056039 68.68621 \r\nL 299.391174 66.557388 \r\nL 299.726309 62.765217 \r\nL 300.396579 53.499042 \r\nL 300.731715 54.740128 \r\nL 301.06685 54.690369 \r\nL 301.401985 55.610116 \r\nL 301.73712 53.535883 \r\nL 302.072255 52.667926 \r\nL 302.742525 45.029248 \r\nL 303.07766 46.946025 \r\nL 303.412796 47.347768 \r\nL 303.747931 51.220369 \r\nL 304.418201 48.90543 \r\nL 304.753336 48.361014 \r\nL 305.088471 47.414222 \r\nL 305.758742 40.408294 \r\nL 306.429012 44.515645 \r\nL 306.764147 45.995935 \r\nL 307.099282 46.696877 \r\nL 307.769552 47.464035 \r\nL 308.104688 43.177976 \r\nL 308.439823 44.452167 \r\nL 308.774958 43.654258 \r\nL 309.110093 43.460771 \r\nL 309.445228 45.394385 \r\nL 309.780363 44.035998 \r\nL 310.115498 45.604377 \r\nL 310.450633 45.334823 \r\nL 310.785769 48.918428 \r\nL 311.120904 49.682862 \r\nL 311.456039 50.150006 \r\nL 311.791174 47.957406 \r\nL 312.126309 46.998033 \r\nL 312.461444 46.75772 \r\nL 312.796579 45.964969 \r\nL 313.131715 41.204146 \r\nL 313.46685 41.05938 \r\nL 314.472255 33.831015 \r\nL 314.80739 34.019602 \r\nL 315.142525 33.44444 \r\nL 315.47766 35.715863 \r\nL 315.812796 36.365701 \r\nL 316.147931 38.391477 \r\nL 316.483066 39.673862 \r\nL 317.488471 33.40667 \r\nL 317.823606 35.538147 \r\nL 318.158742 33.746451 \r\nL 318.493877 34.433732 \r\nL 318.829012 36.838191 \r\nL 319.164147 32.676733 \r\nL 319.499282 34.247025 \r\nL 319.834417 33.736632 \r\nL 320.169552 33.742026 \r\nL 320.839823 30.332901 \r\nL 321.174958 27.506396 \r\nL 321.510093 31.633712 \r\nL 321.845228 31.217603 \r\nL 322.180363 30.042457 \r\nL 322.515498 31.96598 \r\nL 322.850633 29.224686 \r\nL 323.185769 25.533462 \r\nL 323.520904 24.749507 \r\nL 323.856039 24.481488 \r\nL 324.191174 29.982639 \r\nL 324.526309 33.593088 \r\nL 324.861444 28.512184 \r\nL 325.196579 29.198437 \r\nL 325.531715 31.275049 \r\nL 325.86685 30.697164 \r\nL 326.201985 32.290815 \r\nL 326.53712 32.590624 \r\nL 326.872255 33.127024 \r\nL 327.20739 34.522828 \r\nL 327.542525 30.320472 \r\nL 327.87766 27.88443 \r\nL 328.212796 28.58109 \r\nL 328.547931 25.863767 \r\nL 328.883066 28.438239 \r\nL 329.218201 27.76714 \r\nL 329.888471 28.774777 \r\nL 330.893877 33.12804 \r\nL 331.229012 30.474886 \r\nL 331.564147 32.723036 \r\nL 331.899282 32.160765 \r\nL 332.234417 32.180592 \r\nL 332.569552 33.4623 \r\nL 332.904687 34.16337 \r\nL 333.239823 32.185874 \r\nL 333.574958 33.432471 \r\nL 334.580363 38.609717 \r\nL 334.915498 35.285034 \r\nL 335.250633 34.310188 \r\nL 335.585769 29.849058 \r\nL 335.920904 31.635652 \r\nL 336.256039 29.127696 \r\nL 336.591174 27.710784 \r\nL 336.926309 31.900708 \r\nL 337.261444 30.726053 \r\nL 337.596579 31.055274 \r\nL 337.931715 27.781712 \r\nL 338.26685 29.567943 \r\nL 338.601985 32.470878 \r\nL 338.93712 29.137482 \r\nL 339.272255 29.257137 \r\nL 339.60739 30.919481 \r\nL 339.942525 28.839793 \r\nL 340.27766 29.19742 \r\nL 340.612796 27.914278 \r\nL 340.947931 28.235522 \r\nL 341.283066 26.798605 \r\nL 341.618201 29.828728 \r\nL 341.953336 29.698929 \r\nL 342.288471 30.134682 \r\nL 342.623606 32.755564 \r\nL 342.958742 32.633861 \r\nL 343.293877 31.817197 \r\nL 343.629012 34.603081 \r\nL 343.964147 31.670759 \r\nL 344.299282 30.453373 \r\nL 344.969552 34.344061 \r\nL 345.304688 35.023703 \r\nL 345.639823 34.395907 \r\nL 345.974958 29.931418 \r\nL 346.645228 29.454098 \r\nL 347.315498 26.938521 \r\nL 347.650633 29.095386 \r\nL 348.320904 36.739602 \r\nL 348.656039 38.178063 \r\nL 348.991174 38.752178 \r\nL 349.661444 38.406713 \r\nL 349.996579 39.648038 \r\nL 350.331715 39.649683 \r\nL 351.001985 35.361525 \r\nL 351.33712 34.170758 \r\nL 351.672255 34.423287 \r\nL 352.00739 34.159342 \r\nL 352.342525 31.470766 \r\nL 352.67766 29.972094 \r\nL 353.012796 26.081851 \r\nL 353.347931 25.481601 \r\nL 353.683066 27.166279 \r\nL 354.018201 30.089232 \r\nL 354.688471 28.096687 \r\nL 355.023606 24.342227 \r\nL 355.358742 25.406908 \r\nL 355.693877 26.997886 \r\nL 356.029012 27.957348 \r\nL 356.364147 26.44555 \r\nL 356.699282 28.678933 \r\nL 357.034417 32.428302 \r\nL 357.369552 32.920357 \r\nL 357.704688 31.226346 \r\nL 358.710093 37.686827 \r\nL 359.045228 37.724652 \r\nL 359.380363 37.129571 \r\nL 360.050633 40.966015 \r\nL 361.056039 35.559783 \r\nL 361.391174 36.568336 \r\nL 361.726309 33.478154 \r\nL 362.061444 33.715233 \r\nL 362.396579 29.431337 \r\nL 362.731715 28.384423 \r\nL 363.06685 29.654144 \r\nL 363.401985 29.183285 \r\nL 363.73712 26.896226 \r\nL 364.072255 26.453165 \r\nL 364.40739 25.127571 \r\nL 364.742525 27.31731 \r\nL 365.07766 28.340185 \r\nL 365.412796 28.28589 \r\nL 366.083066 25.067826 \r\nL 366.418201 27.615559 \r\nL 367.423606 32.723297 \r\nL 367.758742 31.010983 \r\nL 368.093877 30.005678 \r\nL 368.429012 33.867418 \r\nL 368.764147 31.034718 \r\nL 369.099282 31.683681 \r\nL 369.434417 31.075615 \r\nL 370.104688 35.102374 \r\nL 370.104688 35.102374 \r\n\" style=\"fill:none;stroke:#2ca02c;stroke-linecap:square;stroke-width:1.5;\"/>\r\n   </g>\r\n   <g id=\"line2d_44\">\r\n    <path clip-path=\"url(#p51499ed26c)\" d=\"M 35.304688 95.060878 \r\nL 35.639823 99.127391 \r\nL 35.974958 96.833247 \r\nL 36.310093 97.86562 \r\nL 36.645228 96.668923 \r\nL 36.980363 93.822067 \r\nL 37.315498 94.273707 \r\nL 37.650633 97.885114 \r\nL 37.985769 97.724412 \r\nL 38.320904 93.232822 \r\nL 38.656039 93.250507 \r\nL 38.991174 88.363962 \r\nL 39.326309 89.250246 \r\nL 39.661444 91.401913 \r\nL 39.996579 92.013541 \r\nL 40.331715 94.958325 \r\nL 41.001985 92.435556 \r\nL 41.33712 94.20888 \r\nL 41.672255 92.955808 \r\nL 42.00739 95.591572 \r\nL 42.342525 96.54209 \r\nL 43.347931 91.92553 \r\nL 43.683066 91.046225 \r\nL 44.018201 92.429927 \r\nL 44.353336 91.256818 \r\nL 45.023606 91.500605 \r\nL 45.358742 92.495804 \r\nL 45.693877 90.112383 \r\nL 46.029012 89.105163 \r\nL 46.364147 87.587712 \r\nL 46.699282 90.617164 \r\nL 47.034417 91.465473 \r\nL 47.369552 89.195074 \r\nL 47.704688 90.537144 \r\nL 48.039823 89.773068 \r\nL 48.374958 93.836075 \r\nL 48.710093 94.052236 \r\nL 49.045228 98.231147 \r\nL 49.380363 96.878919 \r\nL 50.050633 100.878062 \r\nL 50.720904 96.049198 \r\nL 51.056039 96.717161 \r\nL 51.391174 95.830688 \r\nL 51.726309 95.717675 \r\nL 52.061444 96.570117 \r\nL 52.396579 98.427386 \r\nL 52.731715 99.140131 \r\nL 53.401985 101.573155 \r\nL 53.73712 102.876993 \r\nL 54.072255 105.048687 \r\nL 54.40739 100.586761 \r\nL 54.742525 99.49651 \r\nL 55.07766 95.947196 \r\nL 55.412796 98.963 \r\nL 55.747931 97.421223 \r\nL 56.418201 92.51974 \r\nL 57.088471 94.753526 \r\nL 57.423606 92.733195 \r\nL 57.758742 95.96184 \r\nL 58.093877 96.500084 \r\nL 58.764147 96.713272 \r\nL 59.099282 95.045171 \r\nL 59.769552 94.689801 \r\nL 60.439823 97.791322 \r\nL 60.774958 95.96764 \r\nL 61.110093 95.248262 \r\nL 61.445228 97.18553 \r\nL 61.780363 95.780327 \r\nL 62.115498 91.265922 \r\nL 62.450633 89.024401 \r\nL 62.785769 88.620211 \r\nL 63.120904 86.990432 \r\nL 63.456039 89.834624 \r\nL 63.791174 93.96765 \r\nL 64.126309 95.254011 \r\nL 64.461444 97.386645 \r\nL 64.796579 97.244003 \r\nL 65.131715 98.783109 \r\nL 65.46685 97.29453 \r\nL 65.801985 96.961546 \r\nL 66.13712 97.557514 \r\nL 66.472255 95.597929 \r\nL 66.80739 99.481612 \r\nL 67.142525 98.438786 \r\nL 67.47766 102.772277 \r\nL 67.812796 103.315251 \r\nL 68.147931 101.647973 \r\nL 68.483066 101.273478 \r\nL 69.153336 100.170778 \r\nL 69.488471 98.106078 \r\nL 69.823606 97.143565 \r\nL 70.158742 93.410676 \r\nL 70.493877 95.265712 \r\nL 70.829012 92.689358 \r\nL 71.164147 94.653483 \r\nL 71.499282 95.078852 \r\nL 71.834417 97.625735 \r\nL 72.504687 95.979832 \r\nL 72.839823 95.017427 \r\nL 73.510093 96.338336 \r\nL 74.180363 92.488586 \r\nL 74.515498 94.66049 \r\nL 74.850633 94.6198 \r\nL 75.185769 95.978006 \r\nL 75.520904 95.237558 \r\nL 75.856039 98.351455 \r\nL 76.191174 98.079347 \r\nL 76.526309 97.21278 \r\nL 76.861444 95.598416 \r\nL 77.196579 95.321505 \r\nL 77.531715 96.506682 \r\nL 77.86685 95.79652 \r\nL 78.201985 96.023716 \r\nL 78.872255 99.7845 \r\nL 79.20739 98.961901 \r\nL 79.542525 93.369219 \r\nL 79.87766 92.843627 \r\nL 80.212796 90.402635 \r\nL 80.547931 92.229957 \r\nL 80.883066 91.616342 \r\nL 81.218201 92.746454 \r\nL 81.553336 93.03464 \r\nL 81.888471 91.183583 \r\nL 82.223606 90.936022 \r\nL 82.558742 87.528788 \r\nL 82.893877 86.978801 \r\nL 83.229012 85.024771 \r\nL 83.564147 85.283915 \r\nL 83.899282 90.136292 \r\nL 84.234417 91.027444 \r\nL 84.904687 83.456032 \r\nL 85.239823 84.761317 \r\nL 85.574958 84.438741 \r\nL 85.910093 81.799007 \r\nL 86.245228 83.994083 \r\nL 86.580363 83.262582 \r\nL 86.915498 83.454383 \r\nL 87.250633 86.26463 \r\nL 87.920904 88.856366 \r\nL 88.256039 89.240371 \r\nL 88.591174 89.835551 \r\nL 88.926309 88.499977 \r\nL 89.261444 82.168994 \r\nL 89.596579 83.017593 \r\nL 89.931715 85.353252 \r\nL 90.26685 83.554462 \r\nL 90.601985 87.674337 \r\nL 90.93712 90.189089 \r\nL 91.272255 89.743971 \r\nL 91.60739 89.757057 \r\nL 91.942525 89.215979 \r\nL 92.27766 91.808367 \r\nL 92.612796 89.781363 \r\nL 92.947931 89.887222 \r\nL 93.283066 89.101779 \r\nL 93.618201 90.596962 \r\nL 93.953336 89.369456 \r\nL 94.288471 89.351119 \r\nL 94.623606 89.856338 \r\nL 94.958742 92.537752 \r\nL 95.293877 92.35424 \r\nL 95.629012 90.683522 \r\nL 95.964147 92.398047 \r\nL 96.299282 92.85906 \r\nL 96.634417 93.606722 \r\nL 96.969552 95.442491 \r\nL 97.304688 96.096044 \r\nL 97.639823 94.863794 \r\nL 97.974958 95.243573 \r\nL 98.310093 91.420492 \r\nL 98.645228 91.670722 \r\nL 99.315498 94.915121 \r\nL 99.650633 94.587225 \r\nL 99.985769 93.560357 \r\nL 100.320904 91.069906 \r\nL 100.656039 92.1657 \r\nL 100.991174 94.918592 \r\nL 101.326309 93.764269 \r\nL 101.661444 93.798038 \r\nL 101.996579 94.62856 \r\nL 102.331715 94.345727 \r\nL 103.001985 89.306597 \r\nL 103.33712 89.271193 \r\nL 103.672255 91.259899 \r\nL 104.00739 87.556045 \r\nL 104.67766 91.139619 \r\nL 105.012796 91.056531 \r\nL 105.683066 93.08865 \r\nL 106.018201 94.719918 \r\nL 106.353336 93.113522 \r\nL 106.688471 92.985303 \r\nL 107.023606 94.026126 \r\nL 107.358742 97.149714 \r\nL 107.693877 96.495516 \r\nL 108.029012 93.777858 \r\nL 108.364147 95.309801 \r\nL 108.699282 101.51632 \r\nL 109.704688 96.983391 \r\nL 110.039823 94.658448 \r\nL 110.374958 90.095693 \r\nL 110.710093 91.429505 \r\nL 111.045228 90.603576 \r\nL 111.380363 92.886204 \r\nL 111.715498 94.106863 \r\nL 112.050633 94.402112 \r\nL 112.385769 96.096878 \r\nL 112.720904 100.479242 \r\nL 113.056039 103.060555 \r\nL 113.391174 103.105618 \r\nL 113.726309 101.23704 \r\nL 114.061444 103.088962 \r\nL 114.396579 102.570624 \r\nL 114.731715 101.135805 \r\nL 115.06685 101.853618 \r\nL 115.73712 105.38055 \r\nL 116.072255 104.621462 \r\nL 117.412796 108.520174 \r\nL 117.747931 107.605152 \r\nL 118.418201 104.51402 \r\nL 118.753336 107.594689 \r\nL 119.088471 108.934882 \r\nL 119.423606 111.05915 \r\nL 119.758742 111.891069 \r\nL 120.764147 119.014269 \r\nL 121.099282 117.234588 \r\nL 121.434417 117.822413 \r\nL 122.104687 110.095401 \r\nL 122.439823 110.710753 \r\nL 122.774958 107.491504 \r\nL 123.110093 108.167377 \r\nL 123.445228 109.73065 \r\nL 123.780363 113.084594 \r\nL 124.115498 118.268267 \r\nL 124.450633 121.053471 \r\nL 124.785769 121.312155 \r\nL 125.120904 121.036452 \r\nL 125.456039 120.53845 \r\nL 125.791174 117.622581 \r\nL 126.126309 117.272862 \r\nL 126.796579 124.429895 \r\nL 127.131715 124.232268 \r\nL 127.46685 121.912873 \r\nL 127.801985 124.176219 \r\nL 128.13712 124.585958 \r\nL 128.472255 125.292481 \r\nL 128.80739 124.730585 \r\nL 129.47766 128.52168 \r\nL 129.812796 128.192294 \r\nL 130.147931 127.571938 \r\nL 130.483066 127.437667 \r\nL 130.818201 124.400755 \r\nL 131.153336 122.866496 \r\nL 131.488471 123.346265 \r\nL 131.823606 121.799825 \r\nL 132.158742 120.873841 \r\nL 132.493877 119.222976 \r\nL 132.829012 118.228263 \r\nL 133.834417 112.13835 \r\nL 134.169552 109.699359 \r\nL 134.504687 111.884811 \r\nL 134.839823 115.256995 \r\nL 135.174958 116.306201 \r\nL 135.510093 115.982664 \r\nL 135.845228 119.282574 \r\nL 136.180363 118.597984 \r\nL 136.515498 115.777833 \r\nL 136.850633 114.551451 \r\nL 137.185769 118.05539 \r\nL 137.856039 115.077736 \r\nL 138.191174 119.208156 \r\nL 138.526309 117.146566 \r\nL 138.861444 117.370938 \r\nL 139.196579 119.599929 \r\nL 139.531715 115.770357 \r\nL 139.86685 119.098605 \r\nL 140.201985 116.850506 \r\nL 140.53712 112.528334 \r\nL 140.872255 116.140583 \r\nL 141.20739 116.131906 \r\nL 141.87766 122.097747 \r\nL 142.212796 122.126153 \r\nL 142.883066 125.446252 \r\nL 143.553336 122.721615 \r\nL 143.888471 126.937603 \r\nL 144.223606 129.377626 \r\nL 144.558742 129.130106 \r\nL 145.229012 126.119164 \r\nL 145.899282 131.383368 \r\nL 146.569552 125.295623 \r\nL 146.904687 128.226568 \r\nL 147.239823 130.114487 \r\nL 147.574958 130.762244 \r\nL 147.910093 129.481428 \r\nL 148.245228 126.250343 \r\nL 148.580363 125.595375 \r\nL 148.915498 126.565608 \r\nL 149.250633 126.539498 \r\nL 149.585769 128.572269 \r\nL 149.920904 128.542405 \r\nL 150.256039 131.208443 \r\nL 150.591174 131.806096 \r\nL 150.926309 129.29696 \r\nL 151.261444 129.776506 \r\nL 151.596579 127.17723 \r\nL 151.931715 131.847118 \r\nL 152.26685 133.795227 \r\nL 152.601985 139.832862 \r\nL 153.272255 137.695112 \r\nL 153.60739 140.541355 \r\nL 153.942525 138.316424 \r\nL 154.27766 137.699297 \r\nL 154.612796 138.327527 \r\nL 154.947931 138.183801 \r\nL 155.283066 135.130089 \r\nL 155.618201 134.794489 \r\nL 156.288471 136.864471 \r\nL 156.623606 137.050846 \r\nL 157.293877 139.75091 \r\nL 157.629012 140.417099 \r\nL 157.964147 140.276519 \r\nL 158.299282 140.532066 \r\nL 158.634417 140.942171 \r\nL 158.969552 138.105308 \r\nL 159.304688 136.809552 \r\nL 159.639823 138.779988 \r\nL 159.974958 142.364651 \r\nL 160.310093 141.466574 \r\nL 160.645228 139.404731 \r\nL 161.315498 142.219339 \r\nL 161.650633 148.999662 \r\nL 161.985769 149.963034 \r\nL 162.320904 146.842428 \r\nL 162.656039 148.586478 \r\nL 162.991174 149.528272 \r\nL 163.326309 149.927675 \r\nL 163.996579 148.343937 \r\nL 164.331715 145.339577 \r\nL 164.66685 147.091848 \r\nL 165.001985 146.27011 \r\nL 165.33712 143.899126 \r\nL 165.672255 146.260344 \r\nL 166.00739 146.402398 \r\nL 166.342525 145.949309 \r\nL 166.67766 150.349499 \r\nL 167.347931 139.517039 \r\nL 167.683066 139.330551 \r\nL 168.018201 139.687828 \r\nL 168.353336 142.851553 \r\nL 168.688471 144.365404 \r\nL 169.023606 144.693595 \r\nL 169.358742 141.591468 \r\nL 169.693877 142.489188 \r\nL 170.029012 143.855477 \r\nL 170.699282 142.228044 \r\nL 171.034417 141.67586 \r\nL 171.369552 145.329348 \r\nL 171.704688 146.162442 \r\nL 172.039823 147.46793 \r\nL 172.374958 151.97746 \r\nL 172.710093 145.41841 \r\nL 173.045228 145.935869 \r\nL 173.380363 145.902777 \r\nL 173.715498 143.265115 \r\nL 174.050633 142.134781 \r\nL 174.385769 139.41587 \r\nL 174.720904 138.257402 \r\nL 175.056039 139.805437 \r\nL 175.391174 140.315299 \r\nL 175.726309 137.027227 \r\nL 176.061444 139.511601 \r\nL 176.396579 137.315772 \r\nL 177.06685 135.234873 \r\nL 177.401985 133.357482 \r\nL 178.072255 130.918808 \r\nL 178.40739 130.518312 \r\nL 179.07766 125.300476 \r\nL 179.412796 120.754268 \r\nL 179.747931 120.541779 \r\nL 180.083066 118.481046 \r\nL 180.418201 120.852261 \r\nL 180.753336 120.296546 \r\nL 181.088471 121.313773 \r\nL 181.423606 125.9088 \r\nL 182.093877 127.023992 \r\nL 182.429012 130.624346 \r\nL 182.764147 131.189073 \r\nL 183.099282 132.265878 \r\nL 183.434417 132.908265 \r\nL 183.769552 132.879581 \r\nL 184.104687 133.781775 \r\nL 184.439823 132.475066 \r\nL 185.110093 140.126142 \r\nL 185.445228 141.286122 \r\nL 185.780363 141.914687 \r\nL 186.115498 143.164656 \r\nL 187.120904 136.76419 \r\nL 187.456039 138.985273 \r\nL 187.791174 138.769214 \r\nL 188.126309 137.723721 \r\nL 188.461444 140.836723 \r\nL 188.796579 140.453432 \r\nL 189.801985 147.663515 \r\nL 190.13712 147.869486 \r\nL 190.472255 151.087466 \r\nL 190.80739 147.213351 \r\nL 191.142525 149.751496 \r\nL 191.47766 151.08461 \r\nL 191.812796 150.514182 \r\nL 192.147931 151.146621 \r\nL 192.483066 151.287038 \r\nL 192.818201 150.96208 \r\nL 193.153336 151.185737 \r\nL 193.488471 149.731356 \r\nL 193.823606 152.292039 \r\nL 194.158742 150.549141 \r\nL 194.493877 151.614078 \r\nL 194.829012 150.598986 \r\nL 195.164147 151.681324 \r\nL 195.499282 151.202615 \r\nL 196.169552 147.385524 \r\nL 196.839823 147.363481 \r\nL 197.174958 146.714049 \r\nL 197.845228 150.488993 \r\nL 198.180363 150.998639 \r\nL 198.515498 149.407539 \r\nL 198.850633 152.691279 \r\nL 199.185769 154.668284 \r\nL 199.520904 157.670101 \r\nL 199.856039 157.628574 \r\nL 200.191174 159.72414 \r\nL 200.861444 164.65567 \r\nL 201.531715 162.77995 \r\nL 201.86685 164.019921 \r\nL 202.201985 162.452815 \r\nL 202.53712 164.354658 \r\nL 202.872255 164.830314 \r\nL 203.20739 167.13495 \r\nL 203.542525 168.43762 \r\nL 204.547931 174.890376 \r\nL 204.883066 169.284923 \r\nL 205.218201 170.794968 \r\nL 205.553336 171.787587 \r\nL 205.888471 173.189661 \r\nL 206.223606 173.599333 \r\nL 206.558742 171.499666 \r\nL 206.893877 171.012062 \r\nL 207.229012 168.270978 \r\nL 207.564147 170.487336 \r\nL 207.899282 165.971903 \r\nL 208.234417 165.656029 \r\nL 208.569552 166.109786 \r\nL 208.904687 165.980873 \r\nL 209.239823 166.260318 \r\nL 209.574958 163.924575 \r\nL 209.910093 164.829665 \r\nL 210.245228 165.188066 \r\nL 210.580363 163.822812 \r\nL 210.915498 161.373289 \r\nL 211.250633 160.755756 \r\nL 211.585769 160.493459 \r\nL 211.920904 159.065415 \r\nL 212.256039 159.820998 \r\nL 212.926309 156.477197 \r\nL 213.261444 157.110019 \r\nL 213.596579 157.489597 \r\nL 214.26685 152.531997 \r\nL 214.601985 154.56381 \r\nL 214.93712 154.19441 \r\nL 215.272255 151.428197 \r\nL 215.60739 152.180013 \r\nL 215.942525 150.398173 \r\nL 216.27766 147.790246 \r\nL 216.612796 147.990444 \r\nL 217.283066 152.374901 \r\nL 217.953336 146.752557 \r\nL 218.288471 146.718971 \r\nL 218.623606 145.342483 \r\nL 218.958742 146.830616 \r\nL 219.629012 147.716044 \r\nL 220.299282 151.530549 \r\nL 220.634417 149.671714 \r\nL 221.304688 155.5125 \r\nL 221.639823 153.947764 \r\nL 221.974958 154.256253 \r\nL 222.310093 155.89773 \r\nL 222.645228 153.950367 \r\nL 222.980363 154.115612 \r\nL 223.650633 156.318466 \r\nL 223.985769 157.989438 \r\nL 224.320904 157.178002 \r\nL 224.656039 158.179264 \r\nL 224.991174 160.00675 \r\nL 225.661444 161.109669 \r\nL 225.996579 159.912439 \r\nL 226.331715 161.810777 \r\nL 226.66685 160.410179 \r\nL 227.001985 162.933801 \r\nL 227.33712 163.525607 \r\nL 228.00739 160.083238 \r\nL 228.342525 161.537742 \r\nL 228.67766 161.03601 \r\nL 229.347931 162.126234 \r\nL 229.683066 166.390023 \r\nL 230.018201 165.731015 \r\nL 230.353336 161.400659 \r\nL 230.688471 158.827454 \r\nL 231.023606 158.909609 \r\nL 231.358742 160.927396 \r\nL 231.693877 164.48699 \r\nL 232.029012 164.26068 \r\nL 232.364147 166.304314 \r\nL 232.699282 163.535192 \r\nL 233.034417 166.280601 \r\nL 233.369552 165.446775 \r\nL 233.704688 166.163851 \r\nL 234.039823 166.465865 \r\nL 234.374958 168.845273 \r\nL 234.710093 168.919837 \r\nL 235.045228 171.596883 \r\nL 235.380363 171.533612 \r\nL 235.715498 171.222008 \r\nL 236.050633 170.052365 \r\nL 236.385769 170.553301 \r\nL 237.056039 166.321382 \r\nL 237.391174 170.532494 \r\nL 237.726309 167.166246 \r\nL 238.061444 166.452956 \r\nL 238.396579 167.578495 \r\nL 238.731715 167.935735 \r\nL 239.06685 171.214953 \r\nL 239.401985 171.360582 \r\nL 239.73712 173.444328 \r\nL 240.072255 170.270664 \r\nL 240.40739 171.761928 \r\nL 240.742525 168.382845 \r\nL 241.07766 166.88169 \r\nL 241.412796 164.471619 \r\nL 241.747931 168.077189 \r\nL 242.083066 167.218054 \r\nL 242.418201 170.435794 \r\nL 242.753336 171.186046 \r\nL 243.088471 168.976233 \r\nL 243.423606 170.682653 \r\nL 243.758742 169.152619 \r\nL 244.093877 171.429738 \r\nL 244.764147 178.360849 \r\nL 245.099282 180.247696 \r\nL 245.434417 178.663906 \r\nL 245.769552 179.268284 \r\nL 246.104687 178.870331 \r\nL 246.439823 177.761206 \r\nL 246.774958 177.39797 \r\nL 247.110093 177.20259 \r\nL 247.445228 176.312271 \r\nL 247.780363 175.046155 \r\nL 248.115498 175.123917 \r\nL 248.450633 172.939683 \r\nL 248.785769 170.009632 \r\nL 249.456039 168.85643 \r\nL 250.126309 166.721744 \r\nL 250.796579 172.031924 \r\nL 251.131715 175.714013 \r\nL 251.46685 176.48756 \r\nL 251.801985 174.120915 \r\nL 252.13712 176.023567 \r\nL 252.472255 176.520399 \r\nL 252.80739 176.142642 \r\nL 253.142525 177.191489 \r\nL 253.47766 178.675087 \r\nL 253.812796 175.409661 \r\nL 254.147931 176.62918 \r\nL 254.483066 175.257402 \r\nL 254.818201 172.642821 \r\nL 255.153336 172.040696 \r\nL 255.488471 175.330184 \r\nL 255.823606 176.395295 \r\nL 256.158742 178.390008 \r\nL 256.493877 181.260369 \r\nL 256.829012 181.79461 \r\nL 257.164147 183.432546 \r\nL 257.499282 186.974912 \r\nL 257.834417 186.347306 \r\nL 258.169552 187.162606 \r\nL 258.504687 184.817382 \r\nL 258.839823 183.361558 \r\nL 259.510093 187.896284 \r\nL 260.180363 190.499171 \r\nL 260.850633 187.528897 \r\nL 261.185769 189.041978 \r\nL 261.520904 191.477065 \r\nL 261.856039 189.713416 \r\nL 262.191174 194.769868 \r\nL 262.526309 194.429178 \r\nL 262.861444 195.533702 \r\nL 263.531715 192.022911 \r\nL 263.86685 188.441118 \r\nL 264.201985 188.709993 \r\nL 264.872255 192.084925 \r\nL 265.20739 193.599983 \r\nL 265.542525 193.400727 \r\nL 265.87766 192.804791 \r\nL 266.212796 194.290475 \r\nL 266.547931 193.999177 \r\nL 266.883066 194.08533 \r\nL 267.218201 192.99826 \r\nL 267.553336 191.036486 \r\nL 267.888471 192.688903 \r\nL 268.223606 190.801629 \r\nL 268.558742 190.528096 \r\nL 268.893877 187.472207 \r\nL 269.229012 190.103222 \r\nL 269.564147 189.732648 \r\nL 269.899282 193.037509 \r\nL 270.234417 193.052597 \r\nL 270.569552 192.80649 \r\nL 271.239823 193.264596 \r\nL 271.574958 192.474516 \r\nL 271.910093 192.396884 \r\nL 272.245228 191.59003 \r\nL 272.580363 191.659535 \r\nL 272.915498 190.544662 \r\nL 273.250633 188.230525 \r\nL 273.585769 187.019692 \r\nL 273.920904 187.834981 \r\nL 274.256039 186.268128 \r\nL 274.591174 188.710669 \r\nL 274.926309 189.269978 \r\nL 275.261444 189.037019 \r\nL 275.596579 190.846756 \r\nL 275.931715 190.535748 \r\nL 276.26685 192.849269 \r\nL 276.601985 192.097959 \r\nL 276.93712 192.656404 \r\nL 277.272255 195.720134 \r\nL 277.60739 193.167879 \r\nL 277.942525 192.687767 \r\nL 278.27766 195.753449 \r\nL 278.612796 194.449589 \r\nL 278.947931 190.654347 \r\nL 279.283066 191.794139 \r\nL 279.618201 190.212886 \r\nL 279.953336 196.300231 \r\nL 280.288471 194.774097 \r\nL 280.623606 198.218754 \r\nL 280.958742 196.944638 \r\nL 281.293877 197.156273 \r\nL 281.629012 196.770724 \r\nL 281.964147 192.693825 \r\nL 282.299282 192.218917 \r\nL 282.634417 193.358738 \r\nL 282.969552 193.0004 \r\nL 283.304688 192.107696 \r\nL 283.639823 194.583609 \r\nL 283.974958 195.275094 \r\nL 284.645228 194.469663 \r\nL 284.980363 195.596574 \r\nL 285.315498 195.064908 \r\nL 285.650633 197.196411 \r\nL 285.985769 197.731412 \r\nL 286.656039 196.119921 \r\nL 287.326309 196.917588 \r\nL 287.661444 194.560241 \r\nL 287.996579 194.256694 \r\nL 288.331715 195.646548 \r\nL 288.66685 199.326398 \r\nL 289.001985 196.68906 \r\nL 289.33712 199.001545 \r\nL 289.672255 196.291648 \r\nL 290.00739 197.263 \r\nL 290.67766 199.64505 \r\nL 291.012796 199.027564 \r\nL 291.347931 201.147299 \r\nL 291.683066 200.077365 \r\nL 292.018201 202.035338 \r\nL 292.353336 200.016866 \r\nL 293.358742 197.826921 \r\nL 293.693877 195.96425 \r\nL 294.029012 198.187774 \r\nL 294.364147 195.592276 \r\nL 294.699282 194.666348 \r\nL 295.369552 197.688366 \r\nL 295.704688 197.059259 \r\nL 296.039823 199.309312 \r\nL 296.374958 197.281423 \r\nL 296.710093 202.827578 \r\nL 297.380363 199.641649 \r\nL 297.715498 201.284589 \r\nL 298.050633 201.100912 \r\nL 298.385769 199.363325 \r\nL 298.720904 199.193326 \r\nL 299.056039 196.627173 \r\nL 299.391174 196.040504 \r\nL 299.726309 197.666049 \r\nL 300.061444 195.330498 \r\nL 300.396579 197.887664 \r\nL 300.731715 198.841437 \r\nL 301.06685 194.440101 \r\nL 301.73712 191.037428 \r\nL 302.072255 191.900053 \r\nL 302.40739 190.507805 \r\nL 302.742525 187.877399 \r\nL 303.07766 189.338749 \r\nL 303.412796 187.690646 \r\nL 303.747931 189.801118 \r\nL 304.083066 187.525791 \r\nL 304.418201 182.860851 \r\nL 305.088471 186.225071 \r\nL 305.423606 185.459087 \r\nL 306.093877 188.150499 \r\nL 306.429012 188.985366 \r\nL 306.764147 187.660392 \r\nL 307.099282 188.494451 \r\nL 307.434417 187.341547 \r\nL 307.769552 187.722538 \r\nL 308.104688 187.884305 \r\nL 308.774958 185.882636 \r\nL 309.110093 186.437567 \r\nL 309.445228 185.572489 \r\nL 310.115498 189.357535 \r\nL 310.450633 190.836576 \r\nL 310.785769 191.025468 \r\nL 311.120904 188.756289 \r\nL 311.456039 189.20056 \r\nL 311.791174 189.451193 \r\nL 312.126309 191.775153 \r\nL 312.461444 191.192247 \r\nL 312.796579 192.83807 \r\nL 313.46685 194.155165 \r\nL 313.801985 192.881906 \r\nL 314.13712 192.505792 \r\nL 314.472255 188.951228 \r\nL 314.80739 191.370624 \r\nL 315.142525 191.906469 \r\nL 315.47766 196.383567 \r\nL 315.812796 193.349177 \r\nL 316.147931 193.125563 \r\nL 316.483066 194.902893 \r\nL 316.818201 195.051286 \r\nL 317.488471 200.113961 \r\nL 317.823606 199.226549 \r\nL 318.158742 198.900199 \r\nL 318.493877 199.968677 \r\nL 318.829012 199.789898 \r\nL 319.164147 201.791988 \r\nL 319.499282 202.42824 \r\nL 319.834417 199.422773 \r\nL 320.169552 199.054309 \r\nL 320.504687 200.582046 \r\nL 320.839823 201.008148 \r\nL 321.510093 197.953806 \r\nL 321.845228 199.240268 \r\nL 322.180363 197.973202 \r\nL 322.515498 200.130411 \r\nL 322.850633 201.555662 \r\nL 323.185769 202.029019 \r\nL 323.520904 202.050024 \r\nL 323.856039 201.651485 \r\nL 324.191174 199.458966 \r\nL 324.526309 200.183398 \r\nL 324.861444 200.30034 \r\nL 325.196579 199.242203 \r\nL 325.531715 196.701118 \r\nL 326.201985 199.946887 \r\nL 326.53712 199.810464 \r\nL 326.872255 200.593932 \r\nL 327.20739 202.750017 \r\nL 327.542525 201.68859 \r\nL 327.87766 204.207121 \r\nL 328.212796 202.574626 \r\nL 328.547931 199.757388 \r\nL 328.883066 199.684515 \r\nL 329.218201 200.496186 \r\nL 329.888471 196.403847 \r\nL 330.223606 200.01516 \r\nL 330.558742 199.828945 \r\nL 330.893877 198.831337 \r\nL 331.229012 196.855471 \r\nL 331.564147 197.423704 \r\nL 331.899282 201.485317 \r\nL 332.234417 200.959278 \r\nL 332.569552 198.582082 \r\nL 332.904687 197.994083 \r\nL 333.239823 195.315286 \r\nL 333.574958 197.831087 \r\nL 333.910093 196.27807 \r\nL 334.245228 196.090583 \r\nL 334.580363 195.45568 \r\nL 334.915498 195.397193 \r\nL 335.250633 193.627225 \r\nL 335.585769 192.783612 \r\nL 335.920904 189.554994 \r\nL 336.256039 191.122443 \r\nL 336.591174 194.18026 \r\nL 336.926309 196.134938 \r\nL 337.261444 199.319422 \r\nL 337.596579 200.429974 \r\nL 337.931715 200.039977 \r\nL 338.26685 199.834841 \r\nL 338.601985 197.743985 \r\nL 338.93712 197.163254 \r\nL 339.272255 197.241313 \r\nL 339.942525 199.790226 \r\nL 340.27766 199.472361 \r\nL 340.612796 201.524038 \r\nL 340.947931 196.362055 \r\nL 341.283066 195.731427 \r\nL 341.618201 197.172444 \r\nL 341.953336 199.67007 \r\nL 342.288471 196.744542 \r\nL 342.623606 197.822504 \r\nL 342.958742 197.898059 \r\nL 343.293877 196.739486 \r\nL 343.629012 194.926094 \r\nL 343.964147 199.075652 \r\nL 344.299282 197.15834 \r\nL 344.634417 199.205336 \r\nL 344.969552 198.97452 \r\nL 345.304688 198.002189 \r\nL 345.974958 194.927908 \r\nL 346.310093 195.62944 \r\nL 346.645228 195.528441 \r\nL 346.980363 196.870468 \r\nL 347.315498 193.655787 \r\nL 347.650633 193.74456 \r\nL 347.985769 190.600325 \r\nL 348.320904 189.699649 \r\nL 348.656039 187.210852 \r\nL 348.991174 185.799997 \r\nL 349.326309 187.79676 \r\nL 349.661444 188.271846 \r\nL 349.996579 188.279364 \r\nL 350.66685 182.706884 \r\nL 351.001985 180.791599 \r\nL 351.33712 179.582768 \r\nL 351.672255 175.912391 \r\nL 352.00739 179.399974 \r\nL 352.342525 176.590683 \r\nL 352.67766 177.862685 \r\nL 353.012796 179.668233 \r\nL 353.347931 179.670282 \r\nL 353.683066 177.048981 \r\nL 354.018201 175.960707 \r\nL 354.353336 177.321183 \r\nL 354.688471 176.347933 \r\nL 355.023606 178.102719 \r\nL 355.358742 177.621069 \r\nL 355.693877 178.239097 \r\nL 356.029012 177.172104 \r\nL 356.364147 176.671035 \r\nL 356.699282 177.008433 \r\nL 357.034417 174.627505 \r\nL 357.369552 173.90491 \r\nL 358.039823 169.357408 \r\nL 358.374958 168.923445 \r\nL 358.710093 165.691136 \r\nL 359.380363 170.059967 \r\nL 359.715498 170.767068 \r\nL 360.050633 167.787698 \r\nL 360.720904 167.809736 \r\nL 361.056039 168.570415 \r\nL 361.391174 165.917191 \r\nL 361.726309 171.418837 \r\nL 362.061444 171.42813 \r\nL 362.396579 173.524756 \r\nL 362.731715 171.46603 \r\nL 363.06685 170.211811 \r\nL 363.401985 170.179189 \r\nL 363.73712 169.500677 \r\nL 364.072255 169.601516 \r\nL 364.40739 168.639062 \r\nL 364.742525 167.232772 \r\nL 365.07766 169.101373 \r\nL 365.412796 169.742608 \r\nL 366.083066 168.418207 \r\nL 366.418201 172.513697 \r\nL 366.753336 171.574674 \r\nL 367.088471 167.249237 \r\nL 367.423606 166.92084 \r\nL 368.093877 161.926331 \r\nL 368.429012 161.873247 \r\nL 368.764147 161.432328 \r\nL 369.099282 164.058757 \r\nL 369.434417 165.607399 \r\nL 369.769552 166.02303 \r\nL 370.104688 165.487738 \r\nL 370.104688 165.487738 \r\n\" style=\"fill:none;stroke:#d62728;stroke-linecap:square;stroke-width:1.5;\"/>\r\n   </g>\r\n   <g id=\"patch_3\">\r\n    <path d=\"M 35.304688 227.401464 \r\nL 35.304688 9.961464 \r\n\" style=\"fill:none;stroke:#000000;stroke-linecap:square;stroke-linejoin:miter;stroke-width:0.8;\"/>\r\n   </g>\r\n   <g id=\"patch_4\">\r\n    <path d=\"M 370.104688 227.401464 \r\nL 370.104688 9.961464 \r\n\" style=\"fill:none;stroke:#000000;stroke-linecap:square;stroke-linejoin:miter;stroke-width:0.8;\"/>\r\n   </g>\r\n   <g id=\"patch_5\">\r\n    <path d=\"M 35.304688 227.401464 \r\nL 370.104688 227.401464 \r\n\" style=\"fill:none;stroke:#000000;stroke-linecap:square;stroke-linejoin:miter;stroke-width:0.8;\"/>\r\n   </g>\r\n   <g id=\"patch_6\">\r\n    <path d=\"M 35.304688 9.961464 \r\nL 370.104688 9.961464 \r\n\" style=\"fill:none;stroke:#000000;stroke-linecap:square;stroke-linejoin:miter;stroke-width:0.8;\"/>\r\n   </g>\r\n   <g id=\"legend_1\">\r\n    <g id=\"patch_7\">\r\n     <path d=\"M 42.304688 222.401464 \r\nL 82.004688 222.401464 \r\nQ 84.004688 222.401464 84.004688 220.401464 \r\nL 84.004688 162.688964 \r\nQ 84.004688 160.688964 82.004688 160.688964 \r\nL 42.304688 160.688964 \r\nQ 40.304688 160.688964 40.304688 162.688964 \r\nL 40.304688 220.401464 \r\nQ 40.304688 222.401464 42.304688 222.401464 \r\nz\r\n\" style=\"fill:#ffffff;opacity:0.8;stroke:#cccccc;stroke-linejoin:miter;\"/>\r\n    </g>\r\n    <g id=\"line2d_45\">\r\n     <path d=\"M 44.304688 168.787401 \r\nL 64.304688 168.787401 \r\n\" style=\"fill:none;stroke:#1f77b4;stroke-linecap:square;stroke-width:1.5;\"/>\r\n    </g>\r\n    <g id=\"line2d_46\"/>\r\n    <g id=\"text_13\">\r\n     <!-- A -->\r\n     <g transform=\"translate(72.304688 172.287401)scale(0.1 -0.1)\">\r\n      <defs>\r\n       <path d=\"M 34.1875 63.1875 \r\nL 20.796875 26.90625 \r\nL 47.609375 26.90625 \r\nz\r\nM 28.609375 72.90625 \r\nL 39.796875 72.90625 \r\nL 67.578125 0 \r\nL 57.328125 0 \r\nL 50.6875 18.703125 \r\nL 17.828125 18.703125 \r\nL 11.1875 0 \r\nL 0.78125 0 \r\nz\r\n\" id=\"DejaVuSans-65\"/>\r\n      </defs>\r\n      <use xlink:href=\"#DejaVuSans-65\"/>\r\n     </g>\r\n    </g>\r\n    <g id=\"line2d_47\">\r\n     <path d=\"M 44.304688 183.465526 \r\nL 64.304688 183.465526 \r\n\" style=\"fill:none;stroke:#ff7f0e;stroke-linecap:square;stroke-width:1.5;\"/>\r\n    </g>\r\n    <g id=\"line2d_48\"/>\r\n    <g id=\"text_14\">\r\n     <!-- B -->\r\n     <g transform=\"translate(72.304688 186.965526)scale(0.1 -0.1)\">\r\n      <defs>\r\n       <path d=\"M 19.671875 34.8125 \r\nL 19.671875 8.109375 \r\nL 35.5 8.109375 \r\nQ 43.453125 8.109375 47.28125 11.40625 \r\nQ 51.125 14.703125 51.125 21.484375 \r\nQ 51.125 28.328125 47.28125 31.5625 \r\nQ 43.453125 34.8125 35.5 34.8125 \r\nz\r\nM 19.671875 64.796875 \r\nL 19.671875 42.828125 \r\nL 34.28125 42.828125 \r\nQ 41.5 42.828125 45.03125 45.53125 \r\nQ 48.578125 48.25 48.578125 53.8125 \r\nQ 48.578125 59.328125 45.03125 62.0625 \r\nQ 41.5 64.796875 34.28125 64.796875 \r\nz\r\nM 9.8125 72.90625 \r\nL 35.015625 72.90625 \r\nQ 46.296875 72.90625 52.390625 68.21875 \r\nQ 58.5 63.53125 58.5 54.890625 \r\nQ 58.5 48.1875 55.375 44.234375 \r\nQ 52.25 40.28125 46.1875 39.3125 \r\nQ 53.46875 37.75 57.5 32.78125 \r\nQ 61.53125 27.828125 61.53125 20.40625 \r\nQ 61.53125 10.640625 54.890625 5.3125 \r\nQ 48.25 0 35.984375 0 \r\nL 9.8125 0 \r\nz\r\n\" id=\"DejaVuSans-66\"/>\r\n      </defs>\r\n      <use xlink:href=\"#DejaVuSans-66\"/>\r\n     </g>\r\n    </g>\r\n    <g id=\"line2d_49\">\r\n     <path d=\"M 44.304688 198.143651 \r\nL 64.304688 198.143651 \r\n\" style=\"fill:none;stroke:#2ca02c;stroke-linecap:square;stroke-width:1.5;\"/>\r\n    </g>\r\n    <g id=\"line2d_50\"/>\r\n    <g id=\"text_15\">\r\n     <!-- C -->\r\n     <g transform=\"translate(72.304688 201.643651)scale(0.1 -0.1)\">\r\n      <defs>\r\n       <path d=\"M 64.40625 67.28125 \r\nL 64.40625 56.890625 \r\nQ 59.421875 61.53125 53.78125 63.8125 \r\nQ 48.140625 66.109375 41.796875 66.109375 \r\nQ 29.296875 66.109375 22.65625 58.46875 \r\nQ 16.015625 50.828125 16.015625 36.375 \r\nQ 16.015625 21.96875 22.65625 14.328125 \r\nQ 29.296875 6.6875 41.796875 6.6875 \r\nQ 48.140625 6.6875 53.78125 8.984375 \r\nQ 59.421875 11.28125 64.40625 15.921875 \r\nL 64.40625 5.609375 \r\nQ 59.234375 2.09375 53.4375 0.328125 \r\nQ 47.65625 -1.421875 41.21875 -1.421875 \r\nQ 24.65625 -1.421875 15.125 8.703125 \r\nQ 5.609375 18.84375 5.609375 36.375 \r\nQ 5.609375 53.953125 15.125 64.078125 \r\nQ 24.65625 74.21875 41.21875 74.21875 \r\nQ 47.75 74.21875 53.53125 72.484375 \r\nQ 59.328125 70.75 64.40625 67.28125 \r\nz\r\n\" id=\"DejaVuSans-67\"/>\r\n      </defs>\r\n      <use xlink:href=\"#DejaVuSans-67\"/>\r\n     </g>\r\n    </g>\r\n    <g id=\"line2d_51\">\r\n     <path d=\"M 44.304688 212.821776 \r\nL 64.304688 212.821776 \r\n\" style=\"fill:none;stroke:#d62728;stroke-linecap:square;stroke-width:1.5;\"/>\r\n    </g>\r\n    <g id=\"line2d_52\"/>\r\n    <g id=\"text_16\">\r\n     <!-- D -->\r\n     <g transform=\"translate(72.304688 216.321776)scale(0.1 -0.1)\">\r\n      <defs>\r\n       <path d=\"M 19.671875 64.796875 \r\nL 19.671875 8.109375 \r\nL 31.59375 8.109375 \r\nQ 46.6875 8.109375 53.6875 14.9375 \r\nQ 60.6875 21.78125 60.6875 36.53125 \r\nQ 60.6875 51.171875 53.6875 57.984375 \r\nQ 46.6875 64.796875 31.59375 64.796875 \r\nz\r\nM 9.8125 72.90625 \r\nL 30.078125 72.90625 \r\nQ 51.265625 72.90625 61.171875 64.09375 \r\nQ 71.09375 55.28125 71.09375 36.53125 \r\nQ 71.09375 17.671875 61.125 8.828125 \r\nQ 51.171875 0 30.078125 0 \r\nL 9.8125 0 \r\nz\r\n\" id=\"DejaVuSans-68\"/>\r\n      </defs>\r\n      <use xlink:href=\"#DejaVuSans-68\"/>\r\n     </g>\r\n    </g>\r\n   </g>\r\n  </g>\r\n </g>\r\n <defs>\r\n  <clipPath id=\"p51499ed26c\">\r\n   <rect height=\"217.44\" width=\"334.8\" x=\"35.304688\" y=\"9.961464\"/>\r\n  </clipPath>\r\n </defs>\r\n</svg>\r\n",
      "image/png": "[encoded data removed]"
     },
     "metadata": {
      "needs_background": "light"
     }
    }
   ],
   "source": [
    "ts = pd.DataFrame(np.random.randn(1000, 4),\n",
    "   .....:                index=pd.date_range('1/1/2000', periods=1000), columns=['A', 'B', 'C', 'D'])\n",
    "   .....: \n",
    "ts = ts.cumsum() \n",
    "# 计算累计和\n",
    "plt.figure()\n",
    "ts.plot()\n",
    "plt.legend(loc='best')"
   ]
  },
  {
   "source": [
    "## 11. 数据读入/读出"
   ],
   "cell_type": "markdown",
   "metadata": {}
  },
  {
   "cell_type": "code",
   "execution_count": 57,
   "metadata": {},
   "outputs": [],
   "source": [
    "df = pd.read_csv('dataset\\housing.csv')"
   ]
  },
  {
   "cell_type": "code",
   "execution_count": 58,
   "metadata": {},
   "outputs": [
    {
     "output_type": "execute_result",
     "data": {
      "text/plain": [
       "          longitude      latitude  housing_median_age   total_rooms  \\\n",
       "count  20640.000000  20640.000000        20640.000000  20640.000000   \n",
       "mean    -119.569704     35.631861           28.639486   2635.763081   \n",
       "std        2.003532      2.135952           12.585558   2181.615252   \n",
       "min     -124.350000     32.540000            1.000000      2.000000   \n",
       "25%     -121.800000     33.930000           18.000000   1447.750000   \n",
       "50%     -118.490000     34.260000           29.000000   2127.000000   \n",
       "75%     -118.010000     37.710000           37.000000   3148.000000   \n",
       "max     -114.310000     41.950000           52.000000  39320.000000   \n",
       "\n",
       "       total_bedrooms    population    households  median_income  \\\n",
       "count    20433.000000  20640.000000  20640.000000   20640.000000   \n",
       "mean       537.870553   1425.476744    499.539680       3.870671   \n",
       "std        421.385070   1132.462122    382.329753       1.899822   \n",
       "min          1.000000      3.000000      1.000000       0.499900   \n",
       "25%        296.000000    787.000000    280.000000       2.563400   \n",
       "50%        435.000000   1166.000000    409.000000       3.534800   \n",
       "75%        647.000000   1725.000000    605.000000       4.743250   \n",
       "max       6445.000000  35682.000000   6082.000000      15.000100   \n",
       "\n",
       "       median_house_value  \n",
       "count        20640.000000  \n",
       "mean        206855.816909  \n",
       "std         115395.615874  \n",
       "min          14999.000000  \n",
       "25%         119600.000000  \n",
       "50%         179700.000000  \n",
       "75%         264725.000000  \n",
       "max         500001.000000  "
      ],
      "text/html": "<div>\n<style scoped>\n    .dataframe tbody tr th:only-of-type {\n        vertical-align: middle;\n    }\n\n    .dataframe tbody tr th {\n        vertical-align: top;\n    }\n\n    .dataframe thead th {\n        text-align: right;\n    }\n</style>\n<table border=\"1\" class=\"dataframe\">\n  <thead>\n    <tr style=\"text-align: right;\">\n      <th></th>\n      <th>longitude</th>\n      <th>latitude</th>\n      <th>housing_median_age</th>\n      <th>total_rooms</th>\n      <th>total_bedrooms</th>\n      <th>population</th>\n      <th>households</th>\n      <th>median_income</th>\n      <th>median_house_value</th>\n    </tr>\n  </thead>\n  <tbody>\n    <tr>\n      <th>count</th>\n      <td>20640.000000</td>\n      <td>20640.000000</td>\n      <td>20640.000000</td>\n      <td>20640.000000</td>\n      <td>20433.000000</td>\n      <td>20640.000000</td>\n      <td>20640.000000</td>\n      <td>20640.000000</td>\n      <td>20640.000000</td>\n    </tr>\n    <tr>\n      <th>mean</th>\n      <td>-119.569704</td>\n      <td>35.631861</td>\n      <td>28.639486</td>\n      <td>2635.763081</td>\n      <td>537.870553</td>\n      <td>1425.476744</td>\n      <td>499.539680</td>\n      <td>3.870671</td>\n      <td>206855.816909</td>\n    </tr>\n    <tr>\n      <th>std</th>\n      <td>2.003532</td>\n      <td>2.135952</td>\n      <td>12.585558</td>\n      <td>2181.615252</td>\n      <td>421.385070</td>\n      <td>1132.462122</td>\n      <td>382.329753</td>\n      <td>1.899822</td>\n      <td>115395.615874</td>\n    </tr>\n    <tr>\n      <th>min</th>\n      <td>-124.350000</td>\n      <td>32.540000</td>\n      <td>1.000000</td>\n      <td>2.000000</td>\n      <td>1.000000</td>\n      <td>3.000000</td>\n      <td>1.000000</td>\n      <td>0.499900</td>\n      <td>14999.000000</td>\n    </tr>\n    <tr>\n      <th>25%</th>\n      <td>-121.800000</td>\n      <td>33.930000</td>\n      <td>18.000000</td>\n      <td>1447.750000</td>\n      <td>296.000000</td>\n      <td>787.000000</td>\n      <td>280.000000</td>\n      <td>2.563400</td>\n      <td>119600.000000</td>\n    </tr>\n    <tr>\n      <th>50%</th>\n      <td>-118.490000</td>\n      <td>34.260000</td>\n      <td>29.000000</td>\n      <td>2127.000000</td>\n      <td>435.000000</td>\n      <td>1166.000000</td>\n      <td>409.000000</td>\n      <td>3.534800</td>\n      <td>179700.000000</td>\n    </tr>\n    <tr>\n      <th>75%</th>\n      <td>-118.010000</td>\n      <td>37.710000</td>\n      <td>37.000000</td>\n      <td>3148.000000</td>\n      <td>647.000000</td>\n      <td>1725.000000</td>\n      <td>605.000000</td>\n      <td>4.743250</td>\n      <td>264725.000000</td>\n    </tr>\n    <tr>\n      <th>max</th>\n      <td>-114.310000</td>\n      <td>41.950000</td>\n      <td>52.000000</td>\n      <td>39320.000000</td>\n      <td>6445.000000</td>\n      <td>35682.000000</td>\n      <td>6082.000000</td>\n      <td>15.000100</td>\n      <td>500001.000000</td>\n    </tr>\n  </tbody>\n</table>\n</div>"
     },
     "metadata": {},
     "execution_count": 58
    }
   ],
   "source": [
    "df.describe()"
   ]
  },
  {
   "cell_type": "code",
   "execution_count": 61,
   "metadata": {},
   "outputs": [
    {
     "output_type": "stream",
     "name": "stdout",
     "text": [
      "<class 'pandas.core.frame.DataFrame'>\nRangeIndex: 20640 entries, 0 to 20639\nData columns (total 10 columns):\n #   Column              Non-Null Count  Dtype  \n---  ------              --------------  -----  \n 0   longitude           20640 non-null  float64\n 1   latitude            20640 non-null  float64\n 2   housing_median_age  20640 non-null  float64\n 3   total_rooms         20640 non-null  float64\n 4   total_bedrooms      20433 non-null  float64\n 5   population          20640 non-null  float64\n 6   households          20640 non-null  float64\n 7   median_income       20640 non-null  float64\n 8   median_house_value  20640 non-null  float64\n 9   ocean_proximity     20640 non-null  object \ndtypes: float64(9), object(1)\nmemory usage: 1.6+ MB\n"
     ]
    }
   ],
   "source": [
    "df.info()"
   ]
  },
  {
   "cell_type": "code",
   "execution_count": 62,
   "metadata": {},
   "outputs": [
    {
     "output_type": "execute_result",
     "data": {
      "text/plain": [
       "   longitude  latitude  housing_median_age  total_rooms  total_bedrooms  \\\n",
       "0    -122.23     37.88                41.0        880.0           129.0   \n",
       "1    -122.22     37.86                21.0       7099.0          1106.0   \n",
       "2    -122.24     37.85                52.0       1467.0           190.0   \n",
       "3    -122.25     37.85                52.0       1274.0           235.0   \n",
       "4    -122.25     37.85                52.0       1627.0           280.0   \n",
       "5    -122.25     37.85                52.0        919.0           213.0   \n",
       "6    -122.25     37.84                52.0       2535.0           489.0   \n",
       "7    -122.25     37.84                52.0       3104.0           687.0   \n",
       "8    -122.26     37.84                42.0       2555.0           665.0   \n",
       "9    -122.25     37.84                52.0       3549.0           707.0   \n",
       "\n",
       "   population  households  median_income  median_house_value ocean_proximity  \n",
       "0       322.0       126.0         8.3252            452600.0        NEAR BAY  \n",
       "1      2401.0      1138.0         8.3014            358500.0        NEAR BAY  \n",
       "2       496.0       177.0         7.2574            352100.0        NEAR BAY  \n",
       "3       558.0       219.0         5.6431            341300.0        NEAR BAY  \n",
       "4       565.0       259.0         3.8462            342200.0        NEAR BAY  \n",
       "5       413.0       193.0         4.0368            269700.0        NEAR BAY  \n",
       "6      1094.0       514.0         3.6591            299200.0        NEAR BAY  \n",
       "7      1157.0       647.0         3.1200            241400.0        NEAR BAY  \n",
       "8      1206.0       595.0         2.0804            226700.0        NEAR BAY  \n",
       "9      1551.0       714.0         3.6912            261100.0        NEAR BAY  "
      ],
      "text/html": "<div>\n<style scoped>\n    .dataframe tbody tr th:only-of-type {\n        vertical-align: middle;\n    }\n\n    .dataframe tbody tr th {\n        vertical-align: top;\n    }\n\n    .dataframe thead th {\n        text-align: right;\n    }\n</style>\n<table border=\"1\" class=\"dataframe\">\n  <thead>\n    <tr style=\"text-align: right;\">\n      <th></th>\n      <th>longitude</th>\n      <th>latitude</th>\n      <th>housing_median_age</th>\n      <th>total_rooms</th>\n      <th>total_bedrooms</th>\n      <th>population</th>\n      <th>households</th>\n      <th>median_income</th>\n      <th>median_house_value</th>\n      <th>ocean_proximity</th>\n    </tr>\n  </thead>\n  <tbody>\n    <tr>\n      <th>0</th>\n      <td>-122.23</td>\n      <td>37.88</td>\n      <td>41.0</td>\n      <td>880.0</td>\n      <td>129.0</td>\n      <td>322.0</td>\n      <td>126.0</td>\n      <td>8.3252</td>\n      <td>452600.0</td>\n      <td>NEAR BAY</td>\n    </tr>\n    <tr>\n      <th>1</th>\n      <td>-122.22</td>\n      <td>37.86</td>\n      <td>21.0</td>\n      <td>7099.0</td>\n      <td>1106.0</td>\n      <td>2401.0</td>\n      <td>1138.0</td>\n      <td>8.3014</td>\n      <td>358500.0</td>\n      <td>NEAR BAY</td>\n    </tr>\n    <tr>\n      <th>2</th>\n      <td>-122.24</td>\n      <td>37.85</td>\n      <td>52.0</td>\n      <td>1467.0</td>\n      <td>190.0</td>\n      <td>496.0</td>\n      <td>177.0</td>\n      <td>7.2574</td>\n      <td>352100.0</td>\n      <td>NEAR BAY</td>\n    </tr>\n    <tr>\n      <th>3</th>\n      <td>-122.25</td>\n      <td>37.85</td>\n      <td>52.0</td>\n      <td>1274.0</td>\n      <td>235.0</td>\n      <td>558.0</td>\n      <td>219.0</td>\n      <td>5.6431</td>\n      <td>341300.0</td>\n      <td>NEAR BAY</td>\n    </tr>\n    <tr>\n      <th>4</th>\n      <td>-122.25</td>\n      <td>37.85</td>\n      <td>52.0</td>\n      <td>1627.0</td>\n      <td>280.0</td>\n      <td>565.0</td>\n      <td>259.0</td>\n      <td>3.8462</td>\n      <td>342200.0</td>\n      <td>NEAR BAY</td>\n    </tr>\n    <tr>\n      <th>5</th>\n      <td>-122.25</td>\n      <td>37.85</td>\n      <td>52.0</td>\n      <td>919.0</td>\n      <td>213.0</td>\n      <td>413.0</td>\n      <td>193.0</td>\n      <td>4.0368</td>\n      <td>269700.0</td>\n      <td>NEAR BAY</td>\n    </tr>\n    <tr>\n      <th>6</th>\n      <td>-122.25</td>\n      <td>37.84</td>\n      <td>52.0</td>\n      <td>2535.0</td>\n      <td>489.0</td>\n      <td>1094.0</td>\n      <td>514.0</td>\n      <td>3.6591</td>\n      <td>299200.0</td>\n      <td>NEAR BAY</td>\n    </tr>\n    <tr>\n      <th>7</th>\n      <td>-122.25</td>\n      <td>37.84</td>\n      <td>52.0</td>\n      <td>3104.0</td>\n      <td>687.0</td>\n      <td>1157.0</td>\n      <td>647.0</td>\n      <td>3.1200</td>\n      <td>241400.0</td>\n      <td>NEAR BAY</td>\n    </tr>\n    <tr>\n      <th>8</th>\n      <td>-122.26</td>\n      <td>37.84</td>\n      <td>42.0</td>\n      <td>2555.0</td>\n      <td>665.0</td>\n      <td>1206.0</td>\n      <td>595.0</td>\n      <td>2.0804</td>\n      <td>226700.0</td>\n      <td>NEAR BAY</td>\n    </tr>\n    <tr>\n      <th>9</th>\n      <td>-122.25</td>\n      <td>37.84</td>\n      <td>52.0</td>\n      <td>3549.0</td>\n      <td>707.0</td>\n      <td>1551.0</td>\n      <td>714.0</td>\n      <td>3.6912</td>\n      <td>261100.0</td>\n      <td>NEAR BAY</td>\n    </tr>\n  </tbody>\n</table>\n</div>"
     },
     "metadata": {},
     "execution_count": 62
    }
   ],
   "source": [
    "df.head(10)"
   ]
  },
  {
   "cell_type": "code",
   "execution_count": null,
   "metadata": {},
   "outputs": [],
   "source": []
  }
 ]
}