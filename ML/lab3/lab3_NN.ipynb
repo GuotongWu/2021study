{
 "metadata": {
  "language_info": {
   "codemirror_mode": {
    "name": "ipython",
    "version": 3
   },
   "file_extension": ".py",
   "mimetype": "text/x-python",
   "name": "python",
   "nbconvert_exporter": "python",
   "pygments_lexer": "ipython3",
   "version": "3.9.2"
  },
  "orig_nbformat": 2,
  "kernelspec": {
   "name": "python392jvsc74a57bd04ce0e62306dd6a5716965d4519ada776f947e6dfc145b604b11307c10277ef29",
   "display_name": "Python 3.9.2 64-bit"
  }
 },
 "nbformat": 4,
 "nbformat_minor": 2,
 "cells": [
  {
   "source": [
    "# lab3: Nerual Network"
   ],
   "cell_type": "markdown",
   "metadata": {}
  },
  {
   "cell_type": "code",
   "execution_count": 2,
   "metadata": {},
   "outputs": [],
   "source": [
    "%matplotlib inline\n",
    "import numpy as np\n",
    "import matplotlib\n",
    "import pandas as pd\n",
    "import matplotlib.pyplot as plt\n",
    "import scipy.optimize as op\n",
    "import scipy\n",
    "from scipy import io"
   ]
  },
  {
   "source": [
    "## 1. load data"
   ],
   "cell_type": "markdown",
   "metadata": {}
  },
  {
   "cell_type": "code",
   "execution_count": 3,
   "metadata": {},
   "outputs": [
    {
     "output_type": "stream",
     "name": "stdout",
     "text": [
      "['__header__', '__version__', '__globals__', 'X', 'y']\n['__header__', '__version__', '__globals__', 'Theta1', 'Theta2']\n"
     ]
    }
   ],
   "source": [
    "data1 = io.loadmat('ex3data1.mat')\n",
    "print(list(data1.keys()))\n",
    "data2 = io.loadmat('ex3weights.mat')\n",
    "print(list(data2.keys()))"
   ]
  },
  {
   "cell_type": "code",
   "execution_count": 4,
   "metadata": {},
   "outputs": [
    {
     "output_type": "stream",
     "name": "stdout",
     "text": [
      "(5000, 400)\n(5000, 1)\n(25, 401)\n(10, 26)\n"
     ]
    }
   ],
   "source": [
    "X = data1['X']\n",
    "y = data1['y']\n",
    "Theta1 = data2['Theta1']\n",
    "Theta2 = data2['Theta2']\n",
    "m = X.shape[0]\n",
    "n = X.shape[1]\n",
    "\n",
    "print(X.shape)\n",
    "print(y.shape)\n",
    "print(Theta1.shape)\n",
    "print(Theta2.shape)"
   ]
  },
  {
   "source": [
    "## 2. predict"
   ],
   "cell_type": "markdown",
   "metadata": {}
  },
  {
   "cell_type": "code",
   "execution_count": 5,
   "metadata": {},
   "outputs": [],
   "source": [
    "def addLeftColumn(X):\n",
    "    '''add np.ones as a column on the left of X\n",
    "    '''\n",
    "    m = X.shape[0]\n",
    "    return np.hstack((np.ones((m,1)), X))"
   ]
  },
  {
   "cell_type": "code",
   "execution_count": 6,
   "metadata": {},
   "outputs": [],
   "source": [
    "def sigmoid(z):\n",
    "    return 1/(1+np.exp(-z))"
   ]
  },
  {
   "cell_type": "code",
   "execution_count": 7,
   "metadata": {},
   "outputs": [],
   "source": [
    "def predict(X, Theta1, Theta2):\n",
    "    '''tow-layer nn\n",
    "    '''\n",
    "    m = X.shape[0]\n",
    "    # a1.shape=(25, 5000)\n",
    "    # z1.shape=(5000, 25)\n",
    "    X = addLeftColumn(X)\n",
    "    a1 = np.dot(Theta1, X.T)\n",
    "    z1 = sigmoid(a1).T\n",
    "    # z1.shape=(5000,26)\n",
    "    # a2.shape=(10,5000)\n",
    "    z1 = addLeftColumn(z1)\n",
    "    a2 = np.dot(Theta2, z1.T)\n",
    "    z2 = sigmoid(a2).T\n",
    "    # return predict\n",
    "    predict = np.argmax(z2, axis=1).reshape((m,1)) + 1\n",
    "    return predict"
   ]
  },
  {
   "cell_type": "code",
   "execution_count": 8,
   "metadata": {},
   "outputs": [
    {
     "output_type": "stream",
     "name": "stdout",
     "text": [
      "Train accuracy = 97.52%\n"
     ]
    }
   ],
   "source": [
    "p = predict(X, Theta1, Theta2)\n",
    "print('Train accuracy = {}%'.format(100*np.mean(p==y)) )"
   ]
  }
 ]
}