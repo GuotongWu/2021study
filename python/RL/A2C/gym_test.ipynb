{
 "cells": [
  {
   "cell_type": "code",
   "execution_count": 1,
   "metadata": {},
   "outputs": [
    {
     "name": "stdout",
     "output_type": "stream",
     "text": [
      "Box([-1. -1. -8.], [1. 1. 8.], (3,), float32)\n",
      "Box([-2.], [2.], (1,), float32)\n"
     ]
    }
   ],
   "source": [
    "import gym\n",
    "env = gym.make('Pendulum-v1')\n",
    "\n",
    "print(env.observation_space)\n",
    "print(env.action_space)"
   ]
  },
  {
   "cell_type": "code",
   "execution_count": 27,
   "metadata": {},
   "outputs": [
    {
     "data": {
      "text/plain": [
       "200"
      ]
     },
     "execution_count": 27,
     "metadata": {},
     "output_type": "execute_result"
    }
   ],
   "source": [
    "env.reset()\n",
    "num_random_step = 0\n",
    "done = False\n",
    "while not done:\n",
    "    ob, ew, done, _ = env.step(env.action_space.sample())\n",
    "    env.render()\n",
    "    num_random_step += 1\n",
    "env.close()\n",
    "num_random_step"
   ]
  },
  {
   "cell_type": "code",
   "execution_count": 26,
   "metadata": {},
   "outputs": [
    {
     "data": {
      "text/plain": [
       "200"
      ]
     },
     "execution_count": 26,
     "metadata": {},
     "output_type": "execute_result"
    }
   ],
   "source": [
    "import torch\n",
    "from a2c import Actor\n",
    "actor = Actor(3, 1, 32)\n",
    "actor.load_state_dict(torch.load(\"./outputs/actor.pt\", map_location='cpu'))\n",
    "\n",
    "ob = env.reset()\n",
    "done = False\n",
    "num_dpgg_step = 0\n",
    "while not done:\n",
    "    ob = torch.FloatTensor(ob)\n",
    "    action = actor(ob).detach().cpu().numpy()\n",
    "    ne_ob, ew, done, _ = env.step(action)\n",
    "    ob = ne_ob\n",
    "    num_dpgg_step += 1\n",
    "    env.render()\n",
    "env.close()\n",
    "num_dpgg_step"
   ]
  },
  {
   "cell_type": "code",
   "execution_count": null,
   "metadata": {},
   "outputs": [],
   "source": []
  },
  {
   "cell_type": "code",
   "execution_count": null,
   "metadata": {},
   "outputs": [],
   "source": []
  }
 ],
 "metadata": {
  "interpreter": {
   "hash": "4ce0e62306dd6a5716965d4519ada776f947e6dfc145b604b11307c10277ef29"
  },
  "kernelspec": {
   "display_name": "Python 3.9.2 64-bit",
   "language": "python",
   "name": "python3"
  },
  "language_info": {
   "codemirror_mode": {
    "name": "ipython",
    "version": 3
   },
   "file_extension": ".py",
   "mimetype": "text/x-python",
   "name": "python",
   "nbconvert_exporter": "python",
   "pygments_lexer": "ipython3",
   "version": "3.9.2"
  },
  "orig_nbformat": 4
 },
 "nbformat": 4,
 "nbformat_minor": 2
}
