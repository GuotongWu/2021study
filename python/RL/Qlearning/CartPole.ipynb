{
 "cells": [
  {
   "cell_type": "code",
   "execution_count": 1,
   "metadata": {},
   "outputs": [],
   "source": [
    "import torch\n",
    "import gym"
   ]
  },
  {
   "cell_type": "code",
   "execution_count": 2,
   "metadata": {},
   "outputs": [],
   "source": [
    "import random\n",
    "import numpy as np\n",
    "import matplotlib.pyplot as plt\n",
    "\n",
    "%matplotlib inline"
   ]
  },
  {
   "cell_type": "code",
   "execution_count": 3,
   "metadata": {},
   "outputs": [
    {
     "data": {
      "text/plain": [
       "array([-0.01503433,  0.00755514,  0.00194326, -0.04184345], dtype=float32)"
      ]
     },
     "execution_count": 3,
     "metadata": {},
     "output_type": "execute_result"
    }
   ],
   "source": [
    "env = gym.make('CartPole-v0')\n",
    "env.reset()"
   ]
  },
  {
   "cell_type": "code",
   "execution_count": 7,
   "metadata": {},
   "outputs": [
    {
     "name": "stdout",
     "output_type": "stream",
     "text": [
      "cpu\n",
      "2\n",
      "4\n"
     ]
    }
   ],
   "source": [
    "config = {\n",
    "    'device': 'cuda' if torch.cuda.is_available() else 'cpu',\n",
    "    'epoc': 60,\n",
    "    'learning_rate': 0.001,\n",
    "    'epsilon': 0.9,\n",
    "    'discount': 0.8,\n",
    "    'n_action': env.action_space.n, \n",
    "    'n_state': 4,  \n",
    "    'n_hidden': 128,\n",
    "    'batch_size': 64, \n",
    "    'buffer_capacity': 100000\n",
    "}\n",
    "\n",
    "print(config['device'])\n",
    "print(config['n_action'])\n",
    "print(config['n_state'])"
   ]
  },
  {
   "cell_type": "code",
   "execution_count": 8,
   "metadata": {},
   "outputs": [],
   "source": [
    "class DQN(torch.nn.Module):\n",
    "    def __init__(self, input_dim, output_dim, hidden_dim) -> None:\n",
    "        super(DQN, self).__init__()\n",
    "        self.fc1 = torch.nn.Linear(input_dim, hidden_dim)\n",
    "        self.fc2 = torch.nn.Linear(hidden_dim, hidden_dim)\n",
    "        self.fc3 = torch.nn.Linear(hidden_dim, output_dim)\n",
    "\n",
    "    def forward(self, x):\n",
    "        x = torch.nn.functional.relu(self.fc1(x))\n",
    "        x = torch.nn.functional.relu(self.fc2(x))\n",
    "        return self.fc3(x)\n",
    "\n",
    "net = DQN(config['n_state'], config['n_action'], config['n_hidden']).to(config['device'])\n",
    "target_net = DQN(config['n_state'], config['n_action'], config['n_hidden']).to(config['device'])"
   ]
  },
  {
   "cell_type": "code",
   "execution_count": 9,
   "metadata": {},
   "outputs": [],
   "source": [
    "def choose_act(state, net:DQN, config):\n",
    "    if random.uniform(0,1) < config['epsilon']:\n",
    "        state = torch.FloatTensor(state).unsqueeze(dim=0).to(config['device'])\n",
    "        with torch.no_grad():\n",
    "            return torch.argmax(net(state), dim=1).item()\n",
    "    else:\n",
    "        return random.randrange(config['n_action'])\n",
    "         "
   ]
  },
  {
   "cell_type": "code",
   "execution_count": 10,
   "metadata": {},
   "outputs": [],
   "source": [
    "class Buffer():\n",
    "    def __init__(self, capacity) -> None:\n",
    "        self.total_record = []\n",
    "        self.capacity = capacity\n",
    "        self.position = 0\n",
    "\n",
    "    def push_buffer(self, buffer_record):\n",
    "        if len(self.total_record) < self.capacity:\n",
    "            self.total_record.append(None)\n",
    "        self.total_record[self.position] = buffer_record\n",
    "        self.position = (self.position + 1) % self.capacity\n",
    "\n",
    "    def sample(self, batch_size):\n",
    "        batch = random.sample(self.total_record, batch_size)\n",
    "        a, s, next_s, r, done = zip(*batch)\n",
    "        return a, s, next_s, r, done\n",
    "        \n",
    "buffer = Buffer(config['buffer_capacity'])"
   ]
  },
  {
   "cell_type": "code",
   "execution_count": 11,
   "metadata": {},
   "outputs": [],
   "source": [
    "def update(optimize, buffer:Buffer, config, target_net:DQN, net:DQN):\n",
    "    if len(buffer.total_record) < config['batch_size']:\n",
    "        return \n",
    "    device = config['device']\n",
    "    sample_a, sample_s, sample_next_s, sample_r, sample_done = buffer.sample(config['batch_size'])\n",
    "    sample_a, sample_s, sample_next_s, sample_r, sample_done = \\\n",
    "        torch.LongTensor(sample_a).unsqueeze(1).to(device), \\\n",
    "        torch.FloatTensor(sample_s).to(device), \\\n",
    "        torch.FloatTensor(sample_next_s).to(device), \\\n",
    "        torch.FloatTensor(sample_r).to(device), \\\n",
    "        torch.FloatTensor(np.float32(sample_done)).to(device)\n",
    "    qvalue = net(sample_s).gather(dim=1, index=sample_a).squeeze(1)\n",
    "    expect_qvalue = sample_r + config['discount'] * torch.max(target_net(sample_next_s), dim=1)[0] * (1-sample_done)\n",
    "\n",
    "    loss = torch.nn.MSELoss()(qvalue, expect_qvalue)\n",
    "\n",
    "    optimize.zero_grad()\n",
    "    loss.backward()\n",
    "    optimize.step()"
   ]
  },
  {
   "cell_type": "code",
   "execution_count": 12,
   "metadata": {},
   "outputs": [],
   "source": [
    "def train(env, config, buffer:Buffer, net:DQN, target_net:DQN):\n",
    "    optimize = torch.optim.Adam(net.parameters(), lr=config['learning_rate'])\n",
    "    total_reward = []\n",
    "    for i in range(1, config['epoc']+1):\n",
    "        buffer_s = env.reset()\n",
    "        ep_reward = 0\n",
    "        while True:\n",
    "            buffer_a = choose_act(buffer_s, net, config)\n",
    "            buffer_next_s, buffer_r, buffer_done, _ = env.step(buffer_a)\n",
    "            buffer.push_buffer((buffer_a, buffer_s, buffer_next_s, buffer_r, buffer_done))\n",
    "            buffer_s = buffer_next_s\n",
    "            update(optimize, buffer, config, target_net, net)\n",
    "            ep_reward += buffer_r\n",
    "            if buffer_done:\n",
    "                break\n",
    "\n",
    "        total_reward.append(ep_reward)\n",
    "        if i % 10 == 0:\n",
    "            print('epoc: {}|{}, reward = {}'.format(i, config['epoc'], ep_reward))\n",
    "\n",
    "        if i % 5 == 0:\n",
    "            target_net.load_state_dict(net.state_dict())\n",
    "    \n",
    "    return total_reward"
   ]
  },
  {
   "cell_type": "code",
   "execution_count": 13,
   "metadata": {},
   "outputs": [],
   "source": [
    "def plot(record):\n",
    "    plt.plot(range(len(record)), record)\n",
    "    plt.show()"
   ]
  },
  {
   "cell_type": "code",
   "execution_count": 14,
   "metadata": {},
   "outputs": [
    {
     "name": "stdout",
     "output_type": "stream",
     "text": [
      "epoc: 10|60, reward = 9.0\n",
      "epoc: 20|60, reward = 11.0\n",
      "epoc: 30|60, reward = 11.0\n",
      "epoc: 40|60, reward = 9.0\n",
      "epoc: 50|60, reward = 77.0\n",
      "epoc: 60|60, reward = 159.0\n"
     ]
    },
    {
     "data": {
      "image/png": "[encoded data removed]",
      "text/plain": [
       "<Figure size 432x288 with 1 Axes>"
      ]
     },
     "metadata": {
      "needs_background": "light"
     },
     "output_type": "display_data"
    }
   ],
   "source": [
    "total_reward = train(env, config, buffer, net, target_net)\n",
    "plot(total_reward)"
   ]
  },
  {
   "cell_type": "code",
   "execution_count": 15,
   "metadata": {},
   "outputs": [],
   "source": [
    "def eval(net, env, config):\n",
    "    s = env.reset()\n",
    "    while True:\n",
    "        env.render()\n",
    "        s = torch.FloatTensor(s).unsqueeze(dim=0).to(config['device'])\n",
    "        with torch.no_grad():\n",
    "            a = torch.argmax(net(s), dim=1).cpu().item()\n",
    "        next_s, reward, done, _ = env.step(a)\n",
    "        s = next_s\n",
    "        if done:\n",
    "            break\n",
    "    env.close()"
   ]
  },
  {
   "cell_type": "code",
   "execution_count": 17,
   "metadata": {},
   "outputs": [],
   "source": [
    "eval(net, env, config)"
   ]
  },
  {
   "cell_type": "code",
   "execution_count": 18,
   "metadata": {},
   "outputs": [],
   "source": [
    "s = env.reset()\n",
    "while True:\n",
    "    env.render()\n",
    "    next_s, reward, done, _ = env.step(int(np.random.choice([0,1], 1)))\n",
    "    s = next_s\n",
    "    if done:\n",
    "        break\n",
    "env.close()"
   ]
  },
  {
   "cell_type": "code",
   "execution_count": null,
   "metadata": {},
   "outputs": [],
   "source": []
  }
 ],
 "metadata": {
  "interpreter": {
   "hash": "65ba480fb3084b922d59a06a496cd9d62706ec749c946e63e422f9cae1de365c"
  },
  "kernelspec": {
   "display_name": "Python 3.8.3 64-bit",
   "language": "python",
   "name": "python3"
  },
  "language_info": {
   "codemirror_mode": {
    "name": "ipython",
    "version": 3
   },
   "file_extension": ".py",
   "mimetype": "text/x-python",
   "name": "python",
   "nbconvert_exporter": "python",
   "pygments_lexer": "ipython3",
   "version": "3.9.2"
  },
  "orig_nbformat": 4
 },
 "nbformat": 4,
 "nbformat_minor": 2
}
